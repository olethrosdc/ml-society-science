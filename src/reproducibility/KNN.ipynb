{
 "cells": [
  {
   "cell_type": "code",
   "execution_count": 1,
   "metadata": {},
   "outputs": [],
   "source": [
    "import pandas\n",
    "import sklearn"
   ]
  },
  {
   "cell_type": "code",
   "execution_count": 2,
   "metadata": {},
   "outputs": [],
   "source": [
    "features = [\"Alcohol\", \"Malic acid\", \"Ash\", \"Alcalinity of ash\",\n",
    "    \"Magnesium\", \"Total phenols\", \"Flavanoids\", \"Nonflavanoid phenols\",\n",
    "    \"Proanthocyanins\", \"Color intensity\", \"Hue\",\n",
    "    \"OD280/OD315 of diluted wines\", \"Proline\"]\n",
    "target = 'Class'"
   ]
  },
  {
   "cell_type": "markdown",
   "metadata": {},
   "source": [
    "# Load a Data Set\n",
    "\n",
    "This is a rather simple dataset. It is easy to get a good performance with even very simple classifiers."
   ]
  },
  {
   "cell_type": "code",
   "execution_count": 3,
   "metadata": {},
   "outputs": [],
   "source": [
    "df = pandas.read_csv('https://archive.ics.uci.edu/ml/machine-learning-databases/wine/wine.data', names=[target] + features)"
   ]
  },
  {
   "cell_type": "code",
   "execution_count": 4,
   "metadata": {},
   "outputs": [
    {
     "data": {
      "text/html": [
       "<div>\n",
       "<style scoped>\n",
       "    .dataframe tbody tr th:only-of-type {\n",
       "        vertical-align: middle;\n",
       "    }\n",
       "\n",
       "    .dataframe tbody tr th {\n",
       "        vertical-align: top;\n",
       "    }\n",
       "\n",
       "    .dataframe thead th {\n",
       "        text-align: right;\n",
       "    }\n",
       "</style>\n",
       "<table border=\"1\" class=\"dataframe\">\n",
       "  <thead>\n",
       "    <tr style=\"text-align: right;\">\n",
       "      <th></th>\n",
       "      <th>Class</th>\n",
       "      <th>Alcohol</th>\n",
       "      <th>Malic acid</th>\n",
       "      <th>Ash</th>\n",
       "      <th>Alcalinity of ash</th>\n",
       "      <th>Magnesium</th>\n",
       "      <th>Total phenols</th>\n",
       "      <th>Flavanoids</th>\n",
       "      <th>Nonflavanoid phenols</th>\n",
       "      <th>Proanthocyanins</th>\n",
       "      <th>Color intensity</th>\n",
       "      <th>Hue</th>\n",
       "      <th>OD280/OD315 of diluted wines</th>\n",
       "      <th>Proline</th>\n",
       "    </tr>\n",
       "  </thead>\n",
       "  <tbody>\n",
       "    <tr>\n",
       "      <th>0</th>\n",
       "      <td>1</td>\n",
       "      <td>14.23</td>\n",
       "      <td>1.71</td>\n",
       "      <td>2.43</td>\n",
       "      <td>15.6</td>\n",
       "      <td>127</td>\n",
       "      <td>2.80</td>\n",
       "      <td>3.06</td>\n",
       "      <td>0.28</td>\n",
       "      <td>2.29</td>\n",
       "      <td>5.64</td>\n",
       "      <td>1.04</td>\n",
       "      <td>3.92</td>\n",
       "      <td>1065</td>\n",
       "    </tr>\n",
       "    <tr>\n",
       "      <th>1</th>\n",
       "      <td>1</td>\n",
       "      <td>13.20</td>\n",
       "      <td>1.78</td>\n",
       "      <td>2.14</td>\n",
       "      <td>11.2</td>\n",
       "      <td>100</td>\n",
       "      <td>2.65</td>\n",
       "      <td>2.76</td>\n",
       "      <td>0.26</td>\n",
       "      <td>1.28</td>\n",
       "      <td>4.38</td>\n",
       "      <td>1.05</td>\n",
       "      <td>3.40</td>\n",
       "      <td>1050</td>\n",
       "    </tr>\n",
       "    <tr>\n",
       "      <th>2</th>\n",
       "      <td>1</td>\n",
       "      <td>13.16</td>\n",
       "      <td>2.36</td>\n",
       "      <td>2.67</td>\n",
       "      <td>18.6</td>\n",
       "      <td>101</td>\n",
       "      <td>2.80</td>\n",
       "      <td>3.24</td>\n",
       "      <td>0.30</td>\n",
       "      <td>2.81</td>\n",
       "      <td>5.68</td>\n",
       "      <td>1.03</td>\n",
       "      <td>3.17</td>\n",
       "      <td>1185</td>\n",
       "    </tr>\n",
       "    <tr>\n",
       "      <th>3</th>\n",
       "      <td>1</td>\n",
       "      <td>14.37</td>\n",
       "      <td>1.95</td>\n",
       "      <td>2.50</td>\n",
       "      <td>16.8</td>\n",
       "      <td>113</td>\n",
       "      <td>3.85</td>\n",
       "      <td>3.49</td>\n",
       "      <td>0.24</td>\n",
       "      <td>2.18</td>\n",
       "      <td>7.80</td>\n",
       "      <td>0.86</td>\n",
       "      <td>3.45</td>\n",
       "      <td>1480</td>\n",
       "    </tr>\n",
       "    <tr>\n",
       "      <th>4</th>\n",
       "      <td>1</td>\n",
       "      <td>13.24</td>\n",
       "      <td>2.59</td>\n",
       "      <td>2.87</td>\n",
       "      <td>21.0</td>\n",
       "      <td>118</td>\n",
       "      <td>2.80</td>\n",
       "      <td>2.69</td>\n",
       "      <td>0.39</td>\n",
       "      <td>1.82</td>\n",
       "      <td>4.32</td>\n",
       "      <td>1.04</td>\n",
       "      <td>2.93</td>\n",
       "      <td>735</td>\n",
       "    </tr>\n",
       "  </tbody>\n",
       "</table>\n",
       "</div>"
      ],
      "text/plain": [
       "   Class  Alcohol  Malic acid   Ash  Alcalinity of ash  Magnesium  \\\n",
       "0      1    14.23        1.71  2.43               15.6        127   \n",
       "1      1    13.20        1.78  2.14               11.2        100   \n",
       "2      1    13.16        2.36  2.67               18.6        101   \n",
       "3      1    14.37        1.95  2.50               16.8        113   \n",
       "4      1    13.24        2.59  2.87               21.0        118   \n",
       "\n",
       "   Total phenols  Flavanoids  Nonflavanoid phenols  Proanthocyanins  \\\n",
       "0           2.80        3.06                  0.28             2.29   \n",
       "1           2.65        2.76                  0.26             1.28   \n",
       "2           2.80        3.24                  0.30             2.81   \n",
       "3           3.85        3.49                  0.24             2.18   \n",
       "4           2.80        2.69                  0.39             1.82   \n",
       "\n",
       "   Color intensity   Hue  OD280/OD315 of diluted wines  Proline  \n",
       "0             5.64  1.04                          3.92     1065  \n",
       "1             4.38  1.05                          3.40     1050  \n",
       "2             5.68  1.03                          3.17     1185  \n",
       "3             7.80  0.86                          3.45     1480  \n",
       "4             4.32  1.04                          2.93      735  "
      ]
     },
     "execution_count": 4,
     "metadata": {},
     "output_type": "execute_result"
    }
   ],
   "source": [
    "df.head()"
   ]
  },
  {
   "cell_type": "code",
   "execution_count": 5,
   "metadata": {},
   "outputs": [],
   "source": [
    "import matplotlib.pyplot as plt\n",
    "%matplotlib inline"
   ]
  },
  {
   "cell_type": "code",
   "execution_count": 6,
   "metadata": {
    "scrolled": true
   },
   "outputs": [
    {
     "data": {
      "text/plain": [
       "Text(0.5, 1.0, 'Alcohol Content per Class')"
      ]
     },
     "execution_count": 6,
     "metadata": {},
     "output_type": "execute_result"
    },
    {
     "data": {
      "image/png": "[encoded data removed]",
      "text/plain": [
       "<Figure size 432x288 with 1 Axes>"
      ]
     },
     "metadata": {
      "needs_background": "light"
     },
     "output_type": "display_data"
    }
   ],
   "source": [
    "for c, d in df.groupby('Class'):\n",
    "    d.Alcohol.plot.hist(label=c, alpha=0.6)\n",
    "plt.legend()\n",
    "plt.xlabel('Alcohol Content')\n",
    "plt.title('Alcohol Content per Class')"
   ]
  },
  {
   "cell_type": "markdown",
   "metadata": {},
   "source": [
    "# Find Feature Importance by Achieved Accuracy Score"
   ]
  },
  {
   "cell_type": "code",
   "execution_count": 7,
   "metadata": {},
   "outputs": [],
   "source": [
    "from sklearn.model_selection import train_test_split\n",
    "from sklearn.neighbors import KNeighborsClassifier\n",
    "from sklearn.metrics import accuracy_score"
   ]
  },
  {
   "cell_type": "code",
   "execution_count": null,
   "metadata": {},
   "outputs": [],
   "source": []
  },
  {
   "cell_type": "code",
   "execution_count": 8,
   "metadata": {},
   "outputs": [],
   "source": [
    "train_data, test_data = train_test_split(df, test_size=0.2)"
   ]
  },
  {
   "cell_type": "markdown",
   "metadata": {},
   "source": [
    "Note that we can specify values for a complete set $\\{ f(x) \\mid x \\in X\\}$ with the syntax  `[f[i] for x in X]` as shown below."
   ]
  },
  {
   "cell_type": "code",
   "execution_count": 9,
   "metadata": {},
   "outputs": [],
   "source": [
    "models = [KNeighborsClassifier(n_neighbors=5).fit(train_data[[f]], train_data[target]) for f in features]\n"
   ]
  },
  {
   "cell_type": "code",
   "execution_count": 10,
   "metadata": {
    "scrolled": true
   },
   "outputs": [
    {
     "data": {
      "image/png": "[encoded data removed]",
      "text/plain": [
       "<Figure size 720x360 with 1 Axes>"
      ]
     },
     "metadata": {
      "needs_background": "light"
     },
     "output_type": "display_data"
    }
   ],
   "source": [
    "train_scores = [accuracy_score(train_data[target], m.predict(train_data[[f]])) for m, f in zip(models, features)]\n",
    "plt.barh(range(len(features)), train_scores)\n",
    "plt.yticks(range(len(features)), features)\n",
    "plt.gcf().set_size_inches(10, 5)\n",
    "None"
   ]
  },
  {
   "cell_type": "code",
   "execution_count": 11,
   "metadata": {},
   "outputs": [
    {
     "data": {
      "image/png": "[encoded data removed]",
      "text/plain": [
       "<Figure size 720x360 with 1 Axes>"
      ]
     },
     "metadata": {
      "needs_background": "light"
     },
     "output_type": "display_data"
    }
   ],
   "source": [
    "scores = [accuracy_score(test_data[target], m.predict(test_data[[f]])) for m, f in zip(models, features)]\n",
    "plt.barh(range(len(features)), scores)\n",
    "plt.yticks(range(len(features)), features)\n",
    "plt.gcf().set_size_inches(10, 5)"
   ]
  },
  {
   "cell_type": "code",
   "execution_count": null,
   "metadata": {},
   "outputs": [],
   "source": []
  },
  {
   "cell_type": "markdown",
   "metadata": {},
   "source": [
    "# Which k Should You Choose?"
   ]
  },
  {
   "cell_type": "code",
   "execution_count": 12,
   "metadata": {},
   "outputs": [],
   "source": [
    "from sklearn.preprocessing import StandardScaler"
   ]
  },
  {
   "cell_type": "code",
   "execution_count": 13,
   "metadata": {},
   "outputs": [
    {
     "name": "stderr",
     "output_type": "stream",
     "text": [
      "/usr/lib/python3/dist-packages/sklearn/preprocessing/data.py:625: DataConversionWarning: Data with input dtype int64, float64 were all converted to float64 by StandardScaler.\n",
      "  return self.partial_fit(X, y)\n",
      "/usr/lib/python3/dist-packages/sklearn/base.py:462: DataConversionWarning: Data with input dtype int64, float64 were all converted to float64 by StandardScaler.\n",
      "  return self.fit(X, **fit_params).transform(X)\n"
     ]
    }
   ],
   "source": [
    "df_scaled = pandas.DataFrame(StandardScaler().fit_transform(df[features]), columns=features)\n",
    "df_scaled[target] = df[target]"
   ]
  },
  {
   "cell_type": "code",
   "execution_count": 14,
   "metadata": {},
   "outputs": [],
   "source": [
    "train_data_s, test_data_s = train_test_split(df_scaled, test_size=0.2)"
   ]
  },
  {
   "cell_type": "code",
   "execution_count": 15,
   "metadata": {},
   "outputs": [],
   "source": [
    "N, _ = train_data_s.shape\n",
    "N_test, _ = test_data_s.shape"
   ]
  },
  {
   "cell_type": "code",
   "execution_count": 16,
   "metadata": {},
   "outputs": [],
   "source": [
    "ks = range(1, 100)\n",
    "models = [KNeighborsClassifier(n_neighbors=k).fit(train_data_s[features], train_data_s[target]) for k in ks]\n",
    "train_scores = [accuracy_score(train_data_s[target], m.predict(train_data_s[features])) for m in models]\n",
    "test_scores = [accuracy_score(test_data_s[target], m.predict(test_data_s[features])) for m in models]"
   ]
  },
  {
   "cell_type": "markdown",
   "metadata": {},
   "source": [
    "## Test score performance\n",
    "\n",
    "Were we omniscient, we could just look at the test scores. These the performance of model $\\lambda(k, D_T)$ on $D^*$. From the plot below we can see that almost any value below 90 or so works pretty well. We also see a discrepancy between the maximising values in the training and test set. The best value for the training set is simply $k = 1$. However good test set values occur starting from $k=3$."
   ]
  },
  {
   "cell_type": "code",
   "execution_count": 17,
   "metadata": {},
   "outputs": [
    {
     "data": {
      "text/plain": [
       "<matplotlib.legend.Legend at 0x7fd6d1fb50b8>"
      ]
     },
     "execution_count": 17,
     "metadata": {},
     "output_type": "execute_result"
    },
    {
     "data": {
      "image/png": "[encoded data removed]",
      "text/plain": [
       "<Figure size 432x288 with 1 Axes>"
      ]
     },
     "metadata": {
      "needs_background": "light"
     },
     "output_type": "display_data"
    }
   ],
   "source": [
    "plt.semilogx(ks, train_scores, ks, test_scores);\n",
    "plt.legend([\"Train\", \"Test\"])"
   ]
  },
  {
   "cell_type": "markdown",
   "metadata": {},
   "source": [
    "## Cross validation to choose $k$\n"
   ]
  },
  {
   "cell_type": "code",
   "execution_count": 18,
   "metadata": {},
   "outputs": [],
   "source": [
    "from sklearn.model_selection import cross_val_score"
   ]
  },
  {
   "cell_type": "code",
   "execution_count": 19,
   "metadata": {},
   "outputs": [],
   "source": [
    "neighbor_ks = range(1, 100)\n",
    "untrained_models = [KNeighborsClassifier(n_neighbors=k) for k in neighbor_ks]"
   ]
  },
  {
   "cell_type": "code",
   "execution_count": 20,
   "metadata": {},
   "outputs": [],
   "source": [
    "k_fold_scores = [cross_val_score(estimator=m, X=df_scaled[features], y=df_scaled[target], cv=10) for m in untrained_models]"
   ]
  },
  {
   "cell_type": "code",
   "execution_count": 21,
   "metadata": {},
   "outputs": [
    {
     "data": {
      "image/png": "[encoded data removed]",
      "text/plain": [
       "<Figure size 432x288 with 1 Axes>"
      ]
     },
     "metadata": {
      "needs_background": "light"
     },
     "output_type": "display_data"
    }
   ],
   "source": [
    "plt.plot(k_fold_scores)\n",
    "\n",
    "None"
   ]
  },
  {
   "cell_type": "code",
   "execution_count": 22,
   "metadata": {},
   "outputs": [
    {
     "data": {
      "text/plain": [
       "<ErrorbarContainer object of 3 artists>"
      ]
     },
     "execution_count": 22,
     "metadata": {},
     "output_type": "execute_result"
    },
    {
     "data": {
      "image/png": "[encoded data removed]",
      "text/plain": [
       "<Figure size 432x288 with 1 Axes>"
      ]
     },
     "metadata": {
      "needs_background": "light"
     },
     "output_type": "display_data"
    }
   ],
   "source": [
    "mean_xv_scores = [s.mean() for s in k_fold_scores] \n",
    "plt.errorbar(neighbor_ks, mean_xv_scores, yerr=[s.std() for s in k_fold_scores])\n"
   ]
  },
  {
   "cell_type": "code",
   "execution_count": 23,
   "metadata": {},
   "outputs": [
    {
     "name": "stdout",
     "output_type": "stream",
     "text": [
      "23 1 12\n"
     ]
    },
    {
     "data": {
      "image/png": "[encoded data removed]",
      "text/plain": [
       "<Figure size 432x288 with 1 Axes>"
      ]
     },
     "metadata": {
      "needs_background": "light"
     },
     "output_type": "display_data"
    }
   ],
   "source": [
    "# now let us compare the best values for training test and cross validation\n",
    "\n",
    "import numpy\n",
    "knn_best_k_xv = numpy.asarray(mean_xv_scores).argmax()\n",
    "knn_best_k_train = numpy.asarray(train_scores).argmax()\n",
    "knn_best_k_test = numpy.asarray(test_scores).argmax()\n",
    "print(ks[knn_best_k_xv], ks[knn_best_k_train], ks[knn_best_k_test])\n",
    "plt.semilogx(ks, train_scores, ks, test_scores, ks, mean_xv_scores)\n",
    "plt.legend([\"Train\", \"Test\", \"XV\"])\n",
    "\n",
    "# Let's select the best model on the basis of the XV score, as we must, since the 'test' result is invisible to us\n",
    "knn_best_model_xv = models[knn_best_k_xv]"
   ]
  },
  {
   "cell_type": "markdown",
   "metadata": {},
   "source": [
    "# Bootstrapping\n",
    "\n",
    "Bootsrapping is useful for two things. First, remember that even though the test score is an /independent/ measurement of an algorithm's performance, it is /not/ the actual expected performance. At best, it's an unbiased estimate of performance. Hence, we'd like to have some way to calculate a likely performance range from the test data. Bootstrapping can help: by taking multiple samples of the test set and calculating performance on each one, we obtain an empirical distribution of scores.\n",
    "\n",
    "Secondly, we can use it to tell us something about the sensitivity of our algorithm. In particular, by taking multiple samples from the training data, we can end up with multiple models. If the models are only slightly different, then the algorithm is more stable and we can be more confident in its predictions. This also allows us to generate probabilistic predictions from deterministic classification algorithms, by simply averaging predictions from multiple bootstrapped predictors."
   ]
  },
  {
   "cell_type": "code",
   "execution_count": 24,
   "metadata": {},
   "outputs": [],
   "source": [
    "import sklearn.utils # we can use sklearn.utils.resample to bootstrap\n",
    "n_bootstrap_samples = 1000 # the more samples we take the better our distributional estimates"
   ]
  },
  {
   "cell_type": "code",
   "execution_count": 25,
   "metadata": {},
   "outputs": [
    {
     "data": {
      "text/plain": [
       "Text(0.5, 1.0, 'Bootstrapped test scores for best kNN model')"
      ]
     },
     "execution_count": 25,
     "metadata": {},
     "output_type": "execute_result"
    },
    {
     "data": {
      "image/png": "[encoded data removed]",
      "text/plain": [
       "<Figure size 432x288 with 1 Axes>"
      ]
     },
     "metadata": {
      "needs_background": "light"
     },
     "output_type": "display_data"
    }
   ],
   "source": [
    "# Now we are going to estimate how sensitive is the test result to the test data\n",
    "bootstrap_test_score = numpy.zeros(n_bootstrap_samples)\n",
    "\n",
    "# For each bootstrap sample, we get a different model. There is no need to save the model, as we just want the score on the test set.\n",
    "for t in range(n_bootstrap_samples):\n",
    "    bootstrap_test_sample = sklearn.utils.resample(test_data_s, replace=True, n_samples = N_test)\n",
    "    bootstrap_test_score[t] = accuracy_score(bootstrap_test_sample[target], knn_best_model_xv.predict(bootstrap_test_sample[features]))\n",
    "\n",
    "plt.hist(bootstrap_test_score)\n",
    "plt.title(\"Bootstrapped test scores for best kNN model\")"
   ]
  },
  {
   "cell_type": "code",
   "execution_count": 26,
   "metadata": {},
   "outputs": [
    {
     "data": {
      "text/plain": [
       "(array([  1.,  28.,   0., 106.,   0.,   0., 187.,   0., 362., 316.]),\n",
       " array([0.86111111, 0.875     , 0.88888889, 0.90277778, 0.91666667,\n",
       "        0.93055556, 0.94444444, 0.95833333, 0.97222222, 0.98611111,\n",
       "        1.        ]),\n",
       " <a list of 10 Patch objects>)"
      ]
     },
     "execution_count": 26,
     "metadata": {},
     "output_type": "execute_result"
    },
    {
     "data": {
      "image/png": "[encoded data removed]",
      "text/plain": [
       "<Figure size 432x288 with 1 Axes>"
      ]
     },
     "metadata": {
      "needs_background": "light"
     },
     "output_type": "display_data"
    }
   ],
   "source": [
    "# Now we are going to estimate the sensitivity of the algorithm to the training data\n",
    "bootstrap_score = numpy.zeros(n_bootstrap_samples)\n",
    "\n",
    "# For each bootstrap sample, we get a different model. There is no need to save the model, as we just want the score on the test set.\n",
    "for t in range(n_bootstrap_samples):\n",
    "    bootstrap_sample = sklearn.utils.resample(train_data_s, replace=True, n_samples = N)\n",
    "    bootstrap_model = KNeighborsClassifier(n_neighbors=knn_best_k_xv).fit(bootstrap_sample[features], bootstrap_sample[target])\n",
    "    bootstrap_score[t] = accuracy_score(test_data_s[target], bootstrap_model.predict(test_data_s[features]))\n",
    "plt.hist(bootstrap_score)"
   ]
  },
  {
   "cell_type": "code",
   "execution_count": null,
   "metadata": {},
   "outputs": [],
   "source": []
  },
  {
   "cell_type": "code",
   "execution_count": 27,
   "metadata": {},
   "outputs": [],
   "source": [
    "bootstrap_score.sort()"
   ]
  },
  {
   "cell_type": "code",
   "execution_count": 28,
   "metadata": {},
   "outputs": [
    {
     "data": {
      "text/plain": [
       "array([0.86111111, 0.88888889, 0.88888889, 0.88888889, 0.88888889,\n",
       "       0.88888889, 0.88888889, 0.88888889, 0.88888889, 0.88888889,\n",
       "       0.88888889, 0.88888889, 0.88888889, 0.88888889, 0.88888889,\n",
       "       0.88888889, 0.88888889, 0.88888889, 0.88888889, 0.88888889,\n",
       "       0.88888889, 0.88888889, 0.88888889, 0.88888889, 0.88888889,\n",
       "       0.88888889, 0.88888889, 0.88888889, 0.88888889, 0.91666667,\n",
       "       0.91666667, 0.91666667, 0.91666667, 0.91666667, 0.91666667,\n",
       "       0.91666667, 0.91666667, 0.91666667, 0.91666667, 0.91666667,\n",
       "       0.91666667, 0.91666667, 0.91666667, 0.91666667, 0.91666667,\n",
       "       0.91666667, 0.91666667, 0.91666667, 0.91666667, 0.91666667,\n",
       "       0.91666667, 0.91666667, 0.91666667, 0.91666667, 0.91666667,\n",
       "       0.91666667, 0.91666667, 0.91666667, 0.91666667, 0.91666667,\n",
       "       0.91666667, 0.91666667, 0.91666667, 0.91666667, 0.91666667,\n",
       "       0.91666667, 0.91666667, 0.91666667, 0.91666667, 0.91666667,\n",
       "       0.91666667, 0.91666667, 0.91666667, 0.91666667, 0.91666667,\n",
       "       0.91666667, 0.91666667, 0.91666667, 0.91666667, 0.91666667,\n",
       "       0.91666667, 0.91666667, 0.91666667, 0.91666667, 0.91666667,\n",
       "       0.91666667, 0.91666667, 0.91666667, 0.91666667, 0.91666667,\n",
       "       0.91666667, 0.91666667, 0.91666667, 0.91666667, 0.91666667,\n",
       "       0.91666667, 0.91666667, 0.91666667, 0.91666667, 0.91666667,\n",
       "       0.91666667, 0.91666667, 0.91666667, 0.91666667, 0.91666667,\n",
       "       0.91666667, 0.91666667, 0.91666667, 0.91666667, 0.91666667,\n",
       "       0.91666667, 0.91666667, 0.91666667, 0.91666667, 0.91666667,\n",
       "       0.91666667, 0.91666667, 0.91666667, 0.91666667, 0.91666667,\n",
       "       0.91666667, 0.91666667, 0.91666667, 0.91666667, 0.91666667,\n",
       "       0.91666667, 0.91666667, 0.91666667, 0.91666667, 0.91666667,\n",
       "       0.91666667, 0.91666667, 0.91666667, 0.91666667, 0.91666667,\n",
       "       0.94444444, 0.94444444, 0.94444444, 0.94444444, 0.94444444,\n",
       "       0.94444444, 0.94444444, 0.94444444, 0.94444444, 0.94444444,\n",
       "       0.94444444, 0.94444444, 0.94444444, 0.94444444, 0.94444444,\n",
       "       0.94444444, 0.94444444, 0.94444444, 0.94444444, 0.94444444,\n",
       "       0.94444444, 0.94444444, 0.94444444, 0.94444444, 0.94444444,\n",
       "       0.94444444, 0.94444444, 0.94444444, 0.94444444, 0.94444444,\n",
       "       0.94444444, 0.94444444, 0.94444444, 0.94444444, 0.94444444,\n",
       "       0.94444444, 0.94444444, 0.94444444, 0.94444444, 0.94444444,\n",
       "       0.94444444, 0.94444444, 0.94444444, 0.94444444, 0.94444444,\n",
       "       0.94444444, 0.94444444, 0.94444444, 0.94444444, 0.94444444,\n",
       "       0.94444444, 0.94444444, 0.94444444, 0.94444444, 0.94444444,\n",
       "       0.94444444, 0.94444444, 0.94444444, 0.94444444, 0.94444444,\n",
       "       0.94444444, 0.94444444, 0.94444444, 0.94444444, 0.94444444,\n",
       "       0.94444444, 0.94444444, 0.94444444, 0.94444444, 0.94444444,\n",
       "       0.94444444, 0.94444444, 0.94444444, 0.94444444, 0.94444444,\n",
       "       0.94444444, 0.94444444, 0.94444444, 0.94444444, 0.94444444,\n",
       "       0.94444444, 0.94444444, 0.94444444, 0.94444444, 0.94444444,\n",
       "       0.94444444, 0.94444444, 0.94444444, 0.94444444, 0.94444444,\n",
       "       0.94444444, 0.94444444, 0.94444444, 0.94444444, 0.94444444,\n",
       "       0.94444444, 0.94444444, 0.94444444, 0.94444444, 0.94444444,\n",
       "       0.94444444, 0.94444444, 0.94444444, 0.94444444, 0.94444444,\n",
       "       0.94444444, 0.94444444, 0.94444444, 0.94444444, 0.94444444,\n",
       "       0.94444444, 0.94444444, 0.94444444, 0.94444444, 0.94444444,\n",
       "       0.94444444, 0.94444444, 0.94444444, 0.94444444, 0.94444444,\n",
       "       0.94444444, 0.94444444, 0.94444444, 0.94444444, 0.94444444,\n",
       "       0.94444444, 0.94444444, 0.94444444, 0.94444444, 0.94444444,\n",
       "       0.94444444, 0.94444444, 0.94444444, 0.94444444, 0.94444444,\n",
       "       0.94444444, 0.94444444, 0.94444444, 0.94444444, 0.94444444,\n",
       "       0.94444444, 0.94444444, 0.94444444, 0.94444444, 0.94444444,\n",
       "       0.94444444, 0.94444444, 0.94444444, 0.94444444, 0.94444444,\n",
       "       0.94444444, 0.94444444, 0.94444444, 0.94444444, 0.94444444,\n",
       "       0.94444444, 0.94444444, 0.94444444, 0.94444444, 0.94444444,\n",
       "       0.94444444, 0.94444444, 0.94444444, 0.94444444, 0.94444444,\n",
       "       0.94444444, 0.94444444, 0.94444444, 0.94444444, 0.94444444,\n",
       "       0.94444444, 0.94444444, 0.94444444, 0.94444444, 0.94444444,\n",
       "       0.94444444, 0.94444444, 0.94444444, 0.94444444, 0.94444444,\n",
       "       0.94444444, 0.94444444, 0.94444444, 0.94444444, 0.94444444,\n",
       "       0.94444444, 0.94444444, 0.97222222, 0.97222222, 0.97222222,\n",
       "       0.97222222, 0.97222222, 0.97222222, 0.97222222, 0.97222222,\n",
       "       0.97222222, 0.97222222, 0.97222222, 0.97222222, 0.97222222,\n",
       "       0.97222222, 0.97222222, 0.97222222, 0.97222222, 0.97222222,\n",
       "       0.97222222, 0.97222222, 0.97222222, 0.97222222, 0.97222222,\n",
       "       0.97222222, 0.97222222, 0.97222222, 0.97222222, 0.97222222,\n",
       "       0.97222222, 0.97222222, 0.97222222, 0.97222222, 0.97222222,\n",
       "       0.97222222, 0.97222222, 0.97222222, 0.97222222, 0.97222222,\n",
       "       0.97222222, 0.97222222, 0.97222222, 0.97222222, 0.97222222,\n",
       "       0.97222222, 0.97222222, 0.97222222, 0.97222222, 0.97222222,\n",
       "       0.97222222, 0.97222222, 0.97222222, 0.97222222, 0.97222222,\n",
       "       0.97222222, 0.97222222, 0.97222222, 0.97222222, 0.97222222,\n",
       "       0.97222222, 0.97222222, 0.97222222, 0.97222222, 0.97222222,\n",
       "       0.97222222, 0.97222222, 0.97222222, 0.97222222, 0.97222222,\n",
       "       0.97222222, 0.97222222, 0.97222222, 0.97222222, 0.97222222,\n",
       "       0.97222222, 0.97222222, 0.97222222, 0.97222222, 0.97222222,\n",
       "       0.97222222, 0.97222222, 0.97222222, 0.97222222, 0.97222222,\n",
       "       0.97222222, 0.97222222, 0.97222222, 0.97222222, 0.97222222,\n",
       "       0.97222222, 0.97222222, 0.97222222, 0.97222222, 0.97222222,\n",
       "       0.97222222, 0.97222222, 0.97222222, 0.97222222, 0.97222222,\n",
       "       0.97222222, 0.97222222, 0.97222222, 0.97222222, 0.97222222,\n",
       "       0.97222222, 0.97222222, 0.97222222, 0.97222222, 0.97222222,\n",
       "       0.97222222, 0.97222222, 0.97222222, 0.97222222, 0.97222222,\n",
       "       0.97222222, 0.97222222, 0.97222222, 0.97222222, 0.97222222,\n",
       "       0.97222222, 0.97222222, 0.97222222, 0.97222222, 0.97222222,\n",
       "       0.97222222, 0.97222222, 0.97222222, 0.97222222, 0.97222222,\n",
       "       0.97222222, 0.97222222, 0.97222222, 0.97222222, 0.97222222,\n",
       "       0.97222222, 0.97222222, 0.97222222, 0.97222222, 0.97222222,\n",
       "       0.97222222, 0.97222222, 0.97222222, 0.97222222, 0.97222222,\n",
       "       0.97222222, 0.97222222, 0.97222222, 0.97222222, 0.97222222,\n",
       "       0.97222222, 0.97222222, 0.97222222, 0.97222222, 0.97222222,\n",
       "       0.97222222, 0.97222222, 0.97222222, 0.97222222, 0.97222222,\n",
       "       0.97222222, 0.97222222, 0.97222222, 0.97222222, 0.97222222,\n",
       "       0.97222222, 0.97222222, 0.97222222, 0.97222222, 0.97222222,\n",
       "       0.97222222, 0.97222222, 0.97222222, 0.97222222, 0.97222222,\n",
       "       0.97222222, 0.97222222, 0.97222222, 0.97222222, 0.97222222,\n",
       "       0.97222222, 0.97222222, 0.97222222, 0.97222222, 0.97222222,\n",
       "       0.97222222, 0.97222222, 0.97222222, 0.97222222, 0.97222222,\n",
       "       0.97222222, 0.97222222, 0.97222222, 0.97222222, 0.97222222,\n",
       "       0.97222222, 0.97222222, 0.97222222, 0.97222222, 0.97222222,\n",
       "       0.97222222, 0.97222222, 0.97222222, 0.97222222, 0.97222222,\n",
       "       0.97222222, 0.97222222, 0.97222222, 0.97222222, 0.97222222,\n",
       "       0.97222222, 0.97222222, 0.97222222, 0.97222222, 0.97222222,\n",
       "       0.97222222, 0.97222222, 0.97222222, 0.97222222, 0.97222222,\n",
       "       0.97222222, 0.97222222, 0.97222222, 0.97222222, 0.97222222,\n",
       "       0.97222222, 0.97222222, 0.97222222, 0.97222222, 0.97222222,\n",
       "       0.97222222, 0.97222222, 0.97222222, 0.97222222, 0.97222222,\n",
       "       0.97222222, 0.97222222, 0.97222222, 0.97222222, 0.97222222,\n",
       "       0.97222222, 0.97222222, 0.97222222, 0.97222222, 0.97222222,\n",
       "       0.97222222, 0.97222222, 0.97222222, 0.97222222, 0.97222222,\n",
       "       0.97222222, 0.97222222, 0.97222222, 0.97222222, 0.97222222,\n",
       "       0.97222222, 0.97222222, 0.97222222, 0.97222222, 0.97222222,\n",
       "       0.97222222, 0.97222222, 0.97222222, 0.97222222, 0.97222222,\n",
       "       0.97222222, 0.97222222, 0.97222222, 0.97222222, 0.97222222,\n",
       "       0.97222222, 0.97222222, 0.97222222, 0.97222222, 0.97222222,\n",
       "       0.97222222, 0.97222222, 0.97222222, 0.97222222, 0.97222222,\n",
       "       0.97222222, 0.97222222, 0.97222222, 0.97222222, 0.97222222,\n",
       "       0.97222222, 0.97222222, 0.97222222, 0.97222222, 0.97222222,\n",
       "       0.97222222, 0.97222222, 0.97222222, 0.97222222, 0.97222222,\n",
       "       0.97222222, 0.97222222, 0.97222222, 0.97222222, 0.97222222,\n",
       "       0.97222222, 0.97222222, 0.97222222, 0.97222222, 0.97222222,\n",
       "       0.97222222, 0.97222222, 0.97222222, 0.97222222, 0.97222222,\n",
       "       0.97222222, 0.97222222, 0.97222222, 0.97222222, 0.97222222,\n",
       "       0.97222222, 0.97222222, 0.97222222, 0.97222222, 0.97222222,\n",
       "       0.97222222, 0.97222222, 0.97222222, 0.97222222, 0.97222222,\n",
       "       0.97222222, 0.97222222, 0.97222222, 0.97222222, 0.97222222,\n",
       "       0.97222222, 0.97222222, 0.97222222, 0.97222222, 0.97222222,\n",
       "       0.97222222, 0.97222222, 0.97222222, 0.97222222, 0.97222222,\n",
       "       0.97222222, 0.97222222, 0.97222222, 0.97222222, 0.97222222,\n",
       "       0.97222222, 0.97222222, 0.97222222, 0.97222222, 0.97222222,\n",
       "       0.97222222, 0.97222222, 0.97222222, 0.97222222, 0.97222222,\n",
       "       0.97222222, 0.97222222, 0.97222222, 0.97222222, 0.97222222,\n",
       "       0.97222222, 0.97222222, 0.97222222, 0.97222222, 1.        ,\n",
       "       1.        , 1.        , 1.        , 1.        , 1.        ,\n",
       "       1.        , 1.        , 1.        , 1.        , 1.        ,\n",
       "       1.        , 1.        , 1.        , 1.        , 1.        ,\n",
       "       1.        , 1.        , 1.        , 1.        , 1.        ,\n",
       "       1.        , 1.        , 1.        , 1.        , 1.        ,\n",
       "       1.        , 1.        , 1.        , 1.        , 1.        ,\n",
       "       1.        , 1.        , 1.        , 1.        , 1.        ,\n",
       "       1.        , 1.        , 1.        , 1.        , 1.        ,\n",
       "       1.        , 1.        , 1.        , 1.        , 1.        ,\n",
       "       1.        , 1.        , 1.        , 1.        , 1.        ,\n",
       "       1.        , 1.        , 1.        , 1.        , 1.        ,\n",
       "       1.        , 1.        , 1.        , 1.        , 1.        ,\n",
       "       1.        , 1.        , 1.        , 1.        , 1.        ,\n",
       "       1.        , 1.        , 1.        , 1.        , 1.        ,\n",
       "       1.        , 1.        , 1.        , 1.        , 1.        ,\n",
       "       1.        , 1.        , 1.        , 1.        , 1.        ,\n",
       "       1.        , 1.        , 1.        , 1.        , 1.        ,\n",
       "       1.        , 1.        , 1.        , 1.        , 1.        ,\n",
       "       1.        , 1.        , 1.        , 1.        , 1.        ,\n",
       "       1.        , 1.        , 1.        , 1.        , 1.        ,\n",
       "       1.        , 1.        , 1.        , 1.        , 1.        ,\n",
       "       1.        , 1.        , 1.        , 1.        , 1.        ,\n",
       "       1.        , 1.        , 1.        , 1.        , 1.        ,\n",
       "       1.        , 1.        , 1.        , 1.        , 1.        ,\n",
       "       1.        , 1.        , 1.        , 1.        , 1.        ,\n",
       "       1.        , 1.        , 1.        , 1.        , 1.        ,\n",
       "       1.        , 1.        , 1.        , 1.        , 1.        ,\n",
       "       1.        , 1.        , 1.        , 1.        , 1.        ,\n",
       "       1.        , 1.        , 1.        , 1.        , 1.        ,\n",
       "       1.        , 1.        , 1.        , 1.        , 1.        ,\n",
       "       1.        , 1.        , 1.        , 1.        , 1.        ,\n",
       "       1.        , 1.        , 1.        , 1.        , 1.        ,\n",
       "       1.        , 1.        , 1.        , 1.        , 1.        ,\n",
       "       1.        , 1.        , 1.        , 1.        , 1.        ,\n",
       "       1.        , 1.        , 1.        , 1.        , 1.        ,\n",
       "       1.        , 1.        , 1.        , 1.        , 1.        ,\n",
       "       1.        , 1.        , 1.        , 1.        , 1.        ,\n",
       "       1.        , 1.        , 1.        , 1.        , 1.        ,\n",
       "       1.        , 1.        , 1.        , 1.        , 1.        ,\n",
       "       1.        , 1.        , 1.        , 1.        , 1.        ,\n",
       "       1.        , 1.        , 1.        , 1.        , 1.        ,\n",
       "       1.        , 1.        , 1.        , 1.        , 1.        ,\n",
       "       1.        , 1.        , 1.        , 1.        , 1.        ,\n",
       "       1.        , 1.        , 1.        , 1.        , 1.        ,\n",
       "       1.        , 1.        , 1.        , 1.        , 1.        ,\n",
       "       1.        , 1.        , 1.        , 1.        , 1.        ,\n",
       "       1.        , 1.        , 1.        , 1.        , 1.        ,\n",
       "       1.        , 1.        , 1.        , 1.        , 1.        ,\n",
       "       1.        , 1.        , 1.        , 1.        , 1.        ,\n",
       "       1.        , 1.        , 1.        , 1.        , 1.        ,\n",
       "       1.        , 1.        , 1.        , 1.        , 1.        ,\n",
       "       1.        , 1.        , 1.        , 1.        , 1.        ,\n",
       "       1.        , 1.        , 1.        , 1.        , 1.        ,\n",
       "       1.        , 1.        , 1.        , 1.        , 1.        ,\n",
       "       1.        , 1.        , 1.        , 1.        , 1.        ,\n",
       "       1.        , 1.        , 1.        , 1.        , 1.        ,\n",
       "       1.        , 1.        , 1.        , 1.        , 1.        ,\n",
       "       1.        , 1.        , 1.        , 1.        , 1.        ,\n",
       "       1.        , 1.        , 1.        , 1.        , 1.        ,\n",
       "       1.        , 1.        , 1.        , 1.        , 1.        ,\n",
       "       1.        , 1.        , 1.        , 1.        , 1.        ,\n",
       "       1.        , 1.        , 1.        , 1.        , 1.        ,\n",
       "       1.        , 1.        , 1.        , 1.        , 1.        ])"
      ]
     },
     "execution_count": 28,
     "metadata": {},
     "output_type": "execute_result"
    }
   ],
   "source": [
    "bootstrap_score"
   ]
  },
  {
   "cell_type": "code",
   "execution_count": null,
   "metadata": {},
   "outputs": [],
   "source": []
  }
 ],
 "metadata": {
  "kernelspec": {
   "display_name": "Python 3 (ipykernel)",
   "language": "python",
   "name": "python3"
  },
  "language_info": {
   "codemirror_mode": {
    "name": "ipython",
    "version": 3
   },
   "file_extension": ".py",
   "mimetype": "text/x-python",
   "name": "python",
   "nbconvert_exporter": "python",
   "pygments_lexer": "ipython3",
   "version": "3.11.2"
  }
 },
 "nbformat": 4,
 "nbformat_minor": 4
}
