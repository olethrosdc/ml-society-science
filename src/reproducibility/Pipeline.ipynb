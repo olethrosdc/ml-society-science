{
 "cells": [
  {
   "cell_type": "code",
   "execution_count": 1,
   "metadata": {},
   "outputs": [],
   "source": [
    "import numpy as np"
   ]
  },
  {
   "cell_type": "markdown",
   "metadata": {},
   "source": [
    "In this file, we will set up a pipeline for\n",
    "1. Collecting data for an experiment\n",
    "2. Processing the data\n",
    "3. Running a machine learrning algorithm.\n",
    "4. Evaluating the algorithm\n",
    "5. Choosing the best algorithm and hyperparameters\\\n",
    "\n",
    "The main questions we need to answer are\n",
    "1. How will data be collected?\n",
    "2. How much data would we need?\n",
    "3. What algorithm would be best? \n",
    "4. How would the amount of data influence algorithm selection?\n",
    "5. How robust is our procedure to assumptions?"
   ]
  },
  {
   "cell_type": "markdown",
   "metadata": {},
   "source": [
    "# Data collection\n",
    "\n",
    "Here we want to call a simulator that collects data for us. The simulator can be arbitrary, but we would normally wish to have a specific API for calling it. In the simplest case, the only input parameter is the amount of data."
   ]
  },
  {
   "cell_type": "code",
   "execution_count": 2,
   "metadata": {},
   "outputs": [],
   "source": [
    "import data_generator\n",
    "\n",
    "# Obtain data from the data generator. \n",
    "# In this case, the data generator gives us a random sample. Other sampling methodologies are possible, of course.\n",
    "generator = data_generator.GaussianClassificationGenerator(2, np.array([0.3, 0.7]))"
   ]
  },
  {
   "cell_type": "code",
   "execution_count": null,
   "metadata": {},
   "outputs": [],
   "source": []
  },
  {
   "cell_type": "markdown",
   "metadata": {},
   "source": [
    "# Data processing\n",
    "\n",
    "Here we perform preliminary processing of the data, if necessary. In particular, we may want to split the data in training, validation and test sets. Other standard pre-processing includes scaling the data, dealing with missing data, and removal of problematic data points. However, all of these could theoretically be dealt within the learning algorithm itself."
   ]
  },
  {
   "cell_type": "code",
   "execution_count": 3,
   "metadata": {},
   "outputs": [],
   "source": [
    "def process_data(X, Y):\n",
    "    import sklearn.model_selection\n",
    "    X_train, X_test, y_train, y_test = sklearn.model_selection.train_test_split(X,Y)\n",
    "    return X_train, X_test, y_train, y_test\n"
   ]
  },
  {
   "cell_type": "markdown",
   "metadata": {},
   "source": [
    "# Evaluation\n",
    "\n",
    "Here we run an ML algorithm, using the data for finding appropriate parameters. It is best to have a unified interface for doing this as well. "
   ]
  },
  {
   "cell_type": "code",
   "execution_count": 4,
   "metadata": {},
   "outputs": [],
   "source": [
    "# get a Trained model\n",
    "def Train(clf, X_train, y_train):\n",
    "    clf.fit(X_train, y_train) # Common API for classifiers in sklearn\n",
    "    return clf"
   ]
  },
  {
   "cell_type": "code",
   "execution_count": 5,
   "metadata": {},
   "outputs": [],
   "source": [
    "from sklearn.metrics import accuracy_score\n",
    "def Evaluate(clf, X_test, y_test):\n",
    "    y_pred = clf.predict(X_test) # Common API\n",
    "    accuracy = accuracy_score(y_pred, y_test)\n",
    "    return accuracy"
   ]
  },
  {
   "cell_type": "code",
   "execution_count": 6,
   "metadata": {},
   "outputs": [],
   "source": [
    "# The experiment setup"
   ]
  },
  {
   "cell_type": "code",
   "execution_count": 25,
   "metadata": {},
   "outputs": [
    {
     "name": "stdout",
     "output_type": "stream",
     "text": [
      "Experiment  0\n",
      "------------\n",
      "SVC(C=100, gamma=0.01) 0.0 0.4844\n",
      "LogisticRegression(random_state=0) 0.0 0.5149\n",
      "MLPClassifier(max_iter=300, random_state=1) 0.0 0.5097\n",
      "Experiment  1\n",
      "------------\n",
      "SVC(C=100, gamma=0.01) 0.6 0.711\n",
      "LogisticRegression(random_state=0) 0.6 0.7219\n"
     ]
    },
    {
     "name": "stderr",
     "output_type": "stream",
     "text": [
      "/home/olethros/.local/lib/python3.8/site-packages/sklearn/neural_network/_multilayer_perceptron.py:691: ConvergenceWarning: Stochastic Optimizer: Maximum iterations (300) reached and the optimization hasn't converged yet.\n",
      "  warnings.warn(\n",
      "/home/olethros/.local/lib/python3.8/site-packages/sklearn/neural_network/_multilayer_perceptron.py:691: ConvergenceWarning: Stochastic Optimizer: Maximum iterations (300) reached and the optimization hasn't converged yet.\n",
      "  warnings.warn(\n"
     ]
    },
    {
     "name": "stdout",
     "output_type": "stream",
     "text": [
      "MLPClassifier(max_iter=300, random_state=1) 0.6 0.7324\n",
      "Experiment  2\n",
      "------------\n",
      "SVC(C=100, gamma=0.01) 0.6 0.6988\n",
      "LogisticRegression(random_state=0) 0.6 0.7114\n",
      "MLPClassifier(max_iter=300, random_state=1) 0.6 0.7257\n",
      "Experiment  3\n",
      "------------\n",
      "SVC(C=100, gamma=0.01) 0.4 0.6999\n",
      "LogisticRegression(random_state=0) 0.2 0.6767\n"
     ]
    },
    {
     "name": "stderr",
     "output_type": "stream",
     "text": [
      "/home/olethros/.local/lib/python3.8/site-packages/sklearn/neural_network/_multilayer_perceptron.py:691: ConvergenceWarning: Stochastic Optimizer: Maximum iterations (300) reached and the optimization hasn't converged yet.\n",
      "  warnings.warn(\n",
      "/home/olethros/.local/lib/python3.8/site-packages/sklearn/neural_network/_multilayer_perceptron.py:691: ConvergenceWarning: Stochastic Optimizer: Maximum iterations (300) reached and the optimization hasn't converged yet.\n",
      "  warnings.warn(\n"
     ]
    },
    {
     "name": "stdout",
     "output_type": "stream",
     "text": [
      "MLPClassifier(max_iter=300, random_state=1) 0.2 0.6025\n",
      "Experiment  4\n",
      "------------\n",
      "SVC(C=100, gamma=0.01) 0.6 0.678\n",
      "LogisticRegression(random_state=0) 0.4 0.6982\n",
      "MLPClassifier(max_iter=300, random_state=1) 0.6 0.7066\n",
      "Experiment  5\n",
      "------------\n",
      "SVC(C=100, gamma=0.01) 0.6 0.7141\n",
      "LogisticRegression(random_state=0) 0.6 0.7164\n"
     ]
    },
    {
     "name": "stderr",
     "output_type": "stream",
     "text": [
      "/home/olethros/.local/lib/python3.8/site-packages/sklearn/neural_network/_multilayer_perceptron.py:691: ConvergenceWarning: Stochastic Optimizer: Maximum iterations (300) reached and the optimization hasn't converged yet.\n",
      "  warnings.warn(\n",
      "/home/olethros/.local/lib/python3.8/site-packages/sklearn/neural_network/_multilayer_perceptron.py:691: ConvergenceWarning: Stochastic Optimizer: Maximum iterations (300) reached and the optimization hasn't converged yet.\n",
      "  warnings.warn(\n"
     ]
    },
    {
     "name": "stdout",
     "output_type": "stream",
     "text": [
      "MLPClassifier(max_iter=300, random_state=1) 0.6 0.7189\n",
      "Experiment  6\n",
      "------------\n",
      "SVC(C=100, gamma=0.01) 0.6 0.7306\n",
      "LogisticRegression(random_state=0) 0.6 0.7255\n",
      "MLPClassifier(max_iter=300, random_state=1) 0.6 0.7218\n",
      "Experiment  7\n",
      "------------\n",
      "SVC(C=100, gamma=0.01) 0.6 0.6174\n",
      "LogisticRegression(random_state=0) 0.6 0.6663\n"
     ]
    },
    {
     "name": "stderr",
     "output_type": "stream",
     "text": [
      "/home/olethros/.local/lib/python3.8/site-packages/sklearn/neural_network/_multilayer_perceptron.py:691: ConvergenceWarning: Stochastic Optimizer: Maximum iterations (300) reached and the optimization hasn't converged yet.\n",
      "  warnings.warn(\n",
      "/home/olethros/.local/lib/python3.8/site-packages/sklearn/neural_network/_multilayer_perceptron.py:691: ConvergenceWarning: Stochastic Optimizer: Maximum iterations (300) reached and the optimization hasn't converged yet.\n",
      "  warnings.warn(\n"
     ]
    },
    {
     "name": "stdout",
     "output_type": "stream",
     "text": [
      "MLPClassifier(max_iter=300, random_state=1) 0.4 0.6442\n",
      "Experiment  8\n",
      "------------\n",
      "SVC(C=100, gamma=0.01) 1.0 0.7296\n",
      "LogisticRegression(random_state=0) 1.0 0.7076\n",
      "MLPClassifier(max_iter=300, random_state=1) 0.8 0.7105\n",
      "Experiment  9\n",
      "------------\n",
      "SVC(C=100, gamma=0.01) 0.6 0.6853\n",
      "LogisticRegression(random_state=0) 0.6 0.6103\n"
     ]
    },
    {
     "name": "stderr",
     "output_type": "stream",
     "text": [
      "/home/olethros/.local/lib/python3.8/site-packages/sklearn/neural_network/_multilayer_perceptron.py:691: ConvergenceWarning: Stochastic Optimizer: Maximum iterations (300) reached and the optimization hasn't converged yet.\n",
      "  warnings.warn(\n",
      "/home/olethros/.local/lib/python3.8/site-packages/sklearn/neural_network/_multilayer_perceptron.py:691: ConvergenceWarning: Stochastic Optimizer: Maximum iterations (300) reached and the optimization hasn't converged yet.\n",
      "  warnings.warn(\n"
     ]
    },
    {
     "name": "stdout",
     "output_type": "stream",
     "text": [
      "MLPClassifier(max_iter=300, random_state=1) 0.2 0.6335\n",
      "Experiment  10\n",
      "------------\n",
      "SVC(C=100, gamma=0.01) 0.6 0.7066\n",
      "LogisticRegression(random_state=0) 0.6 0.651\n",
      "MLPClassifier(max_iter=300, random_state=1) 0.4 0.6669\n",
      "Experiment  11\n",
      "------------\n",
      "SVC(C=100, gamma=0.01) 0.8 0.661\n",
      "LogisticRegression(random_state=0) 0.8 0.6907\n"
     ]
    },
    {
     "name": "stderr",
     "output_type": "stream",
     "text": [
      "/home/olethros/.local/lib/python3.8/site-packages/sklearn/neural_network/_multilayer_perceptron.py:691: ConvergenceWarning: Stochastic Optimizer: Maximum iterations (300) reached and the optimization hasn't converged yet.\n",
      "  warnings.warn(\n",
      "/home/olethros/.local/lib/python3.8/site-packages/sklearn/neural_network/_multilayer_perceptron.py:691: ConvergenceWarning: Stochastic Optimizer: Maximum iterations (300) reached and the optimization hasn't converged yet.\n",
      "  warnings.warn(\n"
     ]
    },
    {
     "name": "stdout",
     "output_type": "stream",
     "text": [
      "MLPClassifier(max_iter=300, random_state=1) 0.8 0.6985\n",
      "Experiment  12\n",
      "------------\n",
      "SVC(C=100, gamma=0.01) 0.8 0.7\n",
      "LogisticRegression(random_state=0) 0.6 0.6938\n",
      "MLPClassifier(max_iter=300, random_state=1) 0.8 0.6792\n",
      "Experiment  13\n",
      "------------\n",
      "SVC(C=100, gamma=0.01) 0.6 0.6999\n",
      "LogisticRegression(random_state=0) 0.6 0.6969\n"
     ]
    },
    {
     "name": "stderr",
     "output_type": "stream",
     "text": [
      "/home/olethros/.local/lib/python3.8/site-packages/sklearn/neural_network/_multilayer_perceptron.py:691: ConvergenceWarning: Stochastic Optimizer: Maximum iterations (300) reached and the optimization hasn't converged yet.\n",
      "  warnings.warn(\n",
      "/home/olethros/.local/lib/python3.8/site-packages/sklearn/neural_network/_multilayer_perceptron.py:691: ConvergenceWarning: Stochastic Optimizer: Maximum iterations (300) reached and the optimization hasn't converged yet.\n",
      "  warnings.warn(\n"
     ]
    },
    {
     "name": "stdout",
     "output_type": "stream",
     "text": [
      "MLPClassifier(max_iter=300, random_state=1) 0.8 0.6287\n",
      "Experiment  14\n",
      "------------\n",
      "SVC(C=100, gamma=0.01) 0.8 0.731\n",
      "LogisticRegression(random_state=0) 0.6 0.6413\n",
      "MLPClassifier(max_iter=300, random_state=1) 0.6 0.6498\n",
      "Experiment  15\n",
      "------------\n",
      "SVC(C=100, gamma=0.01) 0.4 0.7238\n",
      "LogisticRegression(random_state=0) 0.4 0.6852\n"
     ]
    },
    {
     "name": "stderr",
     "output_type": "stream",
     "text": [
      "/home/olethros/.local/lib/python3.8/site-packages/sklearn/neural_network/_multilayer_perceptron.py:691: ConvergenceWarning: Stochastic Optimizer: Maximum iterations (300) reached and the optimization hasn't converged yet.\n",
      "  warnings.warn(\n",
      "/home/olethros/.local/lib/python3.8/site-packages/sklearn/neural_network/_multilayer_perceptron.py:691: ConvergenceWarning: Stochastic Optimizer: Maximum iterations (300) reached and the optimization hasn't converged yet.\n",
      "  warnings.warn(\n"
     ]
    },
    {
     "name": "stdout",
     "output_type": "stream",
     "text": [
      "MLPClassifier(max_iter=300, random_state=1) 0.6 0.7215\n",
      "Experiment  16\n",
      "------------\n",
      "SVC(C=100, gamma=0.01) 0.8 0.722\n",
      "LogisticRegression(random_state=0) 0.8 0.7176\n",
      "MLPClassifier(max_iter=300, random_state=1) 0.8 0.6948\n",
      "Experiment  17\n",
      "------------\n",
      "SVC(C=100, gamma=0.01) 1.0 0.6987\n",
      "LogisticRegression(random_state=0) 0.8 0.7143\n"
     ]
    },
    {
     "name": "stderr",
     "output_type": "stream",
     "text": [
      "/home/olethros/.local/lib/python3.8/site-packages/sklearn/neural_network/_multilayer_perceptron.py:691: ConvergenceWarning: Stochastic Optimizer: Maximum iterations (300) reached and the optimization hasn't converged yet.\n",
      "  warnings.warn(\n",
      "/home/olethros/.local/lib/python3.8/site-packages/sklearn/neural_network/_multilayer_perceptron.py:691: ConvergenceWarning: Stochastic Optimizer: Maximum iterations (300) reached and the optimization hasn't converged yet.\n",
      "  warnings.warn(\n"
     ]
    },
    {
     "name": "stdout",
     "output_type": "stream",
     "text": [
      "MLPClassifier(max_iter=300, random_state=1) 1.0 0.7099\n",
      "Experiment  18\n",
      "------------\n",
      "SVC(C=100, gamma=0.01) 0.8 0.6999\n",
      "LogisticRegression(random_state=0) 0.8 0.7185\n",
      "MLPClassifier(max_iter=300, random_state=1) 0.8 0.7225\n",
      "Experiment  19\n",
      "------------\n",
      "SVC(C=100, gamma=0.01) 0.8 0.7305\n",
      "LogisticRegression(random_state=0) 0.4 0.7113\n"
     ]
    },
    {
     "name": "stderr",
     "output_type": "stream",
     "text": [
      "/home/olethros/.local/lib/python3.8/site-packages/sklearn/neural_network/_multilayer_perceptron.py:691: ConvergenceWarning: Stochastic Optimizer: Maximum iterations (300) reached and the optimization hasn't converged yet.\n",
      "  warnings.warn(\n",
      "/home/olethros/.local/lib/python3.8/site-packages/sklearn/neural_network/_multilayer_perceptron.py:691: ConvergenceWarning: Stochastic Optimizer: Maximum iterations (300) reached and the optimization hasn't converged yet.\n",
      "  warnings.warn(\n"
     ]
    },
    {
     "name": "stdout",
     "output_type": "stream",
     "text": [
      "MLPClassifier(max_iter=300, random_state=1) 0.8 0.7104\n",
      "Experiment  20\n",
      "------------\n",
      "SVC(C=100, gamma=0.01) 0.6 0.3334\n",
      "LogisticRegression(random_state=0) 0.6 0.3805\n",
      "MLPClassifier(max_iter=300, random_state=1) 0.4 0.6476\n",
      "Experiment  21\n",
      "------------\n",
      "SVC(C=100, gamma=0.01) 0.6 0.5776\n",
      "LogisticRegression(random_state=0) 0.4 0.5512\n"
     ]
    },
    {
     "name": "stderr",
     "output_type": "stream",
     "text": [
      "/home/olethros/.local/lib/python3.8/site-packages/sklearn/neural_network/_multilayer_perceptron.py:691: ConvergenceWarning: Stochastic Optimizer: Maximum iterations (300) reached and the optimization hasn't converged yet.\n",
      "  warnings.warn(\n",
      "/home/olethros/.local/lib/python3.8/site-packages/sklearn/neural_network/_multilayer_perceptron.py:691: ConvergenceWarning: Stochastic Optimizer: Maximum iterations (300) reached and the optimization hasn't converged yet.\n",
      "  warnings.warn(\n"
     ]
    },
    {
     "name": "stdout",
     "output_type": "stream",
     "text": [
      "MLPClassifier(max_iter=300, random_state=1) 0.6 0.6041\n",
      "Experiment  22\n",
      "------------\n",
      "SVC(C=100, gamma=0.01) 0.6 0.6316\n",
      "LogisticRegression(random_state=0) 0.8 0.5954\n",
      "MLPClassifier(max_iter=300, random_state=1) 0.6 0.6096\n",
      "Experiment  23\n",
      "------------\n",
      "SVC(C=100, gamma=0.01) 0.8 0.7252\n",
      "LogisticRegression(random_state=0) 0.8 0.7076\n"
     ]
    },
    {
     "name": "stderr",
     "output_type": "stream",
     "text": [
      "/home/olethros/.local/lib/python3.8/site-packages/sklearn/neural_network/_multilayer_perceptron.py:691: ConvergenceWarning: Stochastic Optimizer: Maximum iterations (300) reached and the optimization hasn't converged yet.\n",
      "  warnings.warn(\n",
      "/home/olethros/.local/lib/python3.8/site-packages/sklearn/neural_network/_multilayer_perceptron.py:691: ConvergenceWarning: Stochastic Optimizer: Maximum iterations (300) reached and the optimization hasn't converged yet.\n",
      "  warnings.warn(\n"
     ]
    },
    {
     "name": "stdout",
     "output_type": "stream",
     "text": [
      "MLPClassifier(max_iter=300, random_state=1) 0.8 0.7196\n",
      "Experiment  24\n",
      "------------\n",
      "SVC(C=100, gamma=0.01) 0.8 0.7436\n",
      "LogisticRegression(random_state=0) 0.8 0.6618\n",
      "MLPClassifier(max_iter=300, random_state=1) 1.0 0.6912\n",
      "Experiment  25\n",
      "------------\n",
      "SVC(C=100, gamma=0.01) 0.8 0.7323\n",
      "LogisticRegression(random_state=0) 0.8 0.6915\n"
     ]
    },
    {
     "name": "stderr",
     "output_type": "stream",
     "text": [
      "/home/olethros/.local/lib/python3.8/site-packages/sklearn/neural_network/_multilayer_perceptron.py:691: ConvergenceWarning: Stochastic Optimizer: Maximum iterations (300) reached and the optimization hasn't converged yet.\n",
      "  warnings.warn(\n",
      "/home/olethros/.local/lib/python3.8/site-packages/sklearn/neural_network/_multilayer_perceptron.py:691: ConvergenceWarning: Stochastic Optimizer: Maximum iterations (300) reached and the optimization hasn't converged yet.\n",
      "  warnings.warn(\n"
     ]
    },
    {
     "name": "stdout",
     "output_type": "stream",
     "text": [
      "MLPClassifier(max_iter=300, random_state=1) 0.8 0.75\n",
      "Experiment  26\n",
      "------------\n",
      "SVC(C=100, gamma=0.01) 0.8 0.7121\n",
      "LogisticRegression(random_state=0) 0.8 0.6997\n",
      "MLPClassifier(max_iter=300, random_state=1) 0.6 0.6444\n",
      "Experiment  27\n",
      "------------\n",
      "SVC(C=100, gamma=0.01) 0.4 0.7311\n",
      "LogisticRegression(random_state=0) 0.4 0.7164\n"
     ]
    },
    {
     "name": "stderr",
     "output_type": "stream",
     "text": [
      "/home/olethros/.local/lib/python3.8/site-packages/sklearn/neural_network/_multilayer_perceptron.py:691: ConvergenceWarning: Stochastic Optimizer: Maximum iterations (300) reached and the optimization hasn't converged yet.\n",
      "  warnings.warn(\n",
      "/home/olethros/.local/lib/python3.8/site-packages/sklearn/neural_network/_multilayer_perceptron.py:691: ConvergenceWarning: Stochastic Optimizer: Maximum iterations (300) reached and the optimization hasn't converged yet.\n",
      "  warnings.warn(\n"
     ]
    },
    {
     "name": "stdout",
     "output_type": "stream",
     "text": [
      "MLPClassifier(max_iter=300, random_state=1) 0.4 0.7094\n",
      "Experiment  28\n",
      "------------\n",
      "SVC(C=100, gamma=0.01) 0.8 0.6942\n",
      "LogisticRegression(random_state=0) 0.8 0.6446\n",
      "MLPClassifier(max_iter=300, random_state=1) 0.8 0.6824\n",
      "Experiment  29\n",
      "------------\n",
      "SVC(C=100, gamma=0.01) 0.4 0.7109\n",
      "LogisticRegression(random_state=0) 0.4 0.6869\n"
     ]
    },
    {
     "name": "stderr",
     "output_type": "stream",
     "text": [
      "/home/olethros/.local/lib/python3.8/site-packages/sklearn/neural_network/_multilayer_perceptron.py:691: ConvergenceWarning: Stochastic Optimizer: Maximum iterations (300) reached and the optimization hasn't converged yet.\n",
      "  warnings.warn(\n",
      "/home/olethros/.local/lib/python3.8/site-packages/sklearn/neural_network/_multilayer_perceptron.py:691: ConvergenceWarning: Stochastic Optimizer: Maximum iterations (300) reached and the optimization hasn't converged yet.\n",
      "  warnings.warn(\n"
     ]
    },
    {
     "name": "stdout",
     "output_type": "stream",
     "text": [
      "MLPClassifier(max_iter=300, random_state=1) 0.2 0.7338\n",
      "Experiment  30\n",
      "------------\n",
      "SVC(C=100, gamma=0.01) 0.6 0.6165\n",
      "LogisticRegression(random_state=0) 0.6 0.6039\n",
      "MLPClassifier(max_iter=300, random_state=1) 0.6 0.6261\n",
      "Experiment  31\n",
      "------------\n",
      "SVC(C=100, gamma=0.01) 0.8 0.7279\n",
      "LogisticRegression(random_state=0) 1.0 0.7204\n"
     ]
    },
    {
     "name": "stderr",
     "output_type": "stream",
     "text": [
      "/home/olethros/.local/lib/python3.8/site-packages/sklearn/neural_network/_multilayer_perceptron.py:691: ConvergenceWarning: Stochastic Optimizer: Maximum iterations (300) reached and the optimization hasn't converged yet.\n",
      "  warnings.warn(\n",
      "/home/olethros/.local/lib/python3.8/site-packages/sklearn/neural_network/_multilayer_perceptron.py:691: ConvergenceWarning: Stochastic Optimizer: Maximum iterations (300) reached and the optimization hasn't converged yet.\n",
      "  warnings.warn(\n"
     ]
    },
    {
     "name": "stdout",
     "output_type": "stream",
     "text": [
      "MLPClassifier(max_iter=300, random_state=1) 0.6 0.7166\n",
      "Experiment  32\n",
      "------------\n",
      "SVC(C=100, gamma=0.01) 0.4 0.7329\n",
      "LogisticRegression(random_state=0) 0.6 0.7003\n",
      "MLPClassifier(max_iter=300, random_state=1) 0.4 0.7195\n",
      "Experiment  33\n",
      "------------\n",
      "SVC(C=100, gamma=0.01) 0.6 0.6791\n",
      "LogisticRegression(random_state=0) 0.8 0.6796\n"
     ]
    },
    {
     "name": "stderr",
     "output_type": "stream",
     "text": [
      "/home/olethros/.local/lib/python3.8/site-packages/sklearn/neural_network/_multilayer_perceptron.py:691: ConvergenceWarning: Stochastic Optimizer: Maximum iterations (300) reached and the optimization hasn't converged yet.\n",
      "  warnings.warn(\n",
      "/home/olethros/.local/lib/python3.8/site-packages/sklearn/neural_network/_multilayer_perceptron.py:691: ConvergenceWarning: Stochastic Optimizer: Maximum iterations (300) reached and the optimization hasn't converged yet.\n",
      "  warnings.warn(\n"
     ]
    },
    {
     "name": "stdout",
     "output_type": "stream",
     "text": [
      "MLPClassifier(max_iter=300, random_state=1) 0.8 0.6845\n",
      "Experiment  34\n",
      "------------\n",
      "SVC(C=100, gamma=0.01) 0.4 0.6999\n",
      "LogisticRegression(random_state=0) 0.4 0.7094\n",
      "MLPClassifier(max_iter=300, random_state=1) 0.4 0.6957\n",
      "Experiment  35\n",
      "------------\n",
      "SVC(C=100, gamma=0.01) 1.0 0.713\n",
      "LogisticRegression(random_state=0) 1.0 0.7125\n"
     ]
    },
    {
     "name": "stderr",
     "output_type": "stream",
     "text": [
      "/home/olethros/.local/lib/python3.8/site-packages/sklearn/neural_network/_multilayer_perceptron.py:691: ConvergenceWarning: Stochastic Optimizer: Maximum iterations (300) reached and the optimization hasn't converged yet.\n",
      "  warnings.warn(\n",
      "/home/olethros/.local/lib/python3.8/site-packages/sklearn/neural_network/_multilayer_perceptron.py:691: ConvergenceWarning: Stochastic Optimizer: Maximum iterations (300) reached and the optimization hasn't converged yet.\n",
      "  warnings.warn(\n"
     ]
    },
    {
     "name": "stdout",
     "output_type": "stream",
     "text": [
      "MLPClassifier(max_iter=300, random_state=1) 1.0 0.6896\n",
      "Experiment  36\n",
      "------------\n",
      "SVC(C=100, gamma=0.01) 1.0 0.718\n",
      "LogisticRegression(random_state=0) 1.0 0.7005\n",
      "MLPClassifier(max_iter=300, random_state=1) 1.0 0.7316\n",
      "Experiment  37\n",
      "------------\n",
      "SVC(C=100, gamma=0.01) 0.2 0.6225\n",
      "LogisticRegression(random_state=0) 0.6 0.6966\n"
     ]
    },
    {
     "name": "stderr",
     "output_type": "stream",
     "text": [
      "/home/olethros/.local/lib/python3.8/site-packages/sklearn/neural_network/_multilayer_perceptron.py:691: ConvergenceWarning: Stochastic Optimizer: Maximum iterations (300) reached and the optimization hasn't converged yet.\n",
      "  warnings.warn(\n",
      "/home/olethros/.local/lib/python3.8/site-packages/sklearn/neural_network/_multilayer_perceptron.py:691: ConvergenceWarning: Stochastic Optimizer: Maximum iterations (300) reached and the optimization hasn't converged yet.\n",
      "  warnings.warn(\n"
     ]
    },
    {
     "name": "stdout",
     "output_type": "stream",
     "text": [
      "MLPClassifier(max_iter=300, random_state=1) 0.2 0.6264\n",
      "Experiment  38\n",
      "------------\n",
      "SVC(C=100, gamma=0.01) 1.0 0.5285\n",
      "LogisticRegression(random_state=0) 1.0 0.5316\n",
      "MLPClassifier(max_iter=300, random_state=1) 0.8 0.4926\n",
      "Experiment  39\n",
      "------------\n",
      "SVC(C=100, gamma=0.01) 1.0 0.7155\n",
      "LogisticRegression(random_state=0) 0.8 0.7059\n"
     ]
    },
    {
     "name": "stderr",
     "output_type": "stream",
     "text": [
      "/home/olethros/.local/lib/python3.8/site-packages/sklearn/neural_network/_multilayer_perceptron.py:691: ConvergenceWarning: Stochastic Optimizer: Maximum iterations (300) reached and the optimization hasn't converged yet.\n",
      "  warnings.warn(\n",
      "/home/olethros/.local/lib/python3.8/site-packages/sklearn/neural_network/_multilayer_perceptron.py:691: ConvergenceWarning: Stochastic Optimizer: Maximum iterations (300) reached and the optimization hasn't converged yet.\n",
      "  warnings.warn(\n"
     ]
    },
    {
     "name": "stdout",
     "output_type": "stream",
     "text": [
      "MLPClassifier(max_iter=300, random_state=1) 1.0 0.7153\n",
      "Experiment  40\n",
      "------------\n",
      "SVC(C=100, gamma=0.01) 0.2 0.6509\n",
      "LogisticRegression(random_state=0) 0.6 0.6847\n",
      "MLPClassifier(max_iter=300, random_state=1) 0.2 0.618\n",
      "Experiment  41\n",
      "------------\n",
      "SVC(C=100, gamma=0.01) 0.6 0.6999\n",
      "LogisticRegression(random_state=0) 0.6 0.7042\n"
     ]
    },
    {
     "name": "stderr",
     "output_type": "stream",
     "text": [
      "/home/olethros/.local/lib/python3.8/site-packages/sklearn/neural_network/_multilayer_perceptron.py:691: ConvergenceWarning: Stochastic Optimizer: Maximum iterations (300) reached and the optimization hasn't converged yet.\n",
      "  warnings.warn(\n",
      "/home/olethros/.local/lib/python3.8/site-packages/sklearn/neural_network/_multilayer_perceptron.py:691: ConvergenceWarning: Stochastic Optimizer: Maximum iterations (300) reached and the optimization hasn't converged yet.\n",
      "  warnings.warn(\n"
     ]
    },
    {
     "name": "stdout",
     "output_type": "stream",
     "text": [
      "MLPClassifier(max_iter=300, random_state=1) 0.6 0.6999\n",
      "Experiment  42\n",
      "------------\n",
      "SVC(C=100, gamma=0.01) 1.0 0.7031\n",
      "LogisticRegression(random_state=0) 1.0 0.7165\n",
      "MLPClassifier(max_iter=300, random_state=1) 0.8 0.7322\n",
      "Experiment  43\n",
      "------------\n",
      "SVC(C=100, gamma=0.01) 0.2 0.6549\n",
      "LogisticRegression(random_state=0) 0.2 0.6344\n"
     ]
    },
    {
     "name": "stderr",
     "output_type": "stream",
     "text": [
      "/home/olethros/.local/lib/python3.8/site-packages/sklearn/neural_network/_multilayer_perceptron.py:691: ConvergenceWarning: Stochastic Optimizer: Maximum iterations (300) reached and the optimization hasn't converged yet.\n",
      "  warnings.warn(\n",
      "/home/olethros/.local/lib/python3.8/site-packages/sklearn/neural_network/_multilayer_perceptron.py:691: ConvergenceWarning: Stochastic Optimizer: Maximum iterations (300) reached and the optimization hasn't converged yet.\n",
      "  warnings.warn(\n"
     ]
    },
    {
     "name": "stdout",
     "output_type": "stream",
     "text": [
      "MLPClassifier(max_iter=300, random_state=1) 0.4 0.6\n",
      "Experiment  44\n",
      "------------\n",
      "SVC(C=100, gamma=0.01) 0.8 0.7072\n",
      "LogisticRegression(random_state=0) 0.6 0.6227\n",
      "MLPClassifier(max_iter=300, random_state=1) 0.8 0.7389\n",
      "Experiment  45\n",
      "------------\n",
      "SVC(C=100, gamma=0.01) 0.4 0.716\n",
      "LogisticRegression(random_state=0) 0.6 0.6895\n"
     ]
    },
    {
     "name": "stderr",
     "output_type": "stream",
     "text": [
      "/home/olethros/.local/lib/python3.8/site-packages/sklearn/neural_network/_multilayer_perceptron.py:691: ConvergenceWarning: Stochastic Optimizer: Maximum iterations (300) reached and the optimization hasn't converged yet.\n",
      "  warnings.warn(\n",
      "/home/olethros/.local/lib/python3.8/site-packages/sklearn/neural_network/_multilayer_perceptron.py:691: ConvergenceWarning: Stochastic Optimizer: Maximum iterations (300) reached and the optimization hasn't converged yet.\n",
      "  warnings.warn(\n"
     ]
    },
    {
     "name": "stdout",
     "output_type": "stream",
     "text": [
      "MLPClassifier(max_iter=300, random_state=1) 0.4 0.6967\n",
      "Experiment  46\n",
      "------------\n",
      "SVC(C=100, gamma=0.01) 0.4 0.7169\n",
      "LogisticRegression(random_state=0) 0.2 0.7149\n",
      "MLPClassifier(max_iter=300, random_state=1) 0.4 0.6965\n",
      "Experiment  47\n",
      "------------\n",
      "SVC(C=100, gamma=0.01) 0.4 0.7328\n",
      "LogisticRegression(random_state=0) 0.4 0.6964\n"
     ]
    },
    {
     "name": "stderr",
     "output_type": "stream",
     "text": [
      "/home/olethros/.local/lib/python3.8/site-packages/sklearn/neural_network/_multilayer_perceptron.py:691: ConvergenceWarning: Stochastic Optimizer: Maximum iterations (300) reached and the optimization hasn't converged yet.\n",
      "  warnings.warn(\n",
      "/home/olethros/.local/lib/python3.8/site-packages/sklearn/neural_network/_multilayer_perceptron.py:691: ConvergenceWarning: Stochastic Optimizer: Maximum iterations (300) reached and the optimization hasn't converged yet.\n",
      "  warnings.warn(\n"
     ]
    },
    {
     "name": "stdout",
     "output_type": "stream",
     "text": [
      "MLPClassifier(max_iter=300, random_state=1) 1.0 0.6559\n",
      "Experiment  48\n",
      "------------\n",
      "SVC(C=100, gamma=0.01) 0.8 0.6528\n",
      "LogisticRegression(random_state=0) 0.8 0.6198\n",
      "MLPClassifier(max_iter=300, random_state=1) 1.0 0.6718\n",
      "Experiment  49\n",
      "------------\n",
      "SVC(C=100, gamma=0.01) 0.8 0.6999\n",
      "LogisticRegression(random_state=0) 0.8 0.7065\n"
     ]
    },
    {
     "name": "stderr",
     "output_type": "stream",
     "text": [
      "/home/olethros/.local/lib/python3.8/site-packages/sklearn/neural_network/_multilayer_perceptron.py:691: ConvergenceWarning: Stochastic Optimizer: Maximum iterations (300) reached and the optimization hasn't converged yet.\n",
      "  warnings.warn(\n",
      "/home/olethros/.local/lib/python3.8/site-packages/sklearn/neural_network/_multilayer_perceptron.py:691: ConvergenceWarning: Stochastic Optimizer: Maximum iterations (300) reached and the optimization hasn't converged yet.\n",
      "  warnings.warn(\n"
     ]
    },
    {
     "name": "stdout",
     "output_type": "stream",
     "text": [
      "MLPClassifier(max_iter=300, random_state=1) 0.8 0.6999\n",
      "Experiment  50\n",
      "------------\n",
      "SVC(C=100, gamma=0.01) 0.6 0.4319\n",
      "LogisticRegression(random_state=0) 0.6 0.5812\n",
      "MLPClassifier(max_iter=300, random_state=1) 0.8 0.5731\n",
      "Experiment  51\n",
      "------------\n",
      "SVC(C=100, gamma=0.01) 1.0 0.6999\n",
      "LogisticRegression(random_state=0) 1.0 0.7078\n"
     ]
    },
    {
     "name": "stderr",
     "output_type": "stream",
     "text": [
      "/home/olethros/.local/lib/python3.8/site-packages/sklearn/neural_network/_multilayer_perceptron.py:691: ConvergenceWarning: Stochastic Optimizer: Maximum iterations (300) reached and the optimization hasn't converged yet.\n",
      "  warnings.warn(\n",
      "/home/olethros/.local/lib/python3.8/site-packages/sklearn/neural_network/_multilayer_perceptron.py:691: ConvergenceWarning: Stochastic Optimizer: Maximum iterations (300) reached and the optimization hasn't converged yet.\n",
      "  warnings.warn(\n"
     ]
    },
    {
     "name": "stdout",
     "output_type": "stream",
     "text": [
      "MLPClassifier(max_iter=300, random_state=1) 1.0 0.6806\n",
      "Experiment  52\n",
      "------------\n",
      "SVC(C=100, gamma=0.01) 0.6 0.7226\n",
      "LogisticRegression(random_state=0) 0.6 0.7009\n",
      "MLPClassifier(max_iter=300, random_state=1) 0.8 0.7062\n",
      "Experiment  53\n",
      "------------\n",
      "SVC(C=100, gamma=0.01) 0.8 0.7002\n",
      "LogisticRegression(random_state=0) 0.6 0.6759\n"
     ]
    },
    {
     "name": "stderr",
     "output_type": "stream",
     "text": [
      "/home/olethros/.local/lib/python3.8/site-packages/sklearn/neural_network/_multilayer_perceptron.py:691: ConvergenceWarning: Stochastic Optimizer: Maximum iterations (300) reached and the optimization hasn't converged yet.\n",
      "  warnings.warn(\n",
      "/home/olethros/.local/lib/python3.8/site-packages/sklearn/neural_network/_multilayer_perceptron.py:691: ConvergenceWarning: Stochastic Optimizer: Maximum iterations (300) reached and the optimization hasn't converged yet.\n",
      "  warnings.warn(\n"
     ]
    },
    {
     "name": "stdout",
     "output_type": "stream",
     "text": [
      "MLPClassifier(max_iter=300, random_state=1) 0.4 0.5994\n",
      "Experiment  54\n",
      "------------\n",
      "SVC(C=100, gamma=0.01) 0.6 0.7347\n",
      "LogisticRegression(random_state=0) 0.6 0.7019\n",
      "MLPClassifier(max_iter=300, random_state=1) 0.4 0.6397\n",
      "Experiment  55\n",
      "------------\n",
      "SVC(C=100, gamma=0.01) 0.8 0.6251\n",
      "LogisticRegression(random_state=0) 1.0 0.5988\n"
     ]
    },
    {
     "name": "stderr",
     "output_type": "stream",
     "text": [
      "/home/olethros/.local/lib/python3.8/site-packages/sklearn/neural_network/_multilayer_perceptron.py:691: ConvergenceWarning: Stochastic Optimizer: Maximum iterations (300) reached and the optimization hasn't converged yet.\n",
      "  warnings.warn(\n",
      "/home/olethros/.local/lib/python3.8/site-packages/sklearn/neural_network/_multilayer_perceptron.py:691: ConvergenceWarning: Stochastic Optimizer: Maximum iterations (300) reached and the optimization hasn't converged yet.\n",
      "  warnings.warn(\n"
     ]
    },
    {
     "name": "stdout",
     "output_type": "stream",
     "text": [
      "MLPClassifier(max_iter=300, random_state=1) 0.6 0.6767\n",
      "Experiment  56\n",
      "------------\n",
      "SVC(C=100, gamma=0.01) 0.8 0.7106\n",
      "LogisticRegression(random_state=0) 0.6 0.713\n",
      "MLPClassifier(max_iter=300, random_state=1) 0.8 0.7313\n",
      "Experiment  57\n",
      "------------\n",
      "SVC(C=100, gamma=0.01) 0.6 0.7357\n",
      "LogisticRegression(random_state=0) 0.4 0.6999\n"
     ]
    },
    {
     "name": "stderr",
     "output_type": "stream",
     "text": [
      "/home/olethros/.local/lib/python3.8/site-packages/sklearn/neural_network/_multilayer_perceptron.py:691: ConvergenceWarning: Stochastic Optimizer: Maximum iterations (300) reached and the optimization hasn't converged yet.\n",
      "  warnings.warn(\n",
      "/home/olethros/.local/lib/python3.8/site-packages/sklearn/neural_network/_multilayer_perceptron.py:691: ConvergenceWarning: Stochastic Optimizer: Maximum iterations (300) reached and the optimization hasn't converged yet.\n",
      "  warnings.warn(\n"
     ]
    },
    {
     "name": "stdout",
     "output_type": "stream",
     "text": [
      "MLPClassifier(max_iter=300, random_state=1) 0.6 0.6917\n",
      "Experiment  58\n",
      "------------\n",
      "SVC(C=100, gamma=0.01) 0.6 0.7283\n",
      "LogisticRegression(random_state=0) 0.6 0.7148\n",
      "MLPClassifier(max_iter=300, random_state=1) 0.6 0.7203\n",
      "Experiment  59\n",
      "------------\n",
      "SVC(C=100, gamma=0.01) 0.6 0.6999\n",
      "LogisticRegression(random_state=0) 0.6 0.6999\n"
     ]
    },
    {
     "name": "stderr",
     "output_type": "stream",
     "text": [
      "/home/olethros/.local/lib/python3.8/site-packages/sklearn/neural_network/_multilayer_perceptron.py:691: ConvergenceWarning: Stochastic Optimizer: Maximum iterations (300) reached and the optimization hasn't converged yet.\n",
      "  warnings.warn(\n",
      "/home/olethros/.local/lib/python3.8/site-packages/sklearn/neural_network/_multilayer_perceptron.py:691: ConvergenceWarning: Stochastic Optimizer: Maximum iterations (300) reached and the optimization hasn't converged yet.\n",
      "  warnings.warn(\n"
     ]
    },
    {
     "name": "stdout",
     "output_type": "stream",
     "text": [
      "MLPClassifier(max_iter=300, random_state=1) 0.6 0.6999\n",
      "Experiment  60\n",
      "------------\n",
      "SVC(C=100, gamma=0.01) 0.6 0.6711\n",
      "LogisticRegression(random_state=0) 0.6 0.6052\n",
      "MLPClassifier(max_iter=300, random_state=1) 0.6 0.6773\n",
      "Experiment  61\n",
      "------------\n",
      "SVC(C=100, gamma=0.01) 0.4 0.7255\n",
      "LogisticRegression(random_state=0) 0.4 0.7132\n"
     ]
    },
    {
     "name": "stderr",
     "output_type": "stream",
     "text": [
      "/home/olethros/.local/lib/python3.8/site-packages/sklearn/neural_network/_multilayer_perceptron.py:691: ConvergenceWarning: Stochastic Optimizer: Maximum iterations (300) reached and the optimization hasn't converged yet.\n",
      "  warnings.warn(\n",
      "/home/olethros/.local/lib/python3.8/site-packages/sklearn/neural_network/_multilayer_perceptron.py:691: ConvergenceWarning: Stochastic Optimizer: Maximum iterations (300) reached and the optimization hasn't converged yet.\n",
      "  warnings.warn(\n"
     ]
    },
    {
     "name": "stdout",
     "output_type": "stream",
     "text": [
      "MLPClassifier(max_iter=300, random_state=1) 0.4 0.7015\n",
      "Experiment  62\n",
      "------------\n",
      "SVC(C=100, gamma=0.01) 0.8 0.7331\n",
      "LogisticRegression(random_state=0) 0.8 0.69\n",
      "MLPClassifier(max_iter=300, random_state=1) 0.8 0.6442\n",
      "Experiment  63\n",
      "------------\n",
      "SVC(C=100, gamma=0.01) 0.8 0.6999\n",
      "LogisticRegression(random_state=0) 0.8 0.7038\n"
     ]
    },
    {
     "name": "stderr",
     "output_type": "stream",
     "text": [
      "/home/olethros/.local/lib/python3.8/site-packages/sklearn/neural_network/_multilayer_perceptron.py:691: ConvergenceWarning: Stochastic Optimizer: Maximum iterations (300) reached and the optimization hasn't converged yet.\n",
      "  warnings.warn(\n",
      "/home/olethros/.local/lib/python3.8/site-packages/sklearn/neural_network/_multilayer_perceptron.py:691: ConvergenceWarning: Stochastic Optimizer: Maximum iterations (300) reached and the optimization hasn't converged yet.\n",
      "  warnings.warn(\n"
     ]
    },
    {
     "name": "stdout",
     "output_type": "stream",
     "text": [
      "MLPClassifier(max_iter=300, random_state=1) 0.8 0.7143\n",
      "Experiment  64\n",
      "------------\n",
      "SVC(C=100, gamma=0.01) 0.6 0.7018\n",
      "LogisticRegression(random_state=0) 0.4 0.6993\n",
      "MLPClassifier(max_iter=300, random_state=1) 0.6 0.6623\n",
      "Experiment  65\n",
      "------------\n",
      "SVC(C=100, gamma=0.01) 0.8 0.6272\n",
      "LogisticRegression(random_state=0) 1.0 0.6369\n"
     ]
    },
    {
     "name": "stderr",
     "output_type": "stream",
     "text": [
      "/home/olethros/.local/lib/python3.8/site-packages/sklearn/neural_network/_multilayer_perceptron.py:691: ConvergenceWarning: Stochastic Optimizer: Maximum iterations (300) reached and the optimization hasn't converged yet.\n",
      "  warnings.warn(\n",
      "/home/olethros/.local/lib/python3.8/site-packages/sklearn/neural_network/_multilayer_perceptron.py:691: ConvergenceWarning: Stochastic Optimizer: Maximum iterations (300) reached and the optimization hasn't converged yet.\n",
      "  warnings.warn(\n"
     ]
    },
    {
     "name": "stdout",
     "output_type": "stream",
     "text": [
      "MLPClassifier(max_iter=300, random_state=1) 0.8 0.625\n",
      "Experiment  66\n",
      "------------\n",
      "SVC(C=100, gamma=0.01) 0.6 0.6466\n",
      "LogisticRegression(random_state=0) 0.4 0.6064\n",
      "MLPClassifier(max_iter=300, random_state=1) 0.6 0.6276\n",
      "Experiment  67\n",
      "------------\n",
      "SVC(C=100, gamma=0.01) 0.4 0.7392\n",
      "LogisticRegression(random_state=0) 0.6 0.7048\n"
     ]
    },
    {
     "name": "stderr",
     "output_type": "stream",
     "text": [
      "/home/olethros/.local/lib/python3.8/site-packages/sklearn/neural_network/_multilayer_perceptron.py:691: ConvergenceWarning: Stochastic Optimizer: Maximum iterations (300) reached and the optimization hasn't converged yet.\n",
      "  warnings.warn(\n",
      "/home/olethros/.local/lib/python3.8/site-packages/sklearn/neural_network/_multilayer_perceptron.py:691: ConvergenceWarning: Stochastic Optimizer: Maximum iterations (300) reached and the optimization hasn't converged yet.\n",
      "  warnings.warn(\n"
     ]
    },
    {
     "name": "stdout",
     "output_type": "stream",
     "text": [
      "MLPClassifier(max_iter=300, random_state=1) 0.0 0.7272\n",
      "Experiment  68\n",
      "------------\n",
      "SVC(C=100, gamma=0.01) 1.0 0.7239\n",
      "LogisticRegression(random_state=0) 1.0 0.6999\n",
      "MLPClassifier(max_iter=300, random_state=1) 0.4 0.6969\n",
      "Experiment  69\n",
      "------------\n",
      "SVC(C=100, gamma=0.01) 0.6 0.6999\n",
      "LogisticRegression(random_state=0) 0.6 0.6995\n"
     ]
    },
    {
     "name": "stderr",
     "output_type": "stream",
     "text": [
      "/home/olethros/.local/lib/python3.8/site-packages/sklearn/neural_network/_multilayer_perceptron.py:691: ConvergenceWarning: Stochastic Optimizer: Maximum iterations (300) reached and the optimization hasn't converged yet.\n",
      "  warnings.warn(\n",
      "/home/olethros/.local/lib/python3.8/site-packages/sklearn/neural_network/_multilayer_perceptron.py:691: ConvergenceWarning: Stochastic Optimizer: Maximum iterations (300) reached and the optimization hasn't converged yet.\n",
      "  warnings.warn(\n"
     ]
    },
    {
     "name": "stdout",
     "output_type": "stream",
     "text": [
      "MLPClassifier(max_iter=300, random_state=1) 0.6 0.6863\n",
      "Experiment  70\n",
      "------------\n",
      "SVC(C=100, gamma=0.01) 1.0 0.7242\n",
      "LogisticRegression(random_state=0) 1.0 0.698\n",
      "MLPClassifier(max_iter=300, random_state=1) 0.8 0.6907\n",
      "Experiment  71\n",
      "------------\n",
      "SVC(C=100, gamma=0.01) 0.8 0.7208\n",
      "LogisticRegression(random_state=0) 0.8 0.7198\n"
     ]
    },
    {
     "name": "stderr",
     "output_type": "stream",
     "text": [
      "/home/olethros/.local/lib/python3.8/site-packages/sklearn/neural_network/_multilayer_perceptron.py:691: ConvergenceWarning: Stochastic Optimizer: Maximum iterations (300) reached and the optimization hasn't converged yet.\n",
      "  warnings.warn(\n",
      "/home/olethros/.local/lib/python3.8/site-packages/sklearn/neural_network/_multilayer_perceptron.py:691: ConvergenceWarning: Stochastic Optimizer: Maximum iterations (300) reached and the optimization hasn't converged yet.\n",
      "  warnings.warn(\n"
     ]
    },
    {
     "name": "stdout",
     "output_type": "stream",
     "text": [
      "MLPClassifier(max_iter=300, random_state=1) 0.8 0.7219\n",
      "Experiment  72\n",
      "------------\n",
      "SVC(C=100, gamma=0.01) 0.6 0.7185\n",
      "LogisticRegression(random_state=0) 0.8 0.7206\n",
      "MLPClassifier(max_iter=300, random_state=1) 0.4 0.716\n",
      "Experiment  73\n",
      "------------\n",
      "SVC(C=100, gamma=0.01) 1.0 0.7147\n",
      "LogisticRegression(random_state=0) 1.0 0.6585\n"
     ]
    },
    {
     "name": "stderr",
     "output_type": "stream",
     "text": [
      "/home/olethros/.local/lib/python3.8/site-packages/sklearn/neural_network/_multilayer_perceptron.py:691: ConvergenceWarning: Stochastic Optimizer: Maximum iterations (300) reached and the optimization hasn't converged yet.\n",
      "  warnings.warn(\n",
      "/home/olethros/.local/lib/python3.8/site-packages/sklearn/neural_network/_multilayer_perceptron.py:691: ConvergenceWarning: Stochastic Optimizer: Maximum iterations (300) reached and the optimization hasn't converged yet.\n",
      "  warnings.warn(\n"
     ]
    },
    {
     "name": "stdout",
     "output_type": "stream",
     "text": [
      "MLPClassifier(max_iter=300, random_state=1) 0.8 0.7118\n",
      "Experiment  74\n",
      "------------\n",
      "SVC(C=100, gamma=0.01) 0.4 0.5338\n",
      "LogisticRegression(random_state=0) 0.4 0.5323\n",
      "MLPClassifier(max_iter=300, random_state=1) 0.4 0.5652\n",
      "Experiment  75\n",
      "------------\n",
      "SVC(C=100, gamma=0.01) 0.8 0.7212\n",
      "LogisticRegression(random_state=0) 0.8 0.693\n"
     ]
    },
    {
     "name": "stderr",
     "output_type": "stream",
     "text": [
      "/home/olethros/.local/lib/python3.8/site-packages/sklearn/neural_network/_multilayer_perceptron.py:691: ConvergenceWarning: Stochastic Optimizer: Maximum iterations (300) reached and the optimization hasn't converged yet.\n",
      "  warnings.warn(\n",
      "/home/olethros/.local/lib/python3.8/site-packages/sklearn/neural_network/_multilayer_perceptron.py:691: ConvergenceWarning: Stochastic Optimizer: Maximum iterations (300) reached and the optimization hasn't converged yet.\n",
      "  warnings.warn(\n"
     ]
    },
    {
     "name": "stdout",
     "output_type": "stream",
     "text": [
      "MLPClassifier(max_iter=300, random_state=1) 0.8 0.6984\n",
      "Experiment  76\n",
      "------------\n",
      "SVC(C=100, gamma=0.01) 0.4 0.7019\n",
      "LogisticRegression(random_state=0) 0.2 0.7199\n",
      "MLPClassifier(max_iter=300, random_state=1) 0.2 0.7274\n",
      "Experiment  77\n",
      "------------\n",
      "SVC(C=100, gamma=0.01) 0.8 0.6172\n",
      "LogisticRegression(random_state=0) 0.8 0.6048\n"
     ]
    },
    {
     "name": "stderr",
     "output_type": "stream",
     "text": [
      "/home/olethros/.local/lib/python3.8/site-packages/sklearn/neural_network/_multilayer_perceptron.py:691: ConvergenceWarning: Stochastic Optimizer: Maximum iterations (300) reached and the optimization hasn't converged yet.\n",
      "  warnings.warn(\n",
      "/home/olethros/.local/lib/python3.8/site-packages/sklearn/neural_network/_multilayer_perceptron.py:691: ConvergenceWarning: Stochastic Optimizer: Maximum iterations (300) reached and the optimization hasn't converged yet.\n",
      "  warnings.warn(\n"
     ]
    },
    {
     "name": "stdout",
     "output_type": "stream",
     "text": [
      "MLPClassifier(max_iter=300, random_state=1) 0.8 0.5918\n",
      "Experiment  78\n",
      "------------\n",
      "SVC(C=100, gamma=0.01) 0.6 0.7187\n",
      "LogisticRegression(random_state=0) 0.6 0.7163\n",
      "MLPClassifier(max_iter=300, random_state=1) 0.6 0.6936\n",
      "Experiment  79\n",
      "------------\n",
      "SVC(C=100, gamma=0.01) 0.8 0.7223\n",
      "LogisticRegression(random_state=0) 0.8 0.7196\n"
     ]
    },
    {
     "name": "stderr",
     "output_type": "stream",
     "text": [
      "/home/olethros/.local/lib/python3.8/site-packages/sklearn/neural_network/_multilayer_perceptron.py:691: ConvergenceWarning: Stochastic Optimizer: Maximum iterations (300) reached and the optimization hasn't converged yet.\n",
      "  warnings.warn(\n",
      "/home/olethros/.local/lib/python3.8/site-packages/sklearn/neural_network/_multilayer_perceptron.py:691: ConvergenceWarning: Stochastic Optimizer: Maximum iterations (300) reached and the optimization hasn't converged yet.\n",
      "  warnings.warn(\n"
     ]
    },
    {
     "name": "stdout",
     "output_type": "stream",
     "text": [
      "MLPClassifier(max_iter=300, random_state=1) 0.8 0.754\n",
      "Experiment  80\n",
      "------------\n",
      "SVC(C=100, gamma=0.01) 0.8 0.6706\n",
      "LogisticRegression(random_state=0) 0.8 0.6911\n",
      "MLPClassifier(max_iter=300, random_state=1) 1.0 0.709\n",
      "Experiment  81\n",
      "------------\n",
      "SVC(C=100, gamma=0.01) 0.8 0.6999\n",
      "LogisticRegression(random_state=0) 0.8 0.7\n"
     ]
    },
    {
     "name": "stderr",
     "output_type": "stream",
     "text": [
      "/home/olethros/.local/lib/python3.8/site-packages/sklearn/neural_network/_multilayer_perceptron.py:691: ConvergenceWarning: Stochastic Optimizer: Maximum iterations (300) reached and the optimization hasn't converged yet.\n",
      "  warnings.warn(\n",
      "/home/olethros/.local/lib/python3.8/site-packages/sklearn/neural_network/_multilayer_perceptron.py:691: ConvergenceWarning: Stochastic Optimizer: Maximum iterations (300) reached and the optimization hasn't converged yet.\n",
      "  warnings.warn(\n"
     ]
    },
    {
     "name": "stdout",
     "output_type": "stream",
     "text": [
      "MLPClassifier(max_iter=300, random_state=1) 0.8 0.6991\n",
      "Experiment  82\n",
      "------------\n",
      "SVC(C=100, gamma=0.01) 0.8 0.7318\n",
      "LogisticRegression(random_state=0) 0.8 0.7147\n",
      "MLPClassifier(max_iter=300, random_state=1) 0.6 0.703\n",
      "Experiment  83\n",
      "------------\n",
      "SVC(C=100, gamma=0.01) 0.6 0.6999\n",
      "LogisticRegression(random_state=0) 0.6 0.6999\n"
     ]
    },
    {
     "name": "stderr",
     "output_type": "stream",
     "text": [
      "/home/olethros/.local/lib/python3.8/site-packages/sklearn/neural_network/_multilayer_perceptron.py:691: ConvergenceWarning: Stochastic Optimizer: Maximum iterations (300) reached and the optimization hasn't converged yet.\n",
      "  warnings.warn(\n",
      "/home/olethros/.local/lib/python3.8/site-packages/sklearn/neural_network/_multilayer_perceptron.py:691: ConvergenceWarning: Stochastic Optimizer: Maximum iterations (300) reached and the optimization hasn't converged yet.\n",
      "  warnings.warn(\n"
     ]
    },
    {
     "name": "stdout",
     "output_type": "stream",
     "text": [
      "MLPClassifier(max_iter=300, random_state=1) 0.6 0.7516\n",
      "Experiment  84\n",
      "------------\n",
      "SVC(C=100, gamma=0.01) 0.8 0.6141\n",
      "LogisticRegression(random_state=0) 1.0 0.7011\n",
      "MLPClassifier(max_iter=300, random_state=1) 0.8 0.66\n",
      "Experiment  85\n",
      "------------\n",
      "SVC(C=100, gamma=0.01) 0.8 0.7248\n",
      "LogisticRegression(random_state=0) 0.8 0.6925\n"
     ]
    },
    {
     "name": "stderr",
     "output_type": "stream",
     "text": [
      "/home/olethros/.local/lib/python3.8/site-packages/sklearn/neural_network/_multilayer_perceptron.py:691: ConvergenceWarning: Stochastic Optimizer: Maximum iterations (300) reached and the optimization hasn't converged yet.\n",
      "  warnings.warn(\n",
      "/home/olethros/.local/lib/python3.8/site-packages/sklearn/neural_network/_multilayer_perceptron.py:691: ConvergenceWarning: Stochastic Optimizer: Maximum iterations (300) reached and the optimization hasn't converged yet.\n",
      "  warnings.warn(\n"
     ]
    },
    {
     "name": "stdout",
     "output_type": "stream",
     "text": [
      "MLPClassifier(max_iter=300, random_state=1) 0.8 0.7358\n",
      "Experiment  86\n",
      "------------\n",
      "SVC(C=100, gamma=0.01) 0.6 0.7167\n",
      "LogisticRegression(random_state=0) 0.6 0.7211\n",
      "MLPClassifier(max_iter=300, random_state=1) 0.6 0.7137\n",
      "Experiment  87\n",
      "------------\n",
      "SVC(C=100, gamma=0.01) 0.6 0.6999\n",
      "LogisticRegression(random_state=0) 0.6 0.7034\n"
     ]
    },
    {
     "name": "stderr",
     "output_type": "stream",
     "text": [
      "/home/olethros/.local/lib/python3.8/site-packages/sklearn/neural_network/_multilayer_perceptron.py:691: ConvergenceWarning: Stochastic Optimizer: Maximum iterations (300) reached and the optimization hasn't converged yet.\n",
      "  warnings.warn(\n",
      "/home/olethros/.local/lib/python3.8/site-packages/sklearn/neural_network/_multilayer_perceptron.py:691: ConvergenceWarning: Stochastic Optimizer: Maximum iterations (300) reached and the optimization hasn't converged yet.\n",
      "  warnings.warn(\n"
     ]
    },
    {
     "name": "stdout",
     "output_type": "stream",
     "text": [
      "MLPClassifier(max_iter=300, random_state=1) 0.6 0.6999\n",
      "Experiment  88\n",
      "------------\n",
      "SVC(C=100, gamma=0.01) 0.6 0.7241\n",
      "LogisticRegression(random_state=0) 0.6 0.7258\n",
      "MLPClassifier(max_iter=300, random_state=1) 0.4 0.7162\n",
      "Experiment  89\n",
      "------------\n",
      "SVC(C=100, gamma=0.01) 1.0 0.7116\n",
      "LogisticRegression(random_state=0) 1.0 0.6599\n"
     ]
    },
    {
     "name": "stderr",
     "output_type": "stream",
     "text": [
      "/home/olethros/.local/lib/python3.8/site-packages/sklearn/neural_network/_multilayer_perceptron.py:691: ConvergenceWarning: Stochastic Optimizer: Maximum iterations (300) reached and the optimization hasn't converged yet.\n",
      "  warnings.warn(\n",
      "/home/olethros/.local/lib/python3.8/site-packages/sklearn/neural_network/_multilayer_perceptron.py:691: ConvergenceWarning: Stochastic Optimizer: Maximum iterations (300) reached and the optimization hasn't converged yet.\n",
      "  warnings.warn(\n"
     ]
    },
    {
     "name": "stdout",
     "output_type": "stream",
     "text": [
      "MLPClassifier(max_iter=300, random_state=1) 0.6 0.643\n",
      "Experiment  90\n",
      "------------\n",
      "SVC(C=100, gamma=0.01) 0.6 0.7015\n",
      "LogisticRegression(random_state=0) 0.6 0.7158\n",
      "MLPClassifier(max_iter=300, random_state=1) 0.6 0.7187\n",
      "Experiment  91\n",
      "------------\n",
      "SVC(C=100, gamma=0.01) 0.8 0.7114\n",
      "LogisticRegression(random_state=0) 0.6 0.6813\n"
     ]
    },
    {
     "name": "stderr",
     "output_type": "stream",
     "text": [
      "/home/olethros/.local/lib/python3.8/site-packages/sklearn/neural_network/_multilayer_perceptron.py:691: ConvergenceWarning: Stochastic Optimizer: Maximum iterations (300) reached and the optimization hasn't converged yet.\n",
      "  warnings.warn(\n",
      "/home/olethros/.local/lib/python3.8/site-packages/sklearn/neural_network/_multilayer_perceptron.py:691: ConvergenceWarning: Stochastic Optimizer: Maximum iterations (300) reached and the optimization hasn't converged yet.\n",
      "  warnings.warn(\n"
     ]
    },
    {
     "name": "stdout",
     "output_type": "stream",
     "text": [
      "MLPClassifier(max_iter=300, random_state=1) 0.4 0.6689\n",
      "Experiment  92\n",
      "------------\n",
      "SVC(C=100, gamma=0.01) 0.6 0.6142\n",
      "LogisticRegression(random_state=0) 0.4 0.6779\n",
      "MLPClassifier(max_iter=300, random_state=1) 0.8 0.5782\n",
      "Experiment  93\n",
      "------------\n",
      "SVC(C=100, gamma=0.01) 0.8 0.6317\n",
      "LogisticRegression(random_state=0) 0.8 0.6299\n"
     ]
    },
    {
     "name": "stderr",
     "output_type": "stream",
     "text": [
      "/home/olethros/.local/lib/python3.8/site-packages/sklearn/neural_network/_multilayer_perceptron.py:691: ConvergenceWarning: Stochastic Optimizer: Maximum iterations (300) reached and the optimization hasn't converged yet.\n",
      "  warnings.warn(\n",
      "/home/olethros/.local/lib/python3.8/site-packages/sklearn/neural_network/_multilayer_perceptron.py:691: ConvergenceWarning: Stochastic Optimizer: Maximum iterations (300) reached and the optimization hasn't converged yet.\n",
      "  warnings.warn(\n"
     ]
    },
    {
     "name": "stdout",
     "output_type": "stream",
     "text": [
      "MLPClassifier(max_iter=300, random_state=1) 0.6 0.6234\n",
      "Experiment  94\n",
      "------------\n",
      "SVC(C=100, gamma=0.01) 0.6 0.6398\n",
      "LogisticRegression(random_state=0) 0.6 0.6172\n",
      "MLPClassifier(max_iter=300, random_state=1) 0.4 0.5882\n",
      "Experiment  95\n",
      "------------\n",
      "SVC(C=100, gamma=0.01) 1.0 0.7099\n",
      "LogisticRegression(random_state=0) 1.0 0.7228\n"
     ]
    },
    {
     "name": "stderr",
     "output_type": "stream",
     "text": [
      "/home/olethros/.local/lib/python3.8/site-packages/sklearn/neural_network/_multilayer_perceptron.py:691: ConvergenceWarning: Stochastic Optimizer: Maximum iterations (300) reached and the optimization hasn't converged yet.\n",
      "  warnings.warn(\n",
      "/home/olethros/.local/lib/python3.8/site-packages/sklearn/neural_network/_multilayer_perceptron.py:691: ConvergenceWarning: Stochastic Optimizer: Maximum iterations (300) reached and the optimization hasn't converged yet.\n",
      "  warnings.warn(\n"
     ]
    },
    {
     "name": "stdout",
     "output_type": "stream",
     "text": [
      "MLPClassifier(max_iter=300, random_state=1) 1.0 0.7058\n",
      "Experiment  96\n",
      "------------\n",
      "SVC(C=100, gamma=0.01) 0.0 0.6356\n",
      "LogisticRegression(random_state=0) 0.2 0.6665\n",
      "MLPClassifier(max_iter=300, random_state=1) 0.2 0.6639\n",
      "Experiment  97\n",
      "------------\n",
      "SVC(C=100, gamma=0.01) 0.8 0.7176\n",
      "LogisticRegression(random_state=0) 0.8 0.7071\n"
     ]
    },
    {
     "name": "stderr",
     "output_type": "stream",
     "text": [
      "/home/olethros/.local/lib/python3.8/site-packages/sklearn/neural_network/_multilayer_perceptron.py:691: ConvergenceWarning: Stochastic Optimizer: Maximum iterations (300) reached and the optimization hasn't converged yet.\n",
      "  warnings.warn(\n",
      "/home/olethros/.local/lib/python3.8/site-packages/sklearn/neural_network/_multilayer_perceptron.py:691: ConvergenceWarning: Stochastic Optimizer: Maximum iterations (300) reached and the optimization hasn't converged yet.\n",
      "  warnings.warn(\n"
     ]
    },
    {
     "name": "stdout",
     "output_type": "stream",
     "text": [
      "MLPClassifier(max_iter=300, random_state=1) 1.0 0.7069\n",
      "Experiment  98\n",
      "------------\n",
      "SVC(C=100, gamma=0.01) 0.6 0.7365\n",
      "LogisticRegression(random_state=0) 0.4 0.7207\n",
      "MLPClassifier(max_iter=300, random_state=1) 0.8 0.7373\n",
      "Experiment  99\n",
      "------------\n",
      "SVC(C=100, gamma=0.01) 0.2 0.5104\n",
      "LogisticRegression(random_state=0) 0.2 0.5353\n",
      "MLPClassifier(max_iter=300, random_state=1) 0.4 0.5877\n"
     ]
    },
    {
     "name": "stderr",
     "output_type": "stream",
     "text": [
      "/home/olethros/.local/lib/python3.8/site-packages/sklearn/neural_network/_multilayer_perceptron.py:691: ConvergenceWarning: Stochastic Optimizer: Maximum iterations (300) reached and the optimization hasn't converged yet.\n",
      "  warnings.warn(\n",
      "/home/olethros/.local/lib/python3.8/site-packages/sklearn/neural_network/_multilayer_perceptron.py:691: ConvergenceWarning: Stochastic Optimizer: Maximum iterations (300) reached and the optimization hasn't converged yet.\n",
      "  warnings.warn(\n"
     ]
    }
   ],
   "source": [
    "n_data = 20 # how much data would we have - this can vary to see how much data we need\n",
    "n_experiments = 100 # More experiments give us higher faith in the result\n",
    "n_evaluation_data = 10000 # this number should be relatively large to get good estimates\n",
    "\n",
    "## Setup\n",
    "from sklearn import svm\n",
    "from sklearn.linear_model import LogisticRegression\n",
    "from sklearn.neural_network import MLPClassifier\n",
    "models = [svm.SVC(gamma=0.01, C=100),\n",
    "         LogisticRegression(random_state=0),\n",
    "         MLPClassifier(random_state=1, max_iter=300)]\n",
    "n_models = len(models)\n",
    "score = np.zeros([n_models, n_experiments])\n",
    "real_score = np.zeros([n_models, n_experiments])\n",
    "\n",
    "[X_eval, y_eval] = generator.generate(n_evaluation_data) # data is generated here only to evaluate the pipeline\n",
    "\n",
    "# The point of the experiment is to evaluate the models and select the best\n",
    "for i in range(n_experiments):\n",
    "    print (\"Experiment \", i);\n",
    "    print (\"------------\");\n",
    "    [X, Y] = generator.generate(n_data) # data is generated here\n",
    "    [X_train, X_test, y_train, y_test] = process_data(X, Y) # processing also splits the data in two parts\n",
    "    k = 0\n",
    "   \n",
    "    for model in models:\n",
    "        Train(model, X_train, y_train)\n",
    "        score[k,i] = Evaluate(model, X_test, y_test)\n",
    "        real_score[k,i] = Evaluate(model, X_eval, y_eval)\n",
    "        print(model, score[k,i], real_score[k,i])\n",
    "        k+=1\n",
    "        "
   ]
  },
  {
   "cell_type": "code",
   "execution_count": 26,
   "metadata": {
    "scrolled": true
   },
   "outputs": [
    {
     "name": "stdout",
     "output_type": "stream",
     "text": [
      "Average scores [0.664 0.654 0.63 ]\n",
      "Actual scores [0.683551 0.675756 0.678504]\n",
      "Test scores of selected 0.7240000000000001\n",
      "Actual score of selected 0.683856\n"
     ]
    }
   ],
   "source": [
    "print(\"Average scores\", np.mean(score,axis=1))\n",
    "print(\"Actual scores\", np.mean(real_score,axis=1))\n",
    "\n",
    "# Here we can see what would happen if we selected methods according to their test score\n",
    "selected_method = np.argmax(score, axis=0)\n",
    "selected_score = [score[selected_method[t], t] for t in range(n_experiments)]\n",
    "selected_real_score = [real_score[selected_method[t], t] for t in range(n_experiments)]\n",
    "                  \n",
    "print(\"Test scores of selected\", np.mean(selected_score))\n",
    "print(\"Actual score of selected\", np.mean(selected_real_score))\n",
    "      "
   ]
  },
  {
   "cell_type": "markdown",
   "metadata": {},
   "source": [
    "# Actual Selected versus Measured Score\n",
    "\n",
    "As we can see, the average score of every single method on the test set is lower than the average score of the selected method. This is because we selected methods that were by chance the best on a random  training set. \n",
    "For the same reason, the test score that we measure is (on average) higher than the actual score.\n"
   ]
  },
  {
   "cell_type": "code",
   "execution_count": 27,
   "metadata": {},
   "outputs": [],
   "source": [
    "import matplotlib.pyplot as plt"
   ]
  },
  {
   "cell_type": "code",
   "execution_count": 28,
   "metadata": {},
   "outputs": [
    {
     "data": {
      "text/plain": [
       "Text(0.5, 1.0, 'Test score distribution')"
      ]
     },
     "execution_count": 28,
     "metadata": {},
     "output_type": "execute_result"
    },
    {
     "data": {
      "image/png": "[encoded data removed]",
      "text/plain": [
       "<Figure size 640x480 with 1 Axes>"
      ]
     },
     "metadata": {},
     "output_type": "display_data"
    }
   ],
   "source": [
    "plt.hist(score[0], histtype=\"step\", density=True)\n",
    "plt.hist(score[1], histtype=\"step\", density=True)\n",
    "plt.hist(score[2], histtype=\"step\", density=True)\n",
    "plt.hist(selected_score, histtype=\"step\", density=True)\n",
    "\n",
    "plt.legend([\"SVM\", \"LR\", \"MLP\", \"Selected\"])\n",
    "plt.title(\"Test score distribution\")\n"
   ]
  },
  {
   "cell_type": "code",
   "execution_count": 29,
   "metadata": {},
   "outputs": [
    {
     "data": {
      "text/plain": [
       "Text(0.5, 1.0, 'Actual score distribution')"
      ]
     },
     "execution_count": 29,
     "metadata": {},
     "output_type": "execute_result"
    },
    {
     "data": {
      "image/png": "[encoded data removed]",
      "text/plain": [
       "<Figure size 640x480 with 1 Axes>"
      ]
     },
     "metadata": {},
     "output_type": "display_data"
    }
   ],
   "source": [
    "plt.hist(real_score[0], histtype=\"step\", density=True)\n",
    "plt.hist(real_score[1], histtype=\"step\", density=True)\n",
    "plt.hist(real_score[2], histtype=\"step\", density=True)\n",
    "plt.hist(selected_real_score, histtype=\"step\", density=True)\n",
    "plt.legend([\"SVM\", \"LR\", \"MLP\", \"Selected\"])\n",
    "\n",
    "plt.title(\"Actual score distribution\")\n"
   ]
  },
  {
   "cell_type": "code",
   "execution_count": null,
   "metadata": {},
   "outputs": [],
   "source": []
  },
  {
   "cell_type": "code",
   "execution_count": 30,
   "metadata": {},
   "outputs": [
    {
     "data": {
      "text/plain": [
       "array([[0. , 0.6, 0.6, ..., 0.8, 0.6, 0.2],\n",
       "       [0. , 0.6, 0.6, ..., 0.8, 0.6, 0.2],\n",
       "       [0. , 0.6, 0.6, ..., 0.8, 0.6, 0.2],\n",
       "       ...,\n",
       "       [0. , 0.6, 0.6, ..., 1. , 0.8, 0.4],\n",
       "       [0. , 0.6, 0.6, ..., 1. , 0.8, 0.4],\n",
       "       [0. , 0.6, 0.6, ..., 1. , 0.8, 0.4]])"
      ]
     },
     "execution_count": 30,
     "metadata": {},
     "output_type": "execute_result"
    }
   ],
   "source": [
    "score[selected_method,:]"
   ]
  },
  {
   "cell_type": "code",
   "execution_count": 23,
   "metadata": {},
   "outputs": [
    {
     "data": {
      "text/plain": [
       "array([[0.8, 0.2, 1. , 0.6, 0.6, 0.6, 0.6, 0.8, 0.6, 0.8, 0.8, 1. , 1. ,\n",
       "        0.6, 0.4, 0.6, 1. , 0.6, 0.8, 0.8, 0.8, 1. , 0.8, 0.8, 0.8, 0.8,\n",
       "        0.6, 0.6, 1. , 0.8, 0.6, 0.8, 0.8, 0.8, 0.8, 0.2, 0.6, 0.6, 1. ,\n",
       "        0.4, 1. , 1. , 0.8, 1. , 0.6, 0.8, 0.8, 0.6, 0.8, 1. , 0.8, 0.6,\n",
       "        1. , 0.4, 0.4, 1. , 0. , 0. , 0. , 0. , 0. , 0. , 0. , 0. , 0. ,\n",
       "        0. , 0. , 0. , 0. , 0. , 0. , 0. , 0. , 0. , 0. , 0. , 0. , 0. ,\n",
       "        0. , 0. , 0. , 0. , 0. , 0. , 0. , 0. , 0. , 0. , 0. , 0. , 0. ,\n",
       "        0. , 0. , 0. , 0. , 0. , 0. , 0. , 0. , 0. ],\n",
       "       [0.8, 0.2, 1. , 0.8, 0.6, 0.6, 0.8, 0.8, 0.6, 0.6, 0.8, 1. , 0.8,\n",
       "        0.6, 0.4, 0.8, 1. , 0.4, 0.4, 0.8, 0.8, 1. , 0.8, 0.8, 0.8, 0.8,\n",
       "        0.6, 0.8, 1. , 0.8, 0.6, 0.8, 0.4, 0.8, 0.6, 0.2, 0.8, 0.6, 1. ,\n",
       "        0.4, 1. , 1. , 0.8, 1. , 0.6, 0.8, 0.8, 0.6, 0.8, 1. , 0.6, 0.6,\n",
       "        1. , 0.4, 0.4, 1. , 0. , 0. , 0. , 0. , 0. , 0. , 0. , 0. , 0. ,\n",
       "        0. , 0. , 0. , 0. , 0. , 0. , 0. , 0. , 0. , 0. , 0. , 0. , 0. ,\n",
       "        0. , 0. , 0. , 0. , 0. , 0. , 0. , 0. , 0. , 0. , 0. , 0. , 0. ,\n",
       "        0. , 0. , 0. , 0. , 0. , 0. , 0. , 0. , 0. ],\n",
       "       [0.8, 0.2, 1. , 0.4, 0.6, 0.6, 0.6, 1. , 0.4, 0.8, 0.8, 1. , 1. ,\n",
       "        0.6, 0.4, 0.6, 1. , 0.6, 0.6, 0.8, 0.8, 1. , 0.8, 0.8, 0.8, 0.8,\n",
       "        0.4, 0.4, 1. , 0.8, 0.6, 0.8, 0.6, 0.8, 0.6, 0.2, 0.4, 0.6, 1. ,\n",
       "        0.8, 0.4, 1. , 0.8, 0.8, 0.4, 0.8, 0.8, 0.6, 0.8, 0.8, 0.8, 0.8,\n",
       "        1. , 0.6, 0.6, 1. , 0. , 0. , 0. , 0. , 0. , 0. , 0. , 0. , 0. ,\n",
       "        0. , 0. , 0. , 0. , 0. , 0. , 0. , 0. , 0. , 0. , 0. , 0. , 0. ,\n",
       "        0. , 0. , 0. , 0. , 0. , 0. , 0. , 0. , 0. , 0. , 0. , 0. , 0. ,\n",
       "        0. , 0. , 0. , 0. , 0. , 0. , 0. , 0. , 0. ]])"
      ]
     },
     "execution_count": 23,
     "metadata": {},
     "output_type": "execute_result"
    }
   ],
   "source": []
  },
  {
   "cell_type": "code",
   "execution_count": 24,
   "metadata": {},
   "outputs": [
    {
     "data": {
      "text/plain": [
       "[0.8,\n",
       " 0.2,\n",
       " 1.0,\n",
       " 0.8,\n",
       " 0.6,\n",
       " 0.6,\n",
       " 0.8,\n",
       " 1.0,\n",
       " 0.6,\n",
       " 0.8,\n",
       " 0.8,\n",
       " 1.0,\n",
       " 1.0,\n",
       " 0.6,\n",
       " 0.4,\n",
       " 0.8,\n",
       " 1.0,\n",
       " 0.6,\n",
       " 0.8,\n",
       " 0.8,\n",
       " 0.8,\n",
       " 1.0,\n",
       " 0.8,\n",
       " 0.8,\n",
       " 0.8,\n",
       " 0.8,\n",
       " 0.6,\n",
       " 0.8,\n",
       " 1.0,\n",
       " 0.8,\n",
       " 0.6,\n",
       " 0.8,\n",
       " 0.8,\n",
       " 0.8,\n",
       " 0.8,\n",
       " 0.2,\n",
       " 0.8,\n",
       " 0.6,\n",
       " 1.0,\n",
       " 0.8,\n",
       " 1.0,\n",
       " 1.0,\n",
       " 0.8,\n",
       " 1.0,\n",
       " 0.6,\n",
       " 0.8,\n",
       " 0.8,\n",
       " 0.6,\n",
       " 0.8,\n",
       " 1.0,\n",
       " 0.8,\n",
       " 0.8,\n",
       " 1.0,\n",
       " 0.6,\n",
       " 0.6,\n",
       " 1.0,\n",
       " 0.0,\n",
       " 0.0,\n",
       " 0.0,\n",
       " 0.0,\n",
       " 0.0,\n",
       " 0.0,\n",
       " 0.0,\n",
       " 0.0,\n",
       " 0.0,\n",
       " 0.0,\n",
       " 0.0,\n",
       " 0.0,\n",
       " 0.0,\n",
       " 0.0,\n",
       " 0.0,\n",
       " 0.0,\n",
       " 0.0,\n",
       " 0.0,\n",
       " 0.0,\n",
       " 0.0,\n",
       " 0.0,\n",
       " 0.0,\n",
       " 0.0,\n",
       " 0.0,\n",
       " 0.0,\n",
       " 0.0,\n",
       " 0.0,\n",
       " 0.0,\n",
       " 0.0,\n",
       " 0.0,\n",
       " 0.0,\n",
       " 0.0,\n",
       " 0.0,\n",
       " 0.0,\n",
       " 0.0,\n",
       " 0.0,\n",
       " 0.0,\n",
       " 0.0,\n",
       " 0.0,\n",
       " 0.0,\n",
       " 0.0,\n",
       " 0.0,\n",
       " 0.0,\n",
       " 0.0]"
      ]
     },
     "execution_count": 24,
     "metadata": {},
     "output_type": "execute_result"
    }
   ],
   "source": [
    "selected_score"
   ]
  },
  {
   "cell_type": "code",
   "execution_count": null,
   "metadata": {},
   "outputs": [],
   "source": []
  }
 ],
 "metadata": {
  "kernelspec": {
   "display_name": "Python 3 (ipykernel)",
   "language": "python",
   "name": "python3"
  },
  "language_info": {
   "codemirror_mode": {
    "name": "ipython",
    "version": 3
   },
   "file_extension": ".py",
   "mimetype": "text/x-python",
   "name": "python",
   "nbconvert_exporter": "python",
   "pygments_lexer": "ipython3",
   "version": "3.8.10"
  }
 },
 "nbformat": 4,
 "nbformat_minor": 4
}
