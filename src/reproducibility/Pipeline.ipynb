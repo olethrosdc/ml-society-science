{
 "cells": [
  {
   "cell_type": "code",
   "execution_count": 1,
   "metadata": {},
   "outputs": [],
   "source": [
    "import numpy as np"
   ]
  },
  {
   "cell_type": "markdown",
   "metadata": {},
   "source": [
    "In this file, we will set up a pipeline for\n",
    "1. Collecting data for an experiment\n",
    "2. Processing the data\n",
    "3. Running a machine learrning algorithm.\n",
    "4. Evaluating the algorithm\n",
    "5. Choosing the best algorithm and hyperparameters\n",
    "\n",
    "The main questions we need to answer are\n",
    "1. How will data be collected?\n",
    "2. How much data would we need?\n",
    "3. What algorithm would be best? \n",
    "4. How would the amount of data influence algorithm selection?\n",
    "5. How robust is our procedure to assumptions?"
   ]
  },
  {
   "cell_type": "markdown",
   "metadata": {},
   "source": [
    "# Data collection\n",
    "\n",
    "Here we want to call a simulator that collects data for us. The simulator can be arbitrary, but we would normally wish to have a specific API for calling it. In the simplest case, the only input parameter is the amount of data."
   ]
  },
  {
   "cell_type": "code",
   "execution_count": 2,
   "metadata": {},
   "outputs": [],
   "source": [
    "import data_generator\n",
    "\n",
    "# Obtain data from the data generator. \n",
    "# In this case, the data generator gives us a random sample. Other sampling methodologies are possible, of course.\n",
    "generator = data_generator.GaussianClassificationGenerator(2, np.array([0.3, 0.7]))"
   ]
  },
  {
   "cell_type": "code",
   "execution_count": null,
   "metadata": {},
   "outputs": [],
   "source": []
  },
  {
   "cell_type": "markdown",
   "metadata": {},
   "source": [
    "# Data processing\n",
    "\n",
    "Here we perform preliminary processing of the data, if necessary. In particular, we may want to split the data in training, validation and test sets. Other standard pre-processing includes scaling the data, dealing with missing data, and removal of problematic data points. However, all of these could theoretically be dealt within the learning algorithm itself."
   ]
  },
  {
   "cell_type": "code",
   "execution_count": 3,
   "metadata": {},
   "outputs": [],
   "source": [
    "def process_data(X, Y):\n",
    "    import sklearn.model_selection\n",
    "    X_train, X_test, y_train, y_test = sklearn.model_selection.train_test_split(X,Y)\n",
    "    return X_train, X_test, y_train, y_test\n"
   ]
  },
  {
   "cell_type": "markdown",
   "metadata": {},
   "source": [
    "# Evaluation\n",
    "\n",
    "Here we run an ML algorithm, using the data for finding appropriate parameters. It is best to have a unified interface for doing this as well. "
   ]
  },
  {
   "cell_type": "code",
   "execution_count": 4,
   "metadata": {},
   "outputs": [],
   "source": [
    "# get a Trained model\n",
    "def Train(clf, X_train, y_train):\n",
    "    clf.fit(X_train, y_train) # Common API for classifiers in sklearn\n",
    "    return clf"
   ]
  },
  {
   "cell_type": "code",
   "execution_count": 5,
   "metadata": {},
   "outputs": [],
   "source": [
    "from sklearn.metrics import accuracy_score\n",
    "def Evaluate(clf, X_test, y_test):\n",
    "    y_pred = clf.predict(X_test) # Common API\n",
    "    accuracy = accuracy_score(y_pred, y_test)\n",
    "    return accuracy"
   ]
  },
  {
   "cell_type": "code",
   "execution_count": 6,
   "metadata": {},
   "outputs": [],
   "source": [
    "# The experiment setup"
   ]
  },
  {
   "cell_type": "code",
   "execution_count": 7,
   "metadata": {},
   "outputs": [
    {
     "name": "stdout",
     "output_type": "stream",
     "text": [
      "Experiment  0\n",
      "------------\n",
      "SVC(C=100, gamma=0.01) 0.82 0.7732\n",
      "LogisticRegression(random_state=0) 0.76 0.7345\n"
     ]
    },
    {
     "name": "stderr",
     "output_type": "stream",
     "text": [
      "/usr/lib/python3/dist-packages/sklearn/neural_network/_multilayer_perceptron.py:684: ConvergenceWarning: Stochastic Optimizer: Maximum iterations (300) reached and the optimization hasn't converged yet.\n",
      "  warnings.warn(\n"
     ]
    },
    {
     "name": "stdout",
     "output_type": "stream",
     "text": [
      "MLPClassifier(max_iter=300, random_state=1) 0.84 0.7951\n",
      "Experiment  1\n",
      "------------\n",
      "SVC(C=100, gamma=0.01) 0.54 0.772\n",
      "LogisticRegression(random_state=0) 0.52 0.7546\n"
     ]
    },
    {
     "name": "stderr",
     "output_type": "stream",
     "text": [
      "/usr/lib/python3/dist-packages/sklearn/neural_network/_multilayer_perceptron.py:684: ConvergenceWarning: Stochastic Optimizer: Maximum iterations (300) reached and the optimization hasn't converged yet.\n",
      "  warnings.warn(\n"
     ]
    },
    {
     "name": "stdout",
     "output_type": "stream",
     "text": [
      "MLPClassifier(max_iter=300, random_state=1) 0.6 0.7806\n",
      "Experiment  2\n",
      "------------\n",
      "SVC(C=100, gamma=0.01) 0.68 0.7496\n",
      "LogisticRegression(random_state=0) 0.7 0.7577\n"
     ]
    },
    {
     "name": "stderr",
     "output_type": "stream",
     "text": [
      "/usr/lib/python3/dist-packages/sklearn/neural_network/_multilayer_perceptron.py:684: ConvergenceWarning: Stochastic Optimizer: Maximum iterations (300) reached and the optimization hasn't converged yet.\n",
      "  warnings.warn(\n"
     ]
    },
    {
     "name": "stdout",
     "output_type": "stream",
     "text": [
      "MLPClassifier(max_iter=300, random_state=1) 0.78 0.7818\n",
      "Experiment  3\n",
      "------------\n",
      "SVC(C=100, gamma=0.01) 0.78 0.7246\n",
      "LogisticRegression(random_state=0) 0.72 0.7038\n",
      "MLPClassifier(max_iter=300, random_state=1) 0.78 0.7848\n",
      "Experiment  4\n",
      "------------\n",
      "SVC(C=100, gamma=0.01) 0.82 0.7778\n",
      "LogisticRegression(random_state=0) 0.84 0.7444\n"
     ]
    },
    {
     "name": "stderr",
     "output_type": "stream",
     "text": [
      "/usr/lib/python3/dist-packages/sklearn/neural_network/_multilayer_perceptron.py:684: ConvergenceWarning: Stochastic Optimizer: Maximum iterations (300) reached and the optimization hasn't converged yet.\n",
      "  warnings.warn(\n"
     ]
    },
    {
     "name": "stdout",
     "output_type": "stream",
     "text": [
      "MLPClassifier(max_iter=300, random_state=1) 0.88 0.7845\n",
      "Experiment  5\n",
      "------------\n",
      "SVC(C=100, gamma=0.01) 0.8 0.7596\n",
      "LogisticRegression(random_state=0) 0.78 0.7332\n"
     ]
    },
    {
     "name": "stderr",
     "output_type": "stream",
     "text": [
      "/usr/lib/python3/dist-packages/sklearn/neural_network/_multilayer_perceptron.py:684: ConvergenceWarning: Stochastic Optimizer: Maximum iterations (300) reached and the optimization hasn't converged yet.\n",
      "  warnings.warn(\n"
     ]
    },
    {
     "name": "stdout",
     "output_type": "stream",
     "text": [
      "MLPClassifier(max_iter=300, random_state=1) 0.82 0.792\n",
      "Experiment  6\n",
      "------------\n",
      "SVC(C=100, gamma=0.01) 0.68 0.7811\n",
      "LogisticRegression(random_state=0) 0.68 0.7594\n"
     ]
    },
    {
     "name": "stderr",
     "output_type": "stream",
     "text": [
      "/usr/lib/python3/dist-packages/sklearn/neural_network/_multilayer_perceptron.py:684: ConvergenceWarning: Stochastic Optimizer: Maximum iterations (300) reached and the optimization hasn't converged yet.\n",
      "  warnings.warn(\n"
     ]
    },
    {
     "name": "stdout",
     "output_type": "stream",
     "text": [
      "MLPClassifier(max_iter=300, random_state=1) 0.66 0.7909\n",
      "Experiment  7\n",
      "------------\n",
      "SVC(C=100, gamma=0.01) 0.82 0.7873\n",
      "LogisticRegression(random_state=0) 0.78 0.7651\n"
     ]
    },
    {
     "name": "stderr",
     "output_type": "stream",
     "text": [
      "/usr/lib/python3/dist-packages/sklearn/neural_network/_multilayer_perceptron.py:684: ConvergenceWarning: Stochastic Optimizer: Maximum iterations (300) reached and the optimization hasn't converged yet.\n",
      "  warnings.warn(\n"
     ]
    },
    {
     "name": "stdout",
     "output_type": "stream",
     "text": [
      "MLPClassifier(max_iter=300, random_state=1) 0.78 0.7768\n",
      "Experiment  8\n",
      "------------\n",
      "SVC(C=100, gamma=0.01) 0.72 0.7632\n",
      "LogisticRegression(random_state=0) 0.68 0.7692\n"
     ]
    },
    {
     "name": "stderr",
     "output_type": "stream",
     "text": [
      "/usr/lib/python3/dist-packages/sklearn/neural_network/_multilayer_perceptron.py:684: ConvergenceWarning: Stochastic Optimizer: Maximum iterations (300) reached and the optimization hasn't converged yet.\n",
      "  warnings.warn(\n"
     ]
    },
    {
     "name": "stdout",
     "output_type": "stream",
     "text": [
      "MLPClassifier(max_iter=300, random_state=1) 0.68 0.7747\n",
      "Experiment  9\n",
      "------------\n",
      "SVC(C=100, gamma=0.01) 0.78 0.7771\n",
      "LogisticRegression(random_state=0) 0.74 0.7673\n"
     ]
    },
    {
     "name": "stderr",
     "output_type": "stream",
     "text": [
      "/usr/lib/python3/dist-packages/sklearn/neural_network/_multilayer_perceptron.py:684: ConvergenceWarning: Stochastic Optimizer: Maximum iterations (300) reached and the optimization hasn't converged yet.\n",
      "  warnings.warn(\n"
     ]
    },
    {
     "name": "stdout",
     "output_type": "stream",
     "text": [
      "MLPClassifier(max_iter=300, random_state=1) 0.84 0.7777\n",
      "Experiment  10\n",
      "------------\n",
      "SVC(C=100, gamma=0.01) 0.84 0.7799\n",
      "LogisticRegression(random_state=0) 0.8 0.7035\n"
     ]
    },
    {
     "name": "stderr",
     "output_type": "stream",
     "text": [
      "/usr/lib/python3/dist-packages/sklearn/neural_network/_multilayer_perceptron.py:684: ConvergenceWarning: Stochastic Optimizer: Maximum iterations (300) reached and the optimization hasn't converged yet.\n",
      "  warnings.warn(\n"
     ]
    },
    {
     "name": "stdout",
     "output_type": "stream",
     "text": [
      "MLPClassifier(max_iter=300, random_state=1) 0.78 0.7829\n",
      "Experiment  11\n",
      "------------\n",
      "SVC(C=100, gamma=0.01) 0.8 0.7799\n",
      "LogisticRegression(random_state=0) 0.76 0.7657\n"
     ]
    },
    {
     "name": "stderr",
     "output_type": "stream",
     "text": [
      "/usr/lib/python3/dist-packages/sklearn/neural_network/_multilayer_perceptron.py:684: ConvergenceWarning: Stochastic Optimizer: Maximum iterations (300) reached and the optimization hasn't converged yet.\n",
      "  warnings.warn(\n"
     ]
    },
    {
     "name": "stdout",
     "output_type": "stream",
     "text": [
      "MLPClassifier(max_iter=300, random_state=1) 0.84 0.7801\n",
      "Experiment  12\n",
      "------------\n",
      "SVC(C=100, gamma=0.01) 0.78 0.7848\n",
      "LogisticRegression(random_state=0) 0.74 0.761\n"
     ]
    },
    {
     "name": "stderr",
     "output_type": "stream",
     "text": [
      "/usr/lib/python3/dist-packages/sklearn/neural_network/_multilayer_perceptron.py:684: ConvergenceWarning: Stochastic Optimizer: Maximum iterations (300) reached and the optimization hasn't converged yet.\n",
      "  warnings.warn(\n"
     ]
    },
    {
     "name": "stdout",
     "output_type": "stream",
     "text": [
      "MLPClassifier(max_iter=300, random_state=1) 0.82 0.7887\n",
      "Experiment  13\n",
      "------------\n",
      "SVC(C=100, gamma=0.01) 0.8 0.7825\n",
      "LogisticRegression(random_state=0) 0.74 0.7592\n"
     ]
    },
    {
     "name": "stderr",
     "output_type": "stream",
     "text": [
      "/usr/lib/python3/dist-packages/sklearn/neural_network/_multilayer_perceptron.py:684: ConvergenceWarning: Stochastic Optimizer: Maximum iterations (300) reached and the optimization hasn't converged yet.\n",
      "  warnings.warn(\n"
     ]
    },
    {
     "name": "stdout",
     "output_type": "stream",
     "text": [
      "MLPClassifier(max_iter=300, random_state=1) 0.84 0.7815\n",
      "Experiment  14\n",
      "------------\n",
      "SVC(C=100, gamma=0.01) 0.76 0.7665\n",
      "LogisticRegression(random_state=0) 0.74 0.7262\n"
     ]
    },
    {
     "name": "stderr",
     "output_type": "stream",
     "text": [
      "/usr/lib/python3/dist-packages/sklearn/neural_network/_multilayer_perceptron.py:684: ConvergenceWarning: Stochastic Optimizer: Maximum iterations (300) reached and the optimization hasn't converged yet.\n",
      "  warnings.warn(\n"
     ]
    },
    {
     "name": "stdout",
     "output_type": "stream",
     "text": [
      "MLPClassifier(max_iter=300, random_state=1) 0.78 0.7886\n",
      "Experiment  15\n",
      "------------\n",
      "SVC(C=100, gamma=0.01) 0.78 0.7597\n",
      "LogisticRegression(random_state=0) 0.78 0.7061\n"
     ]
    },
    {
     "name": "stderr",
     "output_type": "stream",
     "text": [
      "/usr/lib/python3/dist-packages/sklearn/neural_network/_multilayer_perceptron.py:684: ConvergenceWarning: Stochastic Optimizer: Maximum iterations (300) reached and the optimization hasn't converged yet.\n",
      "  warnings.warn(\n"
     ]
    },
    {
     "name": "stdout",
     "output_type": "stream",
     "text": [
      "MLPClassifier(max_iter=300, random_state=1) 0.74 0.7825\n",
      "Experiment  16\n",
      "------------\n",
      "SVC(C=100, gamma=0.01) 0.84 0.7807\n",
      "LogisticRegression(random_state=0) 0.8 0.7588\n"
     ]
    },
    {
     "name": "stderr",
     "output_type": "stream",
     "text": [
      "/usr/lib/python3/dist-packages/sklearn/neural_network/_multilayer_perceptron.py:684: ConvergenceWarning: Stochastic Optimizer: Maximum iterations (300) reached and the optimization hasn't converged yet.\n",
      "  warnings.warn(\n"
     ]
    },
    {
     "name": "stdout",
     "output_type": "stream",
     "text": [
      "MLPClassifier(max_iter=300, random_state=1) 0.8 0.7903\n",
      "Experiment  17\n",
      "------------\n",
      "SVC(C=100, gamma=0.01) 0.86 0.7705\n",
      "LogisticRegression(random_state=0) 0.84 0.7325\n"
     ]
    },
    {
     "name": "stderr",
     "output_type": "stream",
     "text": [
      "/usr/lib/python3/dist-packages/sklearn/neural_network/_multilayer_perceptron.py:684: ConvergenceWarning: Stochastic Optimizer: Maximum iterations (300) reached and the optimization hasn't converged yet.\n",
      "  warnings.warn(\n"
     ]
    },
    {
     "name": "stdout",
     "output_type": "stream",
     "text": [
      "MLPClassifier(max_iter=300, random_state=1) 0.82 0.7867\n",
      "Experiment  18\n",
      "------------\n",
      "SVC(C=100, gamma=0.01) 0.76 0.7589\n",
      "LogisticRegression(random_state=0) 0.74 0.7484\n"
     ]
    },
    {
     "name": "stderr",
     "output_type": "stream",
     "text": [
      "/usr/lib/python3/dist-packages/sklearn/neural_network/_multilayer_perceptron.py:684: ConvergenceWarning: Stochastic Optimizer: Maximum iterations (300) reached and the optimization hasn't converged yet.\n",
      "  warnings.warn(\n"
     ]
    },
    {
     "name": "stdout",
     "output_type": "stream",
     "text": [
      "MLPClassifier(max_iter=300, random_state=1) 0.76 0.7844\n",
      "Experiment  19\n",
      "------------\n",
      "SVC(C=100, gamma=0.01) 0.72 0.7763\n",
      "LogisticRegression(random_state=0) 0.7 0.7694\n",
      "MLPClassifier(max_iter=300, random_state=1) 0.72 0.7862\n",
      "Experiment  20\n",
      "------------\n",
      "SVC(C=100, gamma=0.01) 0.68 0.773\n",
      "LogisticRegression(random_state=0) 0.68 0.7626\n",
      "MLPClassifier(max_iter=300, random_state=1) 0.76 0.7785\n",
      "Experiment  21\n",
      "------------\n",
      "SVC(C=100, gamma=0.01) 0.84 0.778\n",
      "LogisticRegression(random_state=0) 0.86 0.7457\n"
     ]
    },
    {
     "name": "stderr",
     "output_type": "stream",
     "text": [
      "/usr/lib/python3/dist-packages/sklearn/neural_network/_multilayer_perceptron.py:684: ConvergenceWarning: Stochastic Optimizer: Maximum iterations (300) reached and the optimization hasn't converged yet.\n",
      "  warnings.warn(\n"
     ]
    },
    {
     "name": "stdout",
     "output_type": "stream",
     "text": [
      "MLPClassifier(max_iter=300, random_state=1) 0.82 0.7861\n",
      "Experiment  22\n",
      "------------\n",
      "SVC(C=100, gamma=0.01) 0.76 0.779\n",
      "LogisticRegression(random_state=0) 0.74 0.7719\n"
     ]
    },
    {
     "name": "stderr",
     "output_type": "stream",
     "text": [
      "/usr/lib/python3/dist-packages/sklearn/neural_network/_multilayer_perceptron.py:684: ConvergenceWarning: Stochastic Optimizer: Maximum iterations (300) reached and the optimization hasn't converged yet.\n",
      "  warnings.warn(\n"
     ]
    },
    {
     "name": "stdout",
     "output_type": "stream",
     "text": [
      "MLPClassifier(max_iter=300, random_state=1) 0.76 0.7777\n",
      "Experiment  23\n",
      "------------\n",
      "SVC(C=100, gamma=0.01) 0.82 0.7801\n",
      "LogisticRegression(random_state=0) 0.82 0.7677\n"
     ]
    },
    {
     "name": "stderr",
     "output_type": "stream",
     "text": [
      "/usr/lib/python3/dist-packages/sklearn/neural_network/_multilayer_perceptron.py:684: ConvergenceWarning: Stochastic Optimizer: Maximum iterations (300) reached and the optimization hasn't converged yet.\n",
      "  warnings.warn(\n"
     ]
    },
    {
     "name": "stdout",
     "output_type": "stream",
     "text": [
      "MLPClassifier(max_iter=300, random_state=1) 0.76 0.7856\n",
      "Experiment  24\n",
      "------------\n",
      "SVC(C=100, gamma=0.01) 0.74 0.7865\n",
      "LogisticRegression(random_state=0) 0.76 0.7557\n"
     ]
    },
    {
     "name": "stderr",
     "output_type": "stream",
     "text": [
      "/usr/lib/python3/dist-packages/sklearn/neural_network/_multilayer_perceptron.py:684: ConvergenceWarning: Stochastic Optimizer: Maximum iterations (300) reached and the optimization hasn't converged yet.\n",
      "  warnings.warn(\n"
     ]
    },
    {
     "name": "stdout",
     "output_type": "stream",
     "text": [
      "MLPClassifier(max_iter=300, random_state=1) 0.72 0.7896\n",
      "Experiment  25\n",
      "------------\n",
      "SVC(C=100, gamma=0.01) 0.78 0.7816\n",
      "LogisticRegression(random_state=0) 0.74 0.766\n"
     ]
    },
    {
     "name": "stderr",
     "output_type": "stream",
     "text": [
      "/usr/lib/python3/dist-packages/sklearn/neural_network/_multilayer_perceptron.py:684: ConvergenceWarning: Stochastic Optimizer: Maximum iterations (300) reached and the optimization hasn't converged yet.\n",
      "  warnings.warn(\n"
     ]
    },
    {
     "name": "stdout",
     "output_type": "stream",
     "text": [
      "MLPClassifier(max_iter=300, random_state=1) 0.84 0.7853\n",
      "Experiment  26\n",
      "------------\n",
      "SVC(C=100, gamma=0.01) 0.72 0.7564\n",
      "LogisticRegression(random_state=0) 0.74 0.7544\n"
     ]
    },
    {
     "name": "stderr",
     "output_type": "stream",
     "text": [
      "/usr/lib/python3/dist-packages/sklearn/neural_network/_multilayer_perceptron.py:684: ConvergenceWarning: Stochastic Optimizer: Maximum iterations (300) reached and the optimization hasn't converged yet.\n",
      "  warnings.warn(\n"
     ]
    },
    {
     "name": "stdout",
     "output_type": "stream",
     "text": [
      "MLPClassifier(max_iter=300, random_state=1) 0.82 0.787\n",
      "Experiment  27\n",
      "------------\n",
      "SVC(C=100, gamma=0.01) 0.78 0.7791\n",
      "LogisticRegression(random_state=0) 0.76 0.7556\n"
     ]
    },
    {
     "name": "stderr",
     "output_type": "stream",
     "text": [
      "/usr/lib/python3/dist-packages/sklearn/neural_network/_multilayer_perceptron.py:684: ConvergenceWarning: Stochastic Optimizer: Maximum iterations (300) reached and the optimization hasn't converged yet.\n",
      "  warnings.warn(\n"
     ]
    },
    {
     "name": "stdout",
     "output_type": "stream",
     "text": [
      "MLPClassifier(max_iter=300, random_state=1) 0.82 0.7845\n",
      "Experiment  28\n",
      "------------\n",
      "SVC(C=100, gamma=0.01) 0.72 0.7798\n",
      "LogisticRegression(random_state=0) 0.7 0.7581\n"
     ]
    },
    {
     "name": "stderr",
     "output_type": "stream",
     "text": [
      "/usr/lib/python3/dist-packages/sklearn/neural_network/_multilayer_perceptron.py:684: ConvergenceWarning: Stochastic Optimizer: Maximum iterations (300) reached and the optimization hasn't converged yet.\n",
      "  warnings.warn(\n"
     ]
    },
    {
     "name": "stdout",
     "output_type": "stream",
     "text": [
      "MLPClassifier(max_iter=300, random_state=1) 0.72 0.7842\n",
      "Experiment  29\n",
      "------------\n",
      "SVC(C=100, gamma=0.01) 0.66 0.7744\n",
      "LogisticRegression(random_state=0) 0.64 0.7721\n"
     ]
    },
    {
     "name": "stderr",
     "output_type": "stream",
     "text": [
      "/usr/lib/python3/dist-packages/sklearn/neural_network/_multilayer_perceptron.py:684: ConvergenceWarning: Stochastic Optimizer: Maximum iterations (300) reached and the optimization hasn't converged yet.\n",
      "  warnings.warn(\n"
     ]
    },
    {
     "name": "stdout",
     "output_type": "stream",
     "text": [
      "MLPClassifier(max_iter=300, random_state=1) 0.66 0.7775\n",
      "Experiment  30\n",
      "------------\n",
      "SVC(C=100, gamma=0.01) 0.72 0.7775\n",
      "LogisticRegression(random_state=0) 0.74 0.7636\n"
     ]
    },
    {
     "name": "stderr",
     "output_type": "stream",
     "text": [
      "/usr/lib/python3/dist-packages/sklearn/neural_network/_multilayer_perceptron.py:684: ConvergenceWarning: Stochastic Optimizer: Maximum iterations (300) reached and the optimization hasn't converged yet.\n",
      "  warnings.warn(\n"
     ]
    },
    {
     "name": "stdout",
     "output_type": "stream",
     "text": [
      "MLPClassifier(max_iter=300, random_state=1) 0.74 0.7886\n",
      "Experiment  31\n",
      "------------\n",
      "SVC(C=100, gamma=0.01) 0.82 0.78\n",
      "LogisticRegression(random_state=0) 0.8 0.7255\n"
     ]
    },
    {
     "name": "stderr",
     "output_type": "stream",
     "text": [
      "/usr/lib/python3/dist-packages/sklearn/neural_network/_multilayer_perceptron.py:684: ConvergenceWarning: Stochastic Optimizer: Maximum iterations (300) reached and the optimization hasn't converged yet.\n",
      "  warnings.warn(\n"
     ]
    },
    {
     "name": "stdout",
     "output_type": "stream",
     "text": [
      "MLPClassifier(max_iter=300, random_state=1) 0.82 0.7909\n",
      "Experiment  32\n",
      "------------\n",
      "SVC(C=100, gamma=0.01) 0.76 0.7823\n",
      "LogisticRegression(random_state=0) 0.7 0.7706\n"
     ]
    },
    {
     "name": "stderr",
     "output_type": "stream",
     "text": [
      "/usr/lib/python3/dist-packages/sklearn/neural_network/_multilayer_perceptron.py:684: ConvergenceWarning: Stochastic Optimizer: Maximum iterations (300) reached and the optimization hasn't converged yet.\n",
      "  warnings.warn(\n"
     ]
    },
    {
     "name": "stdout",
     "output_type": "stream",
     "text": [
      "MLPClassifier(max_iter=300, random_state=1) 0.78 0.7849\n",
      "Experiment  33\n",
      "------------\n",
      "SVC(C=100, gamma=0.01) 0.84 0.7869\n",
      "LogisticRegression(random_state=0) 0.76 0.76\n"
     ]
    },
    {
     "name": "stderr",
     "output_type": "stream",
     "text": [
      "/usr/lib/python3/dist-packages/sklearn/neural_network/_multilayer_perceptron.py:684: ConvergenceWarning: Stochastic Optimizer: Maximum iterations (300) reached and the optimization hasn't converged yet.\n",
      "  warnings.warn(\n"
     ]
    },
    {
     "name": "stdout",
     "output_type": "stream",
     "text": [
      "MLPClassifier(max_iter=300, random_state=1) 0.84 0.7779\n",
      "Experiment  34\n",
      "------------\n",
      "SVC(C=100, gamma=0.01) 0.8 0.7794\n",
      "LogisticRegression(random_state=0) 0.8 0.7686\n"
     ]
    },
    {
     "name": "stderr",
     "output_type": "stream",
     "text": [
      "/usr/lib/python3/dist-packages/sklearn/neural_network/_multilayer_perceptron.py:684: ConvergenceWarning: Stochastic Optimizer: Maximum iterations (300) reached and the optimization hasn't converged yet.\n",
      "  warnings.warn(\n"
     ]
    },
    {
     "name": "stdout",
     "output_type": "stream",
     "text": [
      "MLPClassifier(max_iter=300, random_state=1) 0.86 0.7871\n",
      "Experiment  35\n",
      "------------\n",
      "SVC(C=100, gamma=0.01) 0.76 0.7783\n",
      "LogisticRegression(random_state=0) 0.62 0.7063\n"
     ]
    },
    {
     "name": "stderr",
     "output_type": "stream",
     "text": [
      "/usr/lib/python3/dist-packages/sklearn/neural_network/_multilayer_perceptron.py:684: ConvergenceWarning: Stochastic Optimizer: Maximum iterations (300) reached and the optimization hasn't converged yet.\n",
      "  warnings.warn(\n"
     ]
    },
    {
     "name": "stdout",
     "output_type": "stream",
     "text": [
      "MLPClassifier(max_iter=300, random_state=1) 0.78 0.7638\n",
      "Experiment  36\n",
      "------------\n",
      "SVC(C=100, gamma=0.01) 0.86 0.7768\n",
      "LogisticRegression(random_state=0) 0.86 0.7662\n",
      "MLPClassifier(max_iter=300, random_state=1) 0.88 0.7748\n",
      "Experiment  37\n",
      "------------\n",
      "SVC(C=100, gamma=0.01) 0.74 0.7773\n",
      "LogisticRegression(random_state=0) 0.74 0.7463\n"
     ]
    },
    {
     "name": "stderr",
     "output_type": "stream",
     "text": [
      "/usr/lib/python3/dist-packages/sklearn/neural_network/_multilayer_perceptron.py:684: ConvergenceWarning: Stochastic Optimizer: Maximum iterations (300) reached and the optimization hasn't converged yet.\n",
      "  warnings.warn(\n"
     ]
    },
    {
     "name": "stdout",
     "output_type": "stream",
     "text": [
      "MLPClassifier(max_iter=300, random_state=1) 0.76 0.7819\n",
      "Experiment  38\n",
      "------------\n",
      "SVC(C=100, gamma=0.01) 0.74 0.7823\n",
      "LogisticRegression(random_state=0) 0.68 0.7347\n"
     ]
    },
    {
     "name": "stderr",
     "output_type": "stream",
     "text": [
      "/usr/lib/python3/dist-packages/sklearn/neural_network/_multilayer_perceptron.py:684: ConvergenceWarning: Stochastic Optimizer: Maximum iterations (300) reached and the optimization hasn't converged yet.\n",
      "  warnings.warn(\n"
     ]
    },
    {
     "name": "stdout",
     "output_type": "stream",
     "text": [
      "MLPClassifier(max_iter=300, random_state=1) 0.76 0.7893\n",
      "Experiment  39\n",
      "------------\n",
      "SVC(C=100, gamma=0.01) 0.68 0.767\n",
      "LogisticRegression(random_state=0) 0.66 0.7315\n"
     ]
    },
    {
     "name": "stderr",
     "output_type": "stream",
     "text": [
      "/usr/lib/python3/dist-packages/sklearn/neural_network/_multilayer_perceptron.py:684: ConvergenceWarning: Stochastic Optimizer: Maximum iterations (300) reached and the optimization hasn't converged yet.\n",
      "  warnings.warn(\n"
     ]
    },
    {
     "name": "stdout",
     "output_type": "stream",
     "text": [
      "MLPClassifier(max_iter=300, random_state=1) 0.74 0.7906\n",
      "Experiment  40\n",
      "------------\n",
      "SVC(C=100, gamma=0.01) 0.74 0.7851\n",
      "LogisticRegression(random_state=0) 0.7 0.734\n"
     ]
    },
    {
     "name": "stderr",
     "output_type": "stream",
     "text": [
      "/usr/lib/python3/dist-packages/sklearn/neural_network/_multilayer_perceptron.py:684: ConvergenceWarning: Stochastic Optimizer: Maximum iterations (300) reached and the optimization hasn't converged yet.\n",
      "  warnings.warn(\n"
     ]
    },
    {
     "name": "stdout",
     "output_type": "stream",
     "text": [
      "MLPClassifier(max_iter=300, random_state=1) 0.7 0.7928\n",
      "Experiment  41\n",
      "------------\n",
      "SVC(C=100, gamma=0.01) 0.82 0.7776\n",
      "LogisticRegression(random_state=0) 0.78 0.7681\n"
     ]
    },
    {
     "name": "stderr",
     "output_type": "stream",
     "text": [
      "/usr/lib/python3/dist-packages/sklearn/neural_network/_multilayer_perceptron.py:684: ConvergenceWarning: Stochastic Optimizer: Maximum iterations (300) reached and the optimization hasn't converged yet.\n",
      "  warnings.warn(\n"
     ]
    },
    {
     "name": "stdout",
     "output_type": "stream",
     "text": [
      "MLPClassifier(max_iter=300, random_state=1) 0.8 0.7771\n",
      "Experiment  42\n",
      "------------\n",
      "SVC(C=100, gamma=0.01) 0.78 0.7417\n",
      "LogisticRegression(random_state=0) 0.8 0.765\n"
     ]
    },
    {
     "name": "stderr",
     "output_type": "stream",
     "text": [
      "/usr/lib/python3/dist-packages/sklearn/neural_network/_multilayer_perceptron.py:684: ConvergenceWarning: Stochastic Optimizer: Maximum iterations (300) reached and the optimization hasn't converged yet.\n",
      "  warnings.warn(\n"
     ]
    },
    {
     "name": "stdout",
     "output_type": "stream",
     "text": [
      "MLPClassifier(max_iter=300, random_state=1) 0.8 0.7811\n",
      "Experiment  43\n",
      "------------\n",
      "SVC(C=100, gamma=0.01) 0.76 0.7853\n",
      "LogisticRegression(random_state=0) 0.78 0.7668\n"
     ]
    },
    {
     "name": "stderr",
     "output_type": "stream",
     "text": [
      "/usr/lib/python3/dist-packages/sklearn/neural_network/_multilayer_perceptron.py:684: ConvergenceWarning: Stochastic Optimizer: Maximum iterations (300) reached and the optimization hasn't converged yet.\n",
      "  warnings.warn(\n"
     ]
    },
    {
     "name": "stdout",
     "output_type": "stream",
     "text": [
      "MLPClassifier(max_iter=300, random_state=1) 0.82 0.7837\n",
      "Experiment  44\n",
      "------------\n",
      "SVC(C=100, gamma=0.01) 0.76 0.7742\n",
      "LogisticRegression(random_state=0) 0.72 0.7661\n",
      "MLPClassifier(max_iter=300, random_state=1) 0.78 0.7912\n",
      "Experiment  45\n",
      "------------\n",
      "SVC(C=100, gamma=0.01) 0.8 0.7784\n",
      "LogisticRegression(random_state=0) 0.78 0.7483\n"
     ]
    },
    {
     "name": "stderr",
     "output_type": "stream",
     "text": [
      "/usr/lib/python3/dist-packages/sklearn/neural_network/_multilayer_perceptron.py:684: ConvergenceWarning: Stochastic Optimizer: Maximum iterations (300) reached and the optimization hasn't converged yet.\n",
      "  warnings.warn(\n"
     ]
    },
    {
     "name": "stdout",
     "output_type": "stream",
     "text": [
      "MLPClassifier(max_iter=300, random_state=1) 0.84 0.7853\n",
      "Experiment  46\n",
      "------------\n",
      "SVC(C=100, gamma=0.01) 0.88 0.7829\n",
      "LogisticRegression(random_state=0) 0.88 0.7654\n"
     ]
    },
    {
     "name": "stderr",
     "output_type": "stream",
     "text": [
      "/usr/lib/python3/dist-packages/sklearn/neural_network/_multilayer_perceptron.py:684: ConvergenceWarning: Stochastic Optimizer: Maximum iterations (300) reached and the optimization hasn't converged yet.\n",
      "  warnings.warn(\n"
     ]
    },
    {
     "name": "stdout",
     "output_type": "stream",
     "text": [
      "MLPClassifier(max_iter=300, random_state=1) 0.88 0.7733\n",
      "Experiment  47\n",
      "------------\n",
      "SVC(C=100, gamma=0.01) 0.76 0.7638\n",
      "LogisticRegression(random_state=0) 0.66 0.7196\n"
     ]
    },
    {
     "name": "stderr",
     "output_type": "stream",
     "text": [
      "/usr/lib/python3/dist-packages/sklearn/neural_network/_multilayer_perceptron.py:684: ConvergenceWarning: Stochastic Optimizer: Maximum iterations (300) reached and the optimization hasn't converged yet.\n",
      "  warnings.warn(\n"
     ]
    },
    {
     "name": "stdout",
     "output_type": "stream",
     "text": [
      "MLPClassifier(max_iter=300, random_state=1) 0.78 0.7946\n",
      "Experiment  48\n",
      "------------\n",
      "SVC(C=100, gamma=0.01) 0.66 0.7748\n",
      "LogisticRegression(random_state=0) 0.62 0.7284\n"
     ]
    },
    {
     "name": "stderr",
     "output_type": "stream",
     "text": [
      "/usr/lib/python3/dist-packages/sklearn/neural_network/_multilayer_perceptron.py:684: ConvergenceWarning: Stochastic Optimizer: Maximum iterations (300) reached and the optimization hasn't converged yet.\n",
      "  warnings.warn(\n"
     ]
    },
    {
     "name": "stdout",
     "output_type": "stream",
     "text": [
      "MLPClassifier(max_iter=300, random_state=1) 0.74 0.7885\n",
      "Experiment  49\n",
      "------------\n",
      "SVC(C=100, gamma=0.01) 0.76 0.7848\n",
      "LogisticRegression(random_state=0) 0.66 0.7513\n"
     ]
    },
    {
     "name": "stderr",
     "output_type": "stream",
     "text": [
      "/usr/lib/python3/dist-packages/sklearn/neural_network/_multilayer_perceptron.py:684: ConvergenceWarning: Stochastic Optimizer: Maximum iterations (300) reached and the optimization hasn't converged yet.\n",
      "  warnings.warn(\n"
     ]
    },
    {
     "name": "stdout",
     "output_type": "stream",
     "text": [
      "MLPClassifier(max_iter=300, random_state=1) 0.74 0.7929\n",
      "Experiment  50\n",
      "------------\n",
      "SVC(C=100, gamma=0.01) 0.86 0.773\n",
      "LogisticRegression(random_state=0) 0.8 0.7591\n",
      "MLPClassifier(max_iter=300, random_state=1) 0.8 0.7773\n",
      "Experiment  51\n",
      "------------\n",
      "SVC(C=100, gamma=0.01) 0.72 0.7843\n",
      "LogisticRegression(random_state=0) 0.7 0.7591\n"
     ]
    },
    {
     "name": "stderr",
     "output_type": "stream",
     "text": [
      "/usr/lib/python3/dist-packages/sklearn/neural_network/_multilayer_perceptron.py:684: ConvergenceWarning: Stochastic Optimizer: Maximum iterations (300) reached and the optimization hasn't converged yet.\n",
      "  warnings.warn(\n"
     ]
    },
    {
     "name": "stdout",
     "output_type": "stream",
     "text": [
      "MLPClassifier(max_iter=300, random_state=1) 0.68 0.787\n",
      "Experiment  52\n",
      "------------\n",
      "SVC(C=100, gamma=0.01) 0.82 0.7871\n",
      "LogisticRegression(random_state=0) 0.8 0.7725\n"
     ]
    },
    {
     "name": "stderr",
     "output_type": "stream",
     "text": [
      "/usr/lib/python3/dist-packages/sklearn/neural_network/_multilayer_perceptron.py:684: ConvergenceWarning: Stochastic Optimizer: Maximum iterations (300) reached and the optimization hasn't converged yet.\n",
      "  warnings.warn(\n"
     ]
    },
    {
     "name": "stdout",
     "output_type": "stream",
     "text": [
      "MLPClassifier(max_iter=300, random_state=1) 0.84 0.7864\n",
      "Experiment  53\n",
      "------------\n",
      "SVC(C=100, gamma=0.01) 0.82 0.7662\n",
      "LogisticRegression(random_state=0) 0.78 0.7588\n"
     ]
    },
    {
     "name": "stderr",
     "output_type": "stream",
     "text": [
      "/usr/lib/python3/dist-packages/sklearn/neural_network/_multilayer_perceptron.py:684: ConvergenceWarning: Stochastic Optimizer: Maximum iterations (300) reached and the optimization hasn't converged yet.\n",
      "  warnings.warn(\n"
     ]
    },
    {
     "name": "stdout",
     "output_type": "stream",
     "text": [
      "MLPClassifier(max_iter=300, random_state=1) 0.84 0.7866\n",
      "Experiment  54\n",
      "------------\n",
      "SVC(C=100, gamma=0.01) 0.76 0.77\n",
      "LogisticRegression(random_state=0) 0.76 0.7644\n"
     ]
    },
    {
     "name": "stderr",
     "output_type": "stream",
     "text": [
      "/usr/lib/python3/dist-packages/sklearn/neural_network/_multilayer_perceptron.py:684: ConvergenceWarning: Stochastic Optimizer: Maximum iterations (300) reached and the optimization hasn't converged yet.\n",
      "  warnings.warn(\n"
     ]
    },
    {
     "name": "stdout",
     "output_type": "stream",
     "text": [
      "MLPClassifier(max_iter=300, random_state=1) 0.76 0.7819\n",
      "Experiment  55\n",
      "------------\n",
      "SVC(C=100, gamma=0.01) 0.84 0.7852\n",
      "LogisticRegression(random_state=0) 0.8 0.7575\n",
      "MLPClassifier(max_iter=300, random_state=1) 0.84 0.7905\n",
      "Experiment  56\n",
      "------------\n",
      "SVC(C=100, gamma=0.01) 0.8 0.7563\n",
      "LogisticRegression(random_state=0) 0.8 0.7548\n"
     ]
    },
    {
     "name": "stderr",
     "output_type": "stream",
     "text": [
      "/usr/lib/python3/dist-packages/sklearn/neural_network/_multilayer_perceptron.py:684: ConvergenceWarning: Stochastic Optimizer: Maximum iterations (300) reached and the optimization hasn't converged yet.\n",
      "  warnings.warn(\n"
     ]
    },
    {
     "name": "stdout",
     "output_type": "stream",
     "text": [
      "MLPClassifier(max_iter=300, random_state=1) 0.76 0.7802\n",
      "Experiment  57\n",
      "------------\n",
      "SVC(C=100, gamma=0.01) 0.74 0.7798\n",
      "LogisticRegression(random_state=0) 0.74 0.7653\n",
      "MLPClassifier(max_iter=300, random_state=1) 0.74 0.7802\n",
      "Experiment  58\n",
      "------------\n",
      "SVC(C=100, gamma=0.01) 0.86 0.7689\n",
      "LogisticRegression(random_state=0) 0.82 0.7586\n"
     ]
    },
    {
     "name": "stderr",
     "output_type": "stream",
     "text": [
      "/usr/lib/python3/dist-packages/sklearn/neural_network/_multilayer_perceptron.py:684: ConvergenceWarning: Stochastic Optimizer: Maximum iterations (300) reached and the optimization hasn't converged yet.\n",
      "  warnings.warn(\n"
     ]
    },
    {
     "name": "stdout",
     "output_type": "stream",
     "text": [
      "MLPClassifier(max_iter=300, random_state=1) 0.86 0.786\n",
      "Experiment  59\n",
      "------------\n",
      "SVC(C=100, gamma=0.01) 0.74 0.7855\n",
      "LogisticRegression(random_state=0) 0.7 0.7503\n"
     ]
    },
    {
     "name": "stderr",
     "output_type": "stream",
     "text": [
      "/usr/lib/python3/dist-packages/sklearn/neural_network/_multilayer_perceptron.py:684: ConvergenceWarning: Stochastic Optimizer: Maximum iterations (300) reached and the optimization hasn't converged yet.\n",
      "  warnings.warn(\n"
     ]
    },
    {
     "name": "stdout",
     "output_type": "stream",
     "text": [
      "MLPClassifier(max_iter=300, random_state=1) 0.76 0.7892\n",
      "Experiment  60\n",
      "------------\n",
      "SVC(C=100, gamma=0.01) 0.76 0.7828\n",
      "LogisticRegression(random_state=0) 0.72 0.7465\n"
     ]
    },
    {
     "name": "stderr",
     "output_type": "stream",
     "text": [
      "/usr/lib/python3/dist-packages/sklearn/neural_network/_multilayer_perceptron.py:684: ConvergenceWarning: Stochastic Optimizer: Maximum iterations (300) reached and the optimization hasn't converged yet.\n",
      "  warnings.warn(\n"
     ]
    },
    {
     "name": "stdout",
     "output_type": "stream",
     "text": [
      "MLPClassifier(max_iter=300, random_state=1) 0.78 0.7755\n",
      "Experiment  61\n",
      "------------\n",
      "SVC(C=100, gamma=0.01) 0.84 0.7629\n",
      "LogisticRegression(random_state=0) 0.72 0.7006\n"
     ]
    },
    {
     "name": "stderr",
     "output_type": "stream",
     "text": [
      "/usr/lib/python3/dist-packages/sklearn/neural_network/_multilayer_perceptron.py:684: ConvergenceWarning: Stochastic Optimizer: Maximum iterations (300) reached and the optimization hasn't converged yet.\n",
      "  warnings.warn(\n"
     ]
    },
    {
     "name": "stdout",
     "output_type": "stream",
     "text": [
      "MLPClassifier(max_iter=300, random_state=1) 0.82 0.7735\n",
      "Experiment  62\n",
      "------------\n",
      "SVC(C=100, gamma=0.01) 0.7 0.7786\n",
      "LogisticRegression(random_state=0) 0.68 0.7469\n"
     ]
    },
    {
     "name": "stderr",
     "output_type": "stream",
     "text": [
      "/usr/lib/python3/dist-packages/sklearn/neural_network/_multilayer_perceptron.py:684: ConvergenceWarning: Stochastic Optimizer: Maximum iterations (300) reached and the optimization hasn't converged yet.\n",
      "  warnings.warn(\n"
     ]
    },
    {
     "name": "stdout",
     "output_type": "stream",
     "text": [
      "MLPClassifier(max_iter=300, random_state=1) 0.82 0.7874\n",
      "Experiment  63\n",
      "------------\n",
      "SVC(C=100, gamma=0.01) 0.76 0.7835\n",
      "LogisticRegression(random_state=0) 0.74 0.7628\n"
     ]
    },
    {
     "name": "stderr",
     "output_type": "stream",
     "text": [
      "/usr/lib/python3/dist-packages/sklearn/neural_network/_multilayer_perceptron.py:684: ConvergenceWarning: Stochastic Optimizer: Maximum iterations (300) reached and the optimization hasn't converged yet.\n",
      "  warnings.warn(\n"
     ]
    },
    {
     "name": "stdout",
     "output_type": "stream",
     "text": [
      "MLPClassifier(max_iter=300, random_state=1) 0.78 0.7838\n",
      "Experiment  64\n",
      "------------\n",
      "SVC(C=100, gamma=0.01) 0.62 0.7571\n",
      "LogisticRegression(random_state=0) 0.56 0.7562\n"
     ]
    },
    {
     "name": "stderr",
     "output_type": "stream",
     "text": [
      "/usr/lib/python3/dist-packages/sklearn/neural_network/_multilayer_perceptron.py:684: ConvergenceWarning: Stochastic Optimizer: Maximum iterations (300) reached and the optimization hasn't converged yet.\n",
      "  warnings.warn(\n"
     ]
    },
    {
     "name": "stdout",
     "output_type": "stream",
     "text": [
      "MLPClassifier(max_iter=300, random_state=1) 0.6 0.7548\n",
      "Experiment  65\n",
      "------------\n",
      "SVC(C=100, gamma=0.01) 0.8 0.783\n",
      "LogisticRegression(random_state=0) 0.78 0.7509\n"
     ]
    },
    {
     "name": "stderr",
     "output_type": "stream",
     "text": [
      "/usr/lib/python3/dist-packages/sklearn/neural_network/_multilayer_perceptron.py:684: ConvergenceWarning: Stochastic Optimizer: Maximum iterations (300) reached and the optimization hasn't converged yet.\n",
      "  warnings.warn(\n"
     ]
    },
    {
     "name": "stdout",
     "output_type": "stream",
     "text": [
      "MLPClassifier(max_iter=300, random_state=1) 0.78 0.7768\n",
      "Experiment  66\n",
      "------------\n",
      "SVC(C=100, gamma=0.01) 0.76 0.7763\n",
      "LogisticRegression(random_state=0) 0.76 0.7517\n"
     ]
    },
    {
     "name": "stderr",
     "output_type": "stream",
     "text": [
      "/usr/lib/python3/dist-packages/sklearn/neural_network/_multilayer_perceptron.py:684: ConvergenceWarning: Stochastic Optimizer: Maximum iterations (300) reached and the optimization hasn't converged yet.\n",
      "  warnings.warn(\n"
     ]
    },
    {
     "name": "stdout",
     "output_type": "stream",
     "text": [
      "MLPClassifier(max_iter=300, random_state=1) 0.76 0.7892\n",
      "Experiment  67\n",
      "------------\n",
      "SVC(C=100, gamma=0.01) 0.84 0.7745\n",
      "LogisticRegression(random_state=0) 0.84 0.7683\n",
      "MLPClassifier(max_iter=300, random_state=1) 0.86 0.7792\n",
      "Experiment  68\n",
      "------------\n",
      "SVC(C=100, gamma=0.01) 0.86 0.7859\n",
      "LogisticRegression(random_state=0) 0.82 0.7452\n"
     ]
    },
    {
     "name": "stderr",
     "output_type": "stream",
     "text": [
      "/usr/lib/python3/dist-packages/sklearn/neural_network/_multilayer_perceptron.py:684: ConvergenceWarning: Stochastic Optimizer: Maximum iterations (300) reached and the optimization hasn't converged yet.\n",
      "  warnings.warn(\n"
     ]
    },
    {
     "name": "stdout",
     "output_type": "stream",
     "text": [
      "MLPClassifier(max_iter=300, random_state=1) 0.82 0.7854\n",
      "Experiment  69\n",
      "------------\n",
      "SVC(C=100, gamma=0.01) 0.82 0.7773\n",
      "LogisticRegression(random_state=0) 0.8 0.7541\n"
     ]
    },
    {
     "name": "stderr",
     "output_type": "stream",
     "text": [
      "/usr/lib/python3/dist-packages/sklearn/neural_network/_multilayer_perceptron.py:684: ConvergenceWarning: Stochastic Optimizer: Maximum iterations (300) reached and the optimization hasn't converged yet.\n",
      "  warnings.warn(\n"
     ]
    },
    {
     "name": "stdout",
     "output_type": "stream",
     "text": [
      "MLPClassifier(max_iter=300, random_state=1) 0.76 0.7833\n",
      "Experiment  70\n",
      "------------\n",
      "SVC(C=100, gamma=0.01) 0.88 0.7806\n",
      "LogisticRegression(random_state=0) 0.88 0.7615\n"
     ]
    },
    {
     "name": "stderr",
     "output_type": "stream",
     "text": [
      "/usr/lib/python3/dist-packages/sklearn/neural_network/_multilayer_perceptron.py:684: ConvergenceWarning: Stochastic Optimizer: Maximum iterations (300) reached and the optimization hasn't converged yet.\n",
      "  warnings.warn(\n"
     ]
    },
    {
     "name": "stdout",
     "output_type": "stream",
     "text": [
      "MLPClassifier(max_iter=300, random_state=1) 0.88 0.7908\n",
      "Experiment  71\n",
      "------------\n",
      "SVC(C=100, gamma=0.01) 0.72 0.7694\n",
      "LogisticRegression(random_state=0) 0.72 0.7708\n"
     ]
    },
    {
     "name": "stderr",
     "output_type": "stream",
     "text": [
      "/usr/lib/python3/dist-packages/sklearn/neural_network/_multilayer_perceptron.py:684: ConvergenceWarning: Stochastic Optimizer: Maximum iterations (300) reached and the optimization hasn't converged yet.\n",
      "  warnings.warn(\n"
     ]
    },
    {
     "name": "stdout",
     "output_type": "stream",
     "text": [
      "MLPClassifier(max_iter=300, random_state=1) 0.78 0.7726\n",
      "Experiment  72\n",
      "------------\n",
      "SVC(C=100, gamma=0.01) 0.78 0.7875\n",
      "LogisticRegression(random_state=0) 0.76 0.719\n"
     ]
    },
    {
     "name": "stderr",
     "output_type": "stream",
     "text": [
      "/usr/lib/python3/dist-packages/sklearn/neural_network/_multilayer_perceptron.py:684: ConvergenceWarning: Stochastic Optimizer: Maximum iterations (300) reached and the optimization hasn't converged yet.\n",
      "  warnings.warn(\n"
     ]
    },
    {
     "name": "stdout",
     "output_type": "stream",
     "text": [
      "MLPClassifier(max_iter=300, random_state=1) 0.8 0.7889\n",
      "Experiment  73\n",
      "------------\n",
      "SVC(C=100, gamma=0.01) 0.72 0.7816\n",
      "LogisticRegression(random_state=0) 0.68 0.7551\n"
     ]
    },
    {
     "name": "stderr",
     "output_type": "stream",
     "text": [
      "/usr/lib/python3/dist-packages/sklearn/neural_network/_multilayer_perceptron.py:684: ConvergenceWarning: Stochastic Optimizer: Maximum iterations (300) reached and the optimization hasn't converged yet.\n",
      "  warnings.warn(\n"
     ]
    },
    {
     "name": "stdout",
     "output_type": "stream",
     "text": [
      "MLPClassifier(max_iter=300, random_state=1) 0.74 0.7911\n",
      "Experiment  74\n",
      "------------\n",
      "SVC(C=100, gamma=0.01) 0.86 0.7751\n",
      "LogisticRegression(random_state=0) 0.82 0.7161\n"
     ]
    },
    {
     "name": "stderr",
     "output_type": "stream",
     "text": [
      "/usr/lib/python3/dist-packages/sklearn/neural_network/_multilayer_perceptron.py:684: ConvergenceWarning: Stochastic Optimizer: Maximum iterations (300) reached and the optimization hasn't converged yet.\n",
      "  warnings.warn(\n"
     ]
    },
    {
     "name": "stdout",
     "output_type": "stream",
     "text": [
      "MLPClassifier(max_iter=300, random_state=1) 0.78 0.7603\n",
      "Experiment  75\n",
      "------------\n",
      "SVC(C=100, gamma=0.01) 0.78 0.7789\n",
      "LogisticRegression(random_state=0) 0.78 0.744\n"
     ]
    },
    {
     "name": "stderr",
     "output_type": "stream",
     "text": [
      "/usr/lib/python3/dist-packages/sklearn/neural_network/_multilayer_perceptron.py:684: ConvergenceWarning: Stochastic Optimizer: Maximum iterations (300) reached and the optimization hasn't converged yet.\n",
      "  warnings.warn(\n"
     ]
    },
    {
     "name": "stdout",
     "output_type": "stream",
     "text": [
      "MLPClassifier(max_iter=300, random_state=1) 0.82 0.7702\n",
      "Experiment  76\n",
      "------------\n",
      "SVC(C=100, gamma=0.01) 0.76 0.7843\n",
      "LogisticRegression(random_state=0) 0.74 0.7676\n"
     ]
    },
    {
     "name": "stderr",
     "output_type": "stream",
     "text": [
      "/usr/lib/python3/dist-packages/sklearn/neural_network/_multilayer_perceptron.py:684: ConvergenceWarning: Stochastic Optimizer: Maximum iterations (300) reached and the optimization hasn't converged yet.\n",
      "  warnings.warn(\n"
     ]
    },
    {
     "name": "stdout",
     "output_type": "stream",
     "text": [
      "MLPClassifier(max_iter=300, random_state=1) 0.74 0.7837\n",
      "Experiment  77\n",
      "------------\n",
      "SVC(C=100, gamma=0.01) 0.8 0.7485\n",
      "LogisticRegression(random_state=0) 0.78 0.7623\n"
     ]
    },
    {
     "name": "stderr",
     "output_type": "stream",
     "text": [
      "/usr/lib/python3/dist-packages/sklearn/neural_network/_multilayer_perceptron.py:684: ConvergenceWarning: Stochastic Optimizer: Maximum iterations (300) reached and the optimization hasn't converged yet.\n",
      "  warnings.warn(\n"
     ]
    },
    {
     "name": "stdout",
     "output_type": "stream",
     "text": [
      "MLPClassifier(max_iter=300, random_state=1) 0.86 0.7764\n",
      "Experiment  78\n",
      "------------\n",
      "SVC(C=100, gamma=0.01) 0.86 0.7635\n",
      "LogisticRegression(random_state=0) 0.82 0.7155\n"
     ]
    },
    {
     "name": "stderr",
     "output_type": "stream",
     "text": [
      "/usr/lib/python3/dist-packages/sklearn/neural_network/_multilayer_perceptron.py:684: ConvergenceWarning: Stochastic Optimizer: Maximum iterations (300) reached and the optimization hasn't converged yet.\n",
      "  warnings.warn(\n"
     ]
    },
    {
     "name": "stdout",
     "output_type": "stream",
     "text": [
      "MLPClassifier(max_iter=300, random_state=1) 0.9 0.7876\n",
      "Experiment  79\n",
      "------------\n",
      "SVC(C=100, gamma=0.01) 0.8 0.7561\n",
      "LogisticRegression(random_state=0) 0.76 0.7221\n"
     ]
    },
    {
     "name": "stderr",
     "output_type": "stream",
     "text": [
      "/usr/lib/python3/dist-packages/sklearn/neural_network/_multilayer_perceptron.py:684: ConvergenceWarning: Stochastic Optimizer: Maximum iterations (300) reached and the optimization hasn't converged yet.\n",
      "  warnings.warn(\n"
     ]
    },
    {
     "name": "stdout",
     "output_type": "stream",
     "text": [
      "MLPClassifier(max_iter=300, random_state=1) 0.76 0.7856\n",
      "Experiment  80\n",
      "------------\n",
      "SVC(C=100, gamma=0.01) 0.76 0.7809\n",
      "LogisticRegression(random_state=0) 0.7 0.7198\n"
     ]
    },
    {
     "name": "stderr",
     "output_type": "stream",
     "text": [
      "/usr/lib/python3/dist-packages/sklearn/neural_network/_multilayer_perceptron.py:684: ConvergenceWarning: Stochastic Optimizer: Maximum iterations (300) reached and the optimization hasn't converged yet.\n",
      "  warnings.warn(\n"
     ]
    },
    {
     "name": "stdout",
     "output_type": "stream",
     "text": [
      "MLPClassifier(max_iter=300, random_state=1) 0.8 0.7827\n",
      "Experiment  81\n",
      "------------\n",
      "SVC(C=100, gamma=0.01) 0.72 0.7762\n",
      "LogisticRegression(random_state=0) 0.7 0.7535\n"
     ]
    },
    {
     "name": "stderr",
     "output_type": "stream",
     "text": [
      "/usr/lib/python3/dist-packages/sklearn/neural_network/_multilayer_perceptron.py:684: ConvergenceWarning: Stochastic Optimizer: Maximum iterations (300) reached and the optimization hasn't converged yet.\n",
      "  warnings.warn(\n"
     ]
    },
    {
     "name": "stdout",
     "output_type": "stream",
     "text": [
      "MLPClassifier(max_iter=300, random_state=1) 0.78 0.7918\n",
      "Experiment  82\n",
      "------------\n",
      "SVC(C=100, gamma=0.01) 0.74 0.7689\n",
      "LogisticRegression(random_state=0) 0.72 0.722\n"
     ]
    },
    {
     "name": "stderr",
     "output_type": "stream",
     "text": [
      "/usr/lib/python3/dist-packages/sklearn/neural_network/_multilayer_perceptron.py:684: ConvergenceWarning: Stochastic Optimizer: Maximum iterations (300) reached and the optimization hasn't converged yet.\n",
      "  warnings.warn(\n"
     ]
    },
    {
     "name": "stdout",
     "output_type": "stream",
     "text": [
      "MLPClassifier(max_iter=300, random_state=1) 0.8 0.7919\n",
      "Experiment  83\n",
      "------------\n",
      "SVC(C=100, gamma=0.01) 0.68 0.781\n",
      "LogisticRegression(random_state=0) 0.64 0.7697\n"
     ]
    },
    {
     "name": "stderr",
     "output_type": "stream",
     "text": [
      "/usr/lib/python3/dist-packages/sklearn/neural_network/_multilayer_perceptron.py:684: ConvergenceWarning: Stochastic Optimizer: Maximum iterations (300) reached and the optimization hasn't converged yet.\n",
      "  warnings.warn(\n"
     ]
    },
    {
     "name": "stdout",
     "output_type": "stream",
     "text": [
      "MLPClassifier(max_iter=300, random_state=1) 0.7 0.7845\n",
      "Experiment  84\n",
      "------------\n",
      "SVC(C=100, gamma=0.01) 0.76 0.7899\n",
      "LogisticRegression(random_state=0) 0.74 0.7683\n"
     ]
    },
    {
     "name": "stderr",
     "output_type": "stream",
     "text": [
      "/usr/lib/python3/dist-packages/sklearn/neural_network/_multilayer_perceptron.py:684: ConvergenceWarning: Stochastic Optimizer: Maximum iterations (300) reached and the optimization hasn't converged yet.\n",
      "  warnings.warn(\n"
     ]
    },
    {
     "name": "stdout",
     "output_type": "stream",
     "text": [
      "MLPClassifier(max_iter=300, random_state=1) 0.78 0.7816\n",
      "Experiment  85\n",
      "------------\n",
      "SVC(C=100, gamma=0.01) 0.82 0.7578\n",
      "LogisticRegression(random_state=0) 0.82 0.7197\n"
     ]
    },
    {
     "name": "stderr",
     "output_type": "stream",
     "text": [
      "/usr/lib/python3/dist-packages/sklearn/neural_network/_multilayer_perceptron.py:684: ConvergenceWarning: Stochastic Optimizer: Maximum iterations (300) reached and the optimization hasn't converged yet.\n",
      "  warnings.warn(\n"
     ]
    },
    {
     "name": "stdout",
     "output_type": "stream",
     "text": [
      "MLPClassifier(max_iter=300, random_state=1) 0.82 0.789\n",
      "Experiment  86\n",
      "------------\n",
      "SVC(C=100, gamma=0.01) 0.84 0.7576\n",
      "LogisticRegression(random_state=0) 0.8 0.737\n"
     ]
    },
    {
     "name": "stderr",
     "output_type": "stream",
     "text": [
      "/usr/lib/python3/dist-packages/sklearn/neural_network/_multilayer_perceptron.py:684: ConvergenceWarning: Stochastic Optimizer: Maximum iterations (300) reached and the optimization hasn't converged yet.\n",
      "  warnings.warn(\n"
     ]
    },
    {
     "name": "stdout",
     "output_type": "stream",
     "text": [
      "MLPClassifier(max_iter=300, random_state=1) 0.84 0.7763\n",
      "Experiment  87\n",
      "------------\n",
      "SVC(C=100, gamma=0.01) 0.78 0.7789\n",
      "LogisticRegression(random_state=0) 0.8 0.7707\n"
     ]
    },
    {
     "name": "stderr",
     "output_type": "stream",
     "text": [
      "/usr/lib/python3/dist-packages/sklearn/neural_network/_multilayer_perceptron.py:684: ConvergenceWarning: Stochastic Optimizer: Maximum iterations (300) reached and the optimization hasn't converged yet.\n",
      "  warnings.warn(\n"
     ]
    },
    {
     "name": "stdout",
     "output_type": "stream",
     "text": [
      "MLPClassifier(max_iter=300, random_state=1) 0.76 0.7775\n",
      "Experiment  88\n",
      "------------\n",
      "SVC(C=100, gamma=0.01) 0.86 0.7834\n",
      "LogisticRegression(random_state=0) 0.78 0.7616\n"
     ]
    },
    {
     "name": "stderr",
     "output_type": "stream",
     "text": [
      "/usr/lib/python3/dist-packages/sklearn/neural_network/_multilayer_perceptron.py:684: ConvergenceWarning: Stochastic Optimizer: Maximum iterations (300) reached and the optimization hasn't converged yet.\n",
      "  warnings.warn(\n"
     ]
    },
    {
     "name": "stdout",
     "output_type": "stream",
     "text": [
      "MLPClassifier(max_iter=300, random_state=1) 0.76 0.7683\n",
      "Experiment  89\n",
      "------------\n",
      "SVC(C=100, gamma=0.01) 0.68 0.7887\n",
      "LogisticRegression(random_state=0) 0.64 0.7518\n"
     ]
    },
    {
     "name": "stderr",
     "output_type": "stream",
     "text": [
      "/usr/lib/python3/dist-packages/sklearn/neural_network/_multilayer_perceptron.py:684: ConvergenceWarning: Stochastic Optimizer: Maximum iterations (300) reached and the optimization hasn't converged yet.\n",
      "  warnings.warn(\n"
     ]
    },
    {
     "name": "stdout",
     "output_type": "stream",
     "text": [
      "MLPClassifier(max_iter=300, random_state=1) 0.76 0.7714\n",
      "Experiment  90\n",
      "------------\n",
      "SVC(C=100, gamma=0.01) 0.72 0.7777\n",
      "LogisticRegression(random_state=0) 0.78 0.7618\n"
     ]
    },
    {
     "name": "stderr",
     "output_type": "stream",
     "text": [
      "/usr/lib/python3/dist-packages/sklearn/neural_network/_multilayer_perceptron.py:684: ConvergenceWarning: Stochastic Optimizer: Maximum iterations (300) reached and the optimization hasn't converged yet.\n",
      "  warnings.warn(\n"
     ]
    },
    {
     "name": "stdout",
     "output_type": "stream",
     "text": [
      "MLPClassifier(max_iter=300, random_state=1) 0.8 0.7733\n",
      "Experiment  91\n",
      "------------\n",
      "SVC(C=100, gamma=0.01) 0.78 0.7741\n",
      "LogisticRegression(random_state=0) 0.64 0.7419\n"
     ]
    },
    {
     "name": "stderr",
     "output_type": "stream",
     "text": [
      "/usr/lib/python3/dist-packages/sklearn/neural_network/_multilayer_perceptron.py:684: ConvergenceWarning: Stochastic Optimizer: Maximum iterations (300) reached and the optimization hasn't converged yet.\n",
      "  warnings.warn(\n"
     ]
    },
    {
     "name": "stdout",
     "output_type": "stream",
     "text": [
      "MLPClassifier(max_iter=300, random_state=1) 0.84 0.7967\n",
      "Experiment  92\n",
      "------------\n",
      "SVC(C=100, gamma=0.01) 0.84 0.7805\n",
      "LogisticRegression(random_state=0) 0.76 0.7403\n"
     ]
    },
    {
     "name": "stderr",
     "output_type": "stream",
     "text": [
      "/usr/lib/python3/dist-packages/sklearn/neural_network/_multilayer_perceptron.py:684: ConvergenceWarning: Stochastic Optimizer: Maximum iterations (300) reached and the optimization hasn't converged yet.\n",
      "  warnings.warn(\n"
     ]
    },
    {
     "name": "stdout",
     "output_type": "stream",
     "text": [
      "MLPClassifier(max_iter=300, random_state=1) 0.82 0.7741\n",
      "Experiment  93\n",
      "------------\n",
      "SVC(C=100, gamma=0.01) 0.7 0.7812\n",
      "LogisticRegression(random_state=0) 0.72 0.7554\n"
     ]
    },
    {
     "name": "stderr",
     "output_type": "stream",
     "text": [
      "/usr/lib/python3/dist-packages/sklearn/neural_network/_multilayer_perceptron.py:684: ConvergenceWarning: Stochastic Optimizer: Maximum iterations (300) reached and the optimization hasn't converged yet.\n",
      "  warnings.warn(\n"
     ]
    },
    {
     "name": "stdout",
     "output_type": "stream",
     "text": [
      "MLPClassifier(max_iter=300, random_state=1) 0.66 0.7919\n",
      "Experiment  94\n",
      "------------\n",
      "SVC(C=100, gamma=0.01) 0.82 0.7631\n",
      "LogisticRegression(random_state=0) 0.8 0.7677\n"
     ]
    },
    {
     "name": "stderr",
     "output_type": "stream",
     "text": [
      "/usr/lib/python3/dist-packages/sklearn/neural_network/_multilayer_perceptron.py:684: ConvergenceWarning: Stochastic Optimizer: Maximum iterations (300) reached and the optimization hasn't converged yet.\n",
      "  warnings.warn(\n"
     ]
    },
    {
     "name": "stdout",
     "output_type": "stream",
     "text": [
      "MLPClassifier(max_iter=300, random_state=1) 0.84 0.7768\n",
      "Experiment  95\n",
      "------------\n",
      "SVC(C=100, gamma=0.01) 0.8 0.7751\n",
      "LogisticRegression(random_state=0) 0.78 0.755\n"
     ]
    },
    {
     "name": "stderr",
     "output_type": "stream",
     "text": [
      "/usr/lib/python3/dist-packages/sklearn/neural_network/_multilayer_perceptron.py:684: ConvergenceWarning: Stochastic Optimizer: Maximum iterations (300) reached and the optimization hasn't converged yet.\n",
      "  warnings.warn(\n"
     ]
    },
    {
     "name": "stdout",
     "output_type": "stream",
     "text": [
      "MLPClassifier(max_iter=300, random_state=1) 0.82 0.7961\n",
      "Experiment  96\n",
      "------------\n",
      "SVC(C=100, gamma=0.01) 0.8 0.7739\n",
      "LogisticRegression(random_state=0) 0.8 0.7305\n"
     ]
    },
    {
     "name": "stderr",
     "output_type": "stream",
     "text": [
      "/usr/lib/python3/dist-packages/sklearn/neural_network/_multilayer_perceptron.py:684: ConvergenceWarning: Stochastic Optimizer: Maximum iterations (300) reached and the optimization hasn't converged yet.\n",
      "  warnings.warn(\n"
     ]
    },
    {
     "name": "stdout",
     "output_type": "stream",
     "text": [
      "MLPClassifier(max_iter=300, random_state=1) 0.76 0.793\n",
      "Experiment  97\n",
      "------------\n",
      "SVC(C=100, gamma=0.01) 0.66 0.7665\n",
      "LogisticRegression(random_state=0) 0.52 0.6899\n"
     ]
    },
    {
     "name": "stderr",
     "output_type": "stream",
     "text": [
      "/usr/lib/python3/dist-packages/sklearn/neural_network/_multilayer_perceptron.py:684: ConvergenceWarning: Stochastic Optimizer: Maximum iterations (300) reached and the optimization hasn't converged yet.\n",
      "  warnings.warn(\n"
     ]
    },
    {
     "name": "stdout",
     "output_type": "stream",
     "text": [
      "MLPClassifier(max_iter=300, random_state=1) 0.74 0.7617\n",
      "Experiment  98\n",
      "------------\n",
      "SVC(C=100, gamma=0.01) 0.72 0.7837\n",
      "LogisticRegression(random_state=0) 0.7 0.7623\n",
      "MLPClassifier(max_iter=300, random_state=1) 0.72 0.7861\n",
      "Experiment  99\n",
      "------------\n",
      "SVC(C=100, gamma=0.01) 0.82 0.787\n",
      "LogisticRegression(random_state=0) 0.8 0.7677\n",
      "MLPClassifier(max_iter=300, random_state=1) 0.82 0.7872\n"
     ]
    },
    {
     "name": "stderr",
     "output_type": "stream",
     "text": [
      "/usr/lib/python3/dist-packages/sklearn/neural_network/_multilayer_perceptron.py:684: ConvergenceWarning: Stochastic Optimizer: Maximum iterations (300) reached and the optimization hasn't converged yet.\n",
      "  warnings.warn(\n"
     ]
    }
   ],
   "source": [
    "n_data = 200 # how much data would we have - this can vary to see how much data we need\n",
    "n_experiments = 100 # More experiments give us higher faith in the result\n",
    "n_evaluation_data = 10000 # this number should be relatively large to get good estimates\n",
    "\n",
    "## Setup\n",
    "from sklearn import svm\n",
    "from sklearn.linear_model import LogisticRegression\n",
    "from sklearn.neural_network import MLPClassifier\n",
    "models = [svm.SVC(gamma=0.01, C=100),\n",
    "         LogisticRegression(random_state=0),\n",
    "         MLPClassifier(random_state=1, max_iter=300)]\n",
    "n_models = len(models)\n",
    "score = np.zeros([n_models, n_experiments])\n",
    "real_score = np.zeros([n_models, n_experiments])\n",
    "\n",
    "[X_eval, y_eval] = generator.generate(n_evaluation_data) # data is generated here only to evaluate the pipeline\n",
    "\n",
    "# The point of the experiment is to evaluate the models and select the best\n",
    "for i in range(n_experiments):\n",
    "    print (\"Experiment \", i);\n",
    "    print (\"------------\");\n",
    "    # Every experiment tests the complete pipeline\n",
    "    [X, Y] = generator.generate(n_data) # data is generated here\n",
    "    [X_train, X_test, y_train, y_test] = process_data(X, Y) # processing also splits the data in two parts\n",
    "    k = 0\n",
    "   \n",
    "    for model in models:\n",
    "        Train(model, X_train, y_train)\n",
    "        score[k,i] = Evaluate(model, X_test, y_test)\n",
    "        real_score[k,i] = Evaluate(model, X_eval, y_eval)\n",
    "        print(model, score[k,i], real_score[k,i])\n",
    "        k+=1\n",
    "        "
   ]
  },
  {
   "cell_type": "code",
   "execution_count": 8,
   "metadata": {
    "scrolled": true
   },
   "outputs": [
    {
     "name": "stdout",
     "output_type": "stream",
     "text": [
      "Average scores [0.773  0.7452 0.7842]\n",
      "Actual scores [0.774793 0.749803 0.783104]\n",
      "Test scores of selected 0.7961999999999998\n",
      "Actual score of selected 0.778139\n"
     ]
    }
   ],
   "source": [
    "print(\"Average scores\", np.mean(score,axis=1))\n",
    "print(\"Actual scores\", np.mean(real_score,axis=1))\n",
    "\n",
    "# Here we can see what would happen if we selected methods according to their test score\n",
    "selected_method = np.argmax(score, axis=0)\n",
    "selected_score = [score[selected_method[t], t] for t in range(n_experiments)]\n",
    "selected_real_score = [real_score[selected_method[t], t] for t in range(n_experiments)]\n",
    "                  \n",
    "print(\"Test scores of selected\", np.mean(selected_score))\n",
    "print(\"Actual score of selected\", np.mean(selected_real_score))\n",
    "      "
   ]
  },
  {
   "cell_type": "markdown",
   "metadata": {},
   "source": [
    "# Actual Selected versus Measured Score\n",
    "\n",
    "As we can see, the average score of every single method on the test set is lower than the average score of the selected method. This is because we selected methods that were by chance the best on a random  training set. \n",
    "For the same reason, the test score that we measure is (on average) higher than the actual score.\n"
   ]
  },
  {
   "cell_type": "code",
   "execution_count": 9,
   "metadata": {},
   "outputs": [],
   "source": [
    "import matplotlib.pyplot as plt"
   ]
  },
  {
   "cell_type": "code",
   "execution_count": 10,
   "metadata": {},
   "outputs": [
    {
     "data": {
      "text/plain": [
       "Text(0.5, 1.0, 'Test score distribution')"
      ]
     },
     "execution_count": 10,
     "metadata": {},
     "output_type": "execute_result"
    },
    {
     "data": {
      "image/png": "[encoded data removed]",
      "text/plain": [
       "<Figure size 640x480 with 1 Axes>"
      ]
     },
     "metadata": {},
     "output_type": "display_data"
    }
   ],
   "source": [
    "plt.hist(score[0], histtype=\"step\", density=True)\n",
    "plt.hist(score[1], histtype=\"step\", density=True)\n",
    "plt.hist(score[2], histtype=\"step\", density=True)\n",
    "plt.hist(selected_score, histtype=\"step\", density=True)\n",
    "\n",
    "plt.legend([\"SVM\", \"LR\", \"MLP\", \"Selected\"])\n",
    "plt.title(\"Test score distribution\")\n"
   ]
  },
  {
   "cell_type": "code",
   "execution_count": 11,
   "metadata": {},
   "outputs": [
    {
     "data": {
      "text/plain": [
       "Text(0.5, 1.0, 'Actual score distribution')"
      ]
     },
     "execution_count": 11,
     "metadata": {},
     "output_type": "execute_result"
    },
    {
     "data": {
      "image/png": "[encoded data removed]",
      "text/plain": [
       "<Figure size 640x480 with 1 Axes>"
      ]
     },
     "metadata": {},
     "output_type": "display_data"
    }
   ],
   "source": [
    "plt.hist(real_score[0], histtype=\"step\", density=True)\n",
    "plt.hist(real_score[1], histtype=\"step\", density=True)\n",
    "plt.hist(real_score[2], histtype=\"step\", density=True)\n",
    "plt.hist(selected_real_score, histtype=\"step\", density=True)\n",
    "plt.legend([\"SVM\", \"LR\", \"MLP\", \"Selected\"])\n",
    "\n",
    "plt.title(\"Actual score distribution\")\n"
   ]
  },
  {
   "cell_type": "code",
   "execution_count": null,
   "metadata": {},
   "outputs": [],
   "source": []
  },
  {
   "cell_type": "code",
   "execution_count": 12,
   "metadata": {},
   "outputs": [
    {
     "data": {
      "text/plain": [
       "array([[0.84, 0.6 , 0.78, ..., 0.74, 0.72, 0.82],\n",
       "       [0.84, 0.6 , 0.78, ..., 0.74, 0.72, 0.82],\n",
       "       [0.84, 0.6 , 0.78, ..., 0.74, 0.72, 0.82],\n",
       "       ...,\n",
       "       [0.84, 0.6 , 0.78, ..., 0.74, 0.72, 0.82],\n",
       "       [0.82, 0.54, 0.68, ..., 0.66, 0.72, 0.82],\n",
       "       [0.82, 0.54, 0.68, ..., 0.66, 0.72, 0.82]])"
      ]
     },
     "execution_count": 12,
     "metadata": {},
     "output_type": "execute_result"
    }
   ],
   "source": [
    "score[selected_method,:]"
   ]
  },
  {
   "cell_type": "code",
   "execution_count": null,
   "metadata": {},
   "outputs": [],
   "source": []
  },
  {
   "cell_type": "code",
   "execution_count": 13,
   "metadata": {},
   "outputs": [
    {
     "data": {
      "text/plain": [
       "[0.84,\n",
       " 0.6,\n",
       " 0.78,\n",
       " 0.78,\n",
       " 0.88,\n",
       " 0.82,\n",
       " 0.68,\n",
       " 0.82,\n",
       " 0.72,\n",
       " 0.84,\n",
       " 0.84,\n",
       " 0.84,\n",
       " 0.82,\n",
       " 0.84,\n",
       " 0.78,\n",
       " 0.78,\n",
       " 0.84,\n",
       " 0.86,\n",
       " 0.76,\n",
       " 0.72,\n",
       " 0.76,\n",
       " 0.86,\n",
       " 0.76,\n",
       " 0.82,\n",
       " 0.76,\n",
       " 0.84,\n",
       " 0.82,\n",
       " 0.82,\n",
       " 0.72,\n",
       " 0.66,\n",
       " 0.74,\n",
       " 0.82,\n",
       " 0.78,\n",
       " 0.84,\n",
       " 0.86,\n",
       " 0.78,\n",
       " 0.88,\n",
       " 0.76,\n",
       " 0.76,\n",
       " 0.74,\n",
       " 0.74,\n",
       " 0.82,\n",
       " 0.8,\n",
       " 0.82,\n",
       " 0.78,\n",
       " 0.84,\n",
       " 0.88,\n",
       " 0.78,\n",
       " 0.74,\n",
       " 0.76,\n",
       " 0.86,\n",
       " 0.72,\n",
       " 0.84,\n",
       " 0.84,\n",
       " 0.76,\n",
       " 0.84,\n",
       " 0.8,\n",
       " 0.74,\n",
       " 0.86,\n",
       " 0.76,\n",
       " 0.78,\n",
       " 0.84,\n",
       " 0.82,\n",
       " 0.78,\n",
       " 0.62,\n",
       " 0.8,\n",
       " 0.76,\n",
       " 0.86,\n",
       " 0.86,\n",
       " 0.82,\n",
       " 0.88,\n",
       " 0.78,\n",
       " 0.8,\n",
       " 0.74,\n",
       " 0.86,\n",
       " 0.82,\n",
       " 0.76,\n",
       " 0.86,\n",
       " 0.9,\n",
       " 0.8,\n",
       " 0.8,\n",
       " 0.78,\n",
       " 0.8,\n",
       " 0.7,\n",
       " 0.78,\n",
       " 0.82,\n",
       " 0.84,\n",
       " 0.8,\n",
       " 0.86,\n",
       " 0.76,\n",
       " 0.8,\n",
       " 0.84,\n",
       " 0.84,\n",
       " 0.72,\n",
       " 0.84,\n",
       " 0.82,\n",
       " 0.8,\n",
       " 0.74,\n",
       " 0.72,\n",
       " 0.82]"
      ]
     },
     "execution_count": 13,
     "metadata": {},
     "output_type": "execute_result"
    }
   ],
   "source": [
    "selected_score"
   ]
  },
  {
   "cell_type": "code",
   "execution_count": null,
   "metadata": {},
   "outputs": [],
   "source": []
  }
 ],
 "metadata": {
  "kernelspec": {
   "display_name": "Python 3 (ipykernel)",
   "language": "python",
   "name": "python3"
  },
  "language_info": {
   "codemirror_mode": {
    "name": "ipython",
    "version": 3
   },
   "file_extension": ".py",
   "mimetype": "text/x-python",
   "name": "python",
   "nbconvert_exporter": "python",
   "pygments_lexer": "ipython3",
   "version": "3.11.2"
  }
 },
 "nbformat": 4,
 "nbformat_minor": 4
}
