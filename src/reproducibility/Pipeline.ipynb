{
 "cells": [
  {
   "cell_type": "code",
   "execution_count": 1,
   "metadata": {},
   "outputs": [],
   "source": [
    "import numpy as np"
   ]
  },
  {
   "cell_type": "markdown",
   "metadata": {},
   "source": [
    "In this file, we will set up a pipeline for\n",
    "1. Collecting data for an experiment\n",
    "2. Processing the data\n",
    "3. Running a machine learrning algorithm.\n",
    "4. Evaluating the algorithm\n",
    "5. Choosing the best algorithm and hyperparameters\\\n",
    "\n",
    "The main questions we need to answer are\n",
    "1. How will data be collected?\n",
    "2. How much data would we need?\n",
    "3. What algorithm would be best? \n",
    "4. How would the amount of data influence algorithm selection?\n",
    "5. How robust is our procedure to assumptions?"
   ]
  },
  {
   "cell_type": "markdown",
   "metadata": {},
   "source": [
    "# Data collection\n",
    "\n",
    "Here we want to call a simulator that collects data for us. The simulator can be arbitrary, but we would normally wish to have a specific API for calling it. In the simplest case, the only input parameter is the amount of data."
   ]
  },
  {
   "cell_type": "code",
   "execution_count": 2,
   "metadata": {},
   "outputs": [],
   "source": [
    "import data_generator\n",
    "\n",
    "# Obtain data from the data generator. \n",
    "# In this case, the data generator gives us a random sample. Other sampling methodologies are possible, of course.\n",
    "generator = data_generator.GaussianClassificationGenerator(2, np.array([0.3, 0.7]))"
   ]
  },
  {
   "cell_type": "code",
   "execution_count": null,
   "metadata": {},
   "outputs": [],
   "source": []
  },
  {
   "cell_type": "markdown",
   "metadata": {},
   "source": [
    "# Data processing\n",
    "\n",
    "Here we perform preliminary processing of the data, if necessary. In particular, we may want to split the data in training, validation and test sets. Other standard pre-processing includes scaling the data, dealing with missing data, and removal of problematic data points. However, all of these could theoretically be dealt within the learning algorithm itself."
   ]
  },
  {
   "cell_type": "code",
   "execution_count": 3,
   "metadata": {},
   "outputs": [],
   "source": [
    "def process_data(X, Y):\n",
    "    import sklearn.model_selection\n",
    "    X_train, X_test, y_train, y_test = sklearn.model_selection.train_test_split(X,Y)\n",
    "    return X_train, X_test, y_train, y_test\n"
   ]
  },
  {
   "cell_type": "markdown",
   "metadata": {},
   "source": [
    "# Evaluation\n",
    "\n",
    "Here we run an ML algorithm, using the data for finding appropriate parameters. It is best to have a unified interface for doing this as well. "
   ]
  },
  {
   "cell_type": "code",
   "execution_count": 4,
   "metadata": {},
   "outputs": [],
   "source": [
    "# get a Trained model\n",
    "def Train(clf, X_train, y_train):\n",
    "    clf.fit(X_train, y_train) # Common API for classifiers in sklearn\n",
    "    return clf"
   ]
  },
  {
   "cell_type": "code",
   "execution_count": 5,
   "metadata": {},
   "outputs": [],
   "source": [
    "from sklearn.metrics import accuracy_score\n",
    "def Evaluate(clf, X_test, y_test):\n",
    "    y_pred = clf.predict(X_test) # Common API\n",
    "    accuracy = accuracy_score(y_pred, y_test)\n",
    "    return accuracy"
   ]
  },
  {
   "cell_type": "code",
   "execution_count": 6,
   "metadata": {},
   "outputs": [],
   "source": [
    "# The experiment setup"
   ]
  },
  {
   "cell_type": "code",
   "execution_count": 33,
   "metadata": {},
   "outputs": [
    {
     "name": "stdout",
     "output_type": "stream",
     "text": [
      "Experiment  0\n",
      "------------\n",
      "SVC(C=100, gamma=0.01) 0.84 0.8157\n",
      "LogisticRegression(random_state=0) 0.68 0.6985\n",
      "MLPClassifier(max_iter=300, random_state=1) 0.8 0.874\n",
      "Experiment  1\n",
      "------------\n",
      "SVC(C=100, gamma=0.01) 0.84 0.8147\n",
      "LogisticRegression(random_state=0) 0.76 0.6981\n"
     ]
    },
    {
     "name": "stderr",
     "output_type": "stream",
     "text": [
      "/home/olethros/.local/lib/python3.8/site-packages/sklearn/neural_network/_multilayer_perceptron.py:691: ConvergenceWarning: Stochastic Optimizer: Maximum iterations (300) reached and the optimization hasn't converged yet.\n",
      "  warnings.warn(\n",
      "/home/olethros/.local/lib/python3.8/site-packages/sklearn/neural_network/_multilayer_perceptron.py:691: ConvergenceWarning: Stochastic Optimizer: Maximum iterations (300) reached and the optimization hasn't converged yet.\n",
      "  warnings.warn(\n"
     ]
    },
    {
     "name": "stdout",
     "output_type": "stream",
     "text": [
      "MLPClassifier(max_iter=300, random_state=1) 0.84 0.8676\n",
      "Experiment  2\n",
      "------------\n",
      "SVC(C=100, gamma=0.01) 0.88 0.8055\n",
      "LogisticRegression(random_state=0) 0.76 0.6981\n",
      "MLPClassifier(max_iter=300, random_state=1) 0.84 0.8602\n",
      "Experiment  3\n",
      "------------\n",
      "SVC(C=100, gamma=0.01) 0.76 0.7892\n",
      "LogisticRegression(random_state=0) 0.72 0.726\n"
     ]
    },
    {
     "name": "stderr",
     "output_type": "stream",
     "text": [
      "/home/olethros/.local/lib/python3.8/site-packages/sklearn/neural_network/_multilayer_perceptron.py:691: ConvergenceWarning: Stochastic Optimizer: Maximum iterations (300) reached and the optimization hasn't converged yet.\n",
      "  warnings.warn(\n",
      "/home/olethros/.local/lib/python3.8/site-packages/sklearn/neural_network/_multilayer_perceptron.py:691: ConvergenceWarning: Stochastic Optimizer: Maximum iterations (300) reached and the optimization hasn't converged yet.\n",
      "  warnings.warn(\n"
     ]
    },
    {
     "name": "stdout",
     "output_type": "stream",
     "text": [
      "MLPClassifier(max_iter=300, random_state=1) 0.88 0.8573\n",
      "Experiment  4\n",
      "------------\n",
      "SVC(C=100, gamma=0.01) 0.84 0.8126\n",
      "LogisticRegression(random_state=0) 0.68 0.6981\n",
      "MLPClassifier(max_iter=300, random_state=1) 0.84 0.8544\n",
      "Experiment  5\n",
      "------------\n",
      "SVC(C=100, gamma=0.01) 0.76 0.8295\n",
      "LogisticRegression(random_state=0) 0.72 0.597\n"
     ]
    },
    {
     "name": "stderr",
     "output_type": "stream",
     "text": [
      "/home/olethros/.local/lib/python3.8/site-packages/sklearn/neural_network/_multilayer_perceptron.py:691: ConvergenceWarning: Stochastic Optimizer: Maximum iterations (300) reached and the optimization hasn't converged yet.\n",
      "  warnings.warn(\n",
      "/home/olethros/.local/lib/python3.8/site-packages/sklearn/neural_network/_multilayer_perceptron.py:691: ConvergenceWarning: Stochastic Optimizer: Maximum iterations (300) reached and the optimization hasn't converged yet.\n",
      "  warnings.warn(\n"
     ]
    },
    {
     "name": "stdout",
     "output_type": "stream",
     "text": [
      "MLPClassifier(max_iter=300, random_state=1) 0.8 0.852\n",
      "Experiment  6\n",
      "------------\n",
      "SVC(C=100, gamma=0.01) 0.76 0.8151\n",
      "LogisticRegression(random_state=0) 0.64 0.7019\n",
      "MLPClassifier(max_iter=300, random_state=1) 0.76 0.8614\n",
      "Experiment  7\n",
      "------------\n",
      "SVC(C=100, gamma=0.01) 0.84 0.8205\n",
      "LogisticRegression(random_state=0) 0.84 0.7495\n"
     ]
    },
    {
     "name": "stderr",
     "output_type": "stream",
     "text": [
      "/home/olethros/.local/lib/python3.8/site-packages/sklearn/neural_network/_multilayer_perceptron.py:691: ConvergenceWarning: Stochastic Optimizer: Maximum iterations (300) reached and the optimization hasn't converged yet.\n",
      "  warnings.warn(\n",
      "/home/olethros/.local/lib/python3.8/site-packages/sklearn/neural_network/_multilayer_perceptron.py:691: ConvergenceWarning: Stochastic Optimizer: Maximum iterations (300) reached and the optimization hasn't converged yet.\n",
      "  warnings.warn(\n"
     ]
    },
    {
     "name": "stdout",
     "output_type": "stream",
     "text": [
      "MLPClassifier(max_iter=300, random_state=1) 0.84 0.8709\n",
      "Experiment  8\n",
      "------------\n",
      "SVC(C=100, gamma=0.01) 0.76 0.8038\n",
      "LogisticRegression(random_state=0) 0.64 0.7266\n",
      "MLPClassifier(max_iter=300, random_state=1) 0.84 0.8515\n",
      "Experiment  9\n",
      "------------\n",
      "SVC(C=100, gamma=0.01) 0.72 0.7962\n",
      "LogisticRegression(random_state=0) 0.72 0.7909\n"
     ]
    },
    {
     "name": "stderr",
     "output_type": "stream",
     "text": [
      "/home/olethros/.local/lib/python3.8/site-packages/sklearn/neural_network/_multilayer_perceptron.py:691: ConvergenceWarning: Stochastic Optimizer: Maximum iterations (300) reached and the optimization hasn't converged yet.\n",
      "  warnings.warn(\n",
      "/home/olethros/.local/lib/python3.8/site-packages/sklearn/neural_network/_multilayer_perceptron.py:691: ConvergenceWarning: Stochastic Optimizer: Maximum iterations (300) reached and the optimization hasn't converged yet.\n",
      "  warnings.warn(\n"
     ]
    },
    {
     "name": "stdout",
     "output_type": "stream",
     "text": [
      "MLPClassifier(max_iter=300, random_state=1) 0.8 0.839\n",
      "Experiment  10\n",
      "------------\n",
      "SVC(C=100, gamma=0.01) 0.72 0.8121\n",
      "LogisticRegression(random_state=0) 0.6 0.734\n",
      "MLPClassifier(max_iter=300, random_state=1) 0.72 0.8667\n",
      "Experiment  11\n",
      "------------\n",
      "SVC(C=100, gamma=0.01) 0.6 0.7992\n",
      "LogisticRegression(random_state=0) 0.68 0.7409\n"
     ]
    },
    {
     "name": "stderr",
     "output_type": "stream",
     "text": [
      "/home/olethros/.local/lib/python3.8/site-packages/sklearn/neural_network/_multilayer_perceptron.py:691: ConvergenceWarning: Stochastic Optimizer: Maximum iterations (300) reached and the optimization hasn't converged yet.\n",
      "  warnings.warn(\n",
      "/home/olethros/.local/lib/python3.8/site-packages/sklearn/neural_network/_multilayer_perceptron.py:691: ConvergenceWarning: Stochastic Optimizer: Maximum iterations (300) reached and the optimization hasn't converged yet.\n",
      "  warnings.warn(\n"
     ]
    },
    {
     "name": "stdout",
     "output_type": "stream",
     "text": [
      "MLPClassifier(max_iter=300, random_state=1) 0.64 0.8399\n",
      "Experiment  12\n",
      "------------\n",
      "SVC(C=100, gamma=0.01) 0.88 0.8035\n",
      "LogisticRegression(random_state=0) 0.88 0.7841\n",
      "MLPClassifier(max_iter=300, random_state=1) 0.88 0.8465\n",
      "Experiment  13\n",
      "------------\n",
      "SVC(C=100, gamma=0.01) 0.84 0.7976\n",
      "LogisticRegression(random_state=0) 0.84 0.7181\n"
     ]
    },
    {
     "name": "stderr",
     "output_type": "stream",
     "text": [
      "/home/olethros/.local/lib/python3.8/site-packages/sklearn/neural_network/_multilayer_perceptron.py:691: ConvergenceWarning: Stochastic Optimizer: Maximum iterations (300) reached and the optimization hasn't converged yet.\n",
      "  warnings.warn(\n",
      "/home/olethros/.local/lib/python3.8/site-packages/sklearn/neural_network/_multilayer_perceptron.py:691: ConvergenceWarning: Stochastic Optimizer: Maximum iterations (300) reached and the optimization hasn't converged yet.\n",
      "  warnings.warn(\n"
     ]
    },
    {
     "name": "stdout",
     "output_type": "stream",
     "text": [
      "MLPClassifier(max_iter=300, random_state=1) 0.8 0.8577\n",
      "Experiment  14\n",
      "------------\n",
      "SVC(C=100, gamma=0.01) 0.92 0.7833\n",
      "LogisticRegression(random_state=0) 0.88 0.7202\n",
      "MLPClassifier(max_iter=300, random_state=1) 0.92 0.8068\n",
      "Experiment  15\n",
      "------------\n",
      "SVC(C=100, gamma=0.01) 0.84 0.7988\n",
      "LogisticRegression(random_state=0) 0.8 0.7526\n"
     ]
    },
    {
     "name": "stderr",
     "output_type": "stream",
     "text": [
      "/home/olethros/.local/lib/python3.8/site-packages/sklearn/neural_network/_multilayer_perceptron.py:691: ConvergenceWarning: Stochastic Optimizer: Maximum iterations (300) reached and the optimization hasn't converged yet.\n",
      "  warnings.warn(\n",
      "/home/olethros/.local/lib/python3.8/site-packages/sklearn/neural_network/_multilayer_perceptron.py:691: ConvergenceWarning: Stochastic Optimizer: Maximum iterations (300) reached and the optimization hasn't converged yet.\n",
      "  warnings.warn(\n"
     ]
    },
    {
     "name": "stdout",
     "output_type": "stream",
     "text": [
      "MLPClassifier(max_iter=300, random_state=1) 0.84 0.8393\n",
      "Experiment  16\n",
      "------------\n",
      "SVC(C=100, gamma=0.01) 0.68 0.7974\n",
      "LogisticRegression(random_state=0) 0.64 0.7733\n",
      "MLPClassifier(max_iter=300, random_state=1) 0.72 0.8651\n",
      "Experiment  17\n",
      "------------\n",
      "SVC(C=100, gamma=0.01) 0.68 0.7944\n",
      "LogisticRegression(random_state=0) 0.56 0.6994\n"
     ]
    },
    {
     "name": "stderr",
     "output_type": "stream",
     "text": [
      "/home/olethros/.local/lib/python3.8/site-packages/sklearn/neural_network/_multilayer_perceptron.py:691: ConvergenceWarning: Stochastic Optimizer: Maximum iterations (300) reached and the optimization hasn't converged yet.\n",
      "  warnings.warn(\n",
      "/home/olethros/.local/lib/python3.8/site-packages/sklearn/neural_network/_multilayer_perceptron.py:691: ConvergenceWarning: Stochastic Optimizer: Maximum iterations (300) reached and the optimization hasn't converged yet.\n",
      "  warnings.warn(\n"
     ]
    },
    {
     "name": "stdout",
     "output_type": "stream",
     "text": [
      "MLPClassifier(max_iter=300, random_state=1) 0.76 0.8184\n",
      "Experiment  18\n",
      "------------\n",
      "SVC(C=100, gamma=0.01) 0.84 0.8139\n",
      "LogisticRegression(random_state=0) 0.76 0.7369\n",
      "MLPClassifier(max_iter=300, random_state=1) 0.84 0.8756\n",
      "Experiment  19\n",
      "------------\n",
      "SVC(C=100, gamma=0.01) 0.88 0.8052\n",
      "LogisticRegression(random_state=0) 0.84 0.6981\n"
     ]
    },
    {
     "name": "stderr",
     "output_type": "stream",
     "text": [
      "/home/olethros/.local/lib/python3.8/site-packages/sklearn/neural_network/_multilayer_perceptron.py:691: ConvergenceWarning: Stochastic Optimizer: Maximum iterations (300) reached and the optimization hasn't converged yet.\n",
      "  warnings.warn(\n",
      "/home/olethros/.local/lib/python3.8/site-packages/sklearn/neural_network/_multilayer_perceptron.py:691: ConvergenceWarning: Stochastic Optimizer: Maximum iterations (300) reached and the optimization hasn't converged yet.\n",
      "  warnings.warn(\n"
     ]
    },
    {
     "name": "stdout",
     "output_type": "stream",
     "text": [
      "MLPClassifier(max_iter=300, random_state=1) 0.92 0.8691\n",
      "Experiment  20\n",
      "------------\n",
      "SVC(C=100, gamma=0.01) 0.84 0.8103\n",
      "LogisticRegression(random_state=0) 0.72 0.7199\n",
      "MLPClassifier(max_iter=300, random_state=1) 0.88 0.8671\n",
      "Experiment  21\n",
      "------------\n",
      "SVC(C=100, gamma=0.01) 0.76 0.7951\n",
      "LogisticRegression(random_state=0) 0.68 0.7161\n"
     ]
    },
    {
     "name": "stderr",
     "output_type": "stream",
     "text": [
      "/home/olethros/.local/lib/python3.8/site-packages/sklearn/neural_network/_multilayer_perceptron.py:691: ConvergenceWarning: Stochastic Optimizer: Maximum iterations (300) reached and the optimization hasn't converged yet.\n",
      "  warnings.warn(\n",
      "/home/olethros/.local/lib/python3.8/site-packages/sklearn/neural_network/_multilayer_perceptron.py:691: ConvergenceWarning: Stochastic Optimizer: Maximum iterations (300) reached and the optimization hasn't converged yet.\n",
      "  warnings.warn(\n"
     ]
    },
    {
     "name": "stdout",
     "output_type": "stream",
     "text": [
      "MLPClassifier(max_iter=300, random_state=1) 0.76 0.8328\n",
      "Experiment  22\n",
      "------------\n",
      "SVC(C=100, gamma=0.01) 0.84 0.7959\n",
      "LogisticRegression(random_state=0) 0.76 0.7186\n",
      "MLPClassifier(max_iter=300, random_state=1) 0.84 0.8481\n",
      "Experiment  23\n",
      "------------\n",
      "SVC(C=100, gamma=0.01) 0.76 0.8034\n",
      "LogisticRegression(random_state=0) 0.64 0.6981\n"
     ]
    },
    {
     "name": "stderr",
     "output_type": "stream",
     "text": [
      "/home/olethros/.local/lib/python3.8/site-packages/sklearn/neural_network/_multilayer_perceptron.py:691: ConvergenceWarning: Stochastic Optimizer: Maximum iterations (300) reached and the optimization hasn't converged yet.\n",
      "  warnings.warn(\n",
      "/home/olethros/.local/lib/python3.8/site-packages/sklearn/neural_network/_multilayer_perceptron.py:691: ConvergenceWarning: Stochastic Optimizer: Maximum iterations (300) reached and the optimization hasn't converged yet.\n",
      "  warnings.warn(\n"
     ]
    },
    {
     "name": "stdout",
     "output_type": "stream",
     "text": [
      "MLPClassifier(max_iter=300, random_state=1) 0.72 0.8496\n",
      "Experiment  24\n",
      "------------\n",
      "SVC(C=100, gamma=0.01) 0.92 0.8204\n",
      "LogisticRegression(random_state=0) 0.84 0.7522\n",
      "MLPClassifier(max_iter=300, random_state=1) 0.88 0.8643\n",
      "Experiment  25\n",
      "------------\n",
      "SVC(C=100, gamma=0.01) 0.88 0.8055\n",
      "LogisticRegression(random_state=0) 0.76 0.7153\n"
     ]
    },
    {
     "name": "stderr",
     "output_type": "stream",
     "text": [
      "/home/olethros/.local/lib/python3.8/site-packages/sklearn/neural_network/_multilayer_perceptron.py:691: ConvergenceWarning: Stochastic Optimizer: Maximum iterations (300) reached and the optimization hasn't converged yet.\n",
      "  warnings.warn(\n",
      "/home/olethros/.local/lib/python3.8/site-packages/sklearn/neural_network/_multilayer_perceptron.py:691: ConvergenceWarning: Stochastic Optimizer: Maximum iterations (300) reached and the optimization hasn't converged yet.\n",
      "  warnings.warn(\n"
     ]
    },
    {
     "name": "stdout",
     "output_type": "stream",
     "text": [
      "MLPClassifier(max_iter=300, random_state=1) 0.92 0.854\n",
      "Experiment  26\n",
      "------------\n",
      "SVC(C=100, gamma=0.01) 0.88 0.7976\n",
      "LogisticRegression(random_state=0) 0.76 0.6983\n",
      "MLPClassifier(max_iter=300, random_state=1) 0.96 0.8531\n",
      "Experiment  27\n",
      "------------\n",
      "SVC(C=100, gamma=0.01) 0.68 0.8325\n",
      "LogisticRegression(random_state=0) 0.6 0.7024\n"
     ]
    },
    {
     "name": "stderr",
     "output_type": "stream",
     "text": [
      "/home/olethros/.local/lib/python3.8/site-packages/sklearn/neural_network/_multilayer_perceptron.py:691: ConvergenceWarning: Stochastic Optimizer: Maximum iterations (300) reached and the optimization hasn't converged yet.\n",
      "  warnings.warn(\n",
      "/home/olethros/.local/lib/python3.8/site-packages/sklearn/neural_network/_multilayer_perceptron.py:691: ConvergenceWarning: Stochastic Optimizer: Maximum iterations (300) reached and the optimization hasn't converged yet.\n",
      "  warnings.warn(\n"
     ]
    },
    {
     "name": "stdout",
     "output_type": "stream",
     "text": [
      "MLPClassifier(max_iter=300, random_state=1) 0.84 0.8676\n",
      "Experiment  28\n",
      "------------\n",
      "SVC(C=100, gamma=0.01) 0.88 0.79\n",
      "LogisticRegression(random_state=0) 0.84 0.7081\n",
      "MLPClassifier(max_iter=300, random_state=1) 0.88 0.8491\n",
      "Experiment  29\n",
      "------------\n",
      "SVC(C=100, gamma=0.01) 0.88 0.8\n",
      "LogisticRegression(random_state=0) 0.8 0.6983\n"
     ]
    },
    {
     "name": "stderr",
     "output_type": "stream",
     "text": [
      "/home/olethros/.local/lib/python3.8/site-packages/sklearn/neural_network/_multilayer_perceptron.py:691: ConvergenceWarning: Stochastic Optimizer: Maximum iterations (300) reached and the optimization hasn't converged yet.\n",
      "  warnings.warn(\n",
      "/home/olethros/.local/lib/python3.8/site-packages/sklearn/neural_network/_multilayer_perceptron.py:691: ConvergenceWarning: Stochastic Optimizer: Maximum iterations (300) reached and the optimization hasn't converged yet.\n",
      "  warnings.warn(\n"
     ]
    },
    {
     "name": "stdout",
     "output_type": "stream",
     "text": [
      "MLPClassifier(max_iter=300, random_state=1) 0.84 0.8551\n",
      "Experiment  30\n",
      "------------\n",
      "SVC(C=100, gamma=0.01) 0.76 0.8028\n",
      "LogisticRegression(random_state=0) 0.68 0.7435\n",
      "MLPClassifier(max_iter=300, random_state=1) 0.8 0.8633\n",
      "Experiment  31\n",
      "------------\n",
      "SVC(C=100, gamma=0.01) 0.8 0.7662\n",
      "LogisticRegression(random_state=0) 0.72 0.7522\n"
     ]
    },
    {
     "name": "stderr",
     "output_type": "stream",
     "text": [
      "/home/olethros/.local/lib/python3.8/site-packages/sklearn/neural_network/_multilayer_perceptron.py:691: ConvergenceWarning: Stochastic Optimizer: Maximum iterations (300) reached and the optimization hasn't converged yet.\n",
      "  warnings.warn(\n",
      "/home/olethros/.local/lib/python3.8/site-packages/sklearn/neural_network/_multilayer_perceptron.py:691: ConvergenceWarning: Stochastic Optimizer: Maximum iterations (300) reached and the optimization hasn't converged yet.\n",
      "  warnings.warn(\n"
     ]
    },
    {
     "name": "stdout",
     "output_type": "stream",
     "text": [
      "MLPClassifier(max_iter=300, random_state=1) 0.76 0.7734\n",
      "Experiment  32\n",
      "------------\n",
      "SVC(C=100, gamma=0.01) 0.68 0.7984\n",
      "LogisticRegression(random_state=0) 0.72 0.7747\n",
      "MLPClassifier(max_iter=300, random_state=1) 0.76 0.8498\n",
      "Experiment  33\n",
      "------------\n",
      "SVC(C=100, gamma=0.01) 0.76 0.7944\n",
      "LogisticRegression(random_state=0) 0.72 0.7626\n"
     ]
    },
    {
     "name": "stderr",
     "output_type": "stream",
     "text": [
      "/home/olethros/.local/lib/python3.8/site-packages/sklearn/neural_network/_multilayer_perceptron.py:691: ConvergenceWarning: Stochastic Optimizer: Maximum iterations (300) reached and the optimization hasn't converged yet.\n",
      "  warnings.warn(\n",
      "/home/olethros/.local/lib/python3.8/site-packages/sklearn/neural_network/_multilayer_perceptron.py:691: ConvergenceWarning: Stochastic Optimizer: Maximum iterations (300) reached and the optimization hasn't converged yet.\n",
      "  warnings.warn(\n"
     ]
    },
    {
     "name": "stdout",
     "output_type": "stream",
     "text": [
      "MLPClassifier(max_iter=300, random_state=1) 0.76 0.8203\n",
      "Experiment  34\n",
      "------------\n",
      "SVC(C=100, gamma=0.01) 0.76 0.8073\n",
      "LogisticRegression(random_state=0) 0.8 0.7691\n",
      "MLPClassifier(max_iter=300, random_state=1) 0.88 0.8292\n",
      "Experiment  35\n",
      "------------\n",
      "SVC(C=100, gamma=0.01) 0.8 0.7972\n",
      "LogisticRegression(random_state=0) 0.72 0.7047\n"
     ]
    },
    {
     "name": "stderr",
     "output_type": "stream",
     "text": [
      "/home/olethros/.local/lib/python3.8/site-packages/sklearn/neural_network/_multilayer_perceptron.py:691: ConvergenceWarning: Stochastic Optimizer: Maximum iterations (300) reached and the optimization hasn't converged yet.\n",
      "  warnings.warn(\n",
      "/home/olethros/.local/lib/python3.8/site-packages/sklearn/neural_network/_multilayer_perceptron.py:691: ConvergenceWarning: Stochastic Optimizer: Maximum iterations (300) reached and the optimization hasn't converged yet.\n",
      "  warnings.warn(\n"
     ]
    },
    {
     "name": "stdout",
     "output_type": "stream",
     "text": [
      "MLPClassifier(max_iter=300, random_state=1) 0.8 0.8487\n",
      "Experiment  36\n",
      "------------\n",
      "SVC(C=100, gamma=0.01) 0.84 0.805\n",
      "LogisticRegression(random_state=0) 0.76 0.6981\n",
      "MLPClassifier(max_iter=300, random_state=1) 0.84 0.8461\n",
      "Experiment  37\n",
      "------------\n",
      "SVC(C=100, gamma=0.01) 0.72 0.7823\n",
      "LogisticRegression(random_state=0) 0.64 0.7006\n"
     ]
    },
    {
     "name": "stderr",
     "output_type": "stream",
     "text": [
      "/home/olethros/.local/lib/python3.8/site-packages/sklearn/neural_network/_multilayer_perceptron.py:691: ConvergenceWarning: Stochastic Optimizer: Maximum iterations (300) reached and the optimization hasn't converged yet.\n",
      "  warnings.warn(\n",
      "/home/olethros/.local/lib/python3.8/site-packages/sklearn/neural_network/_multilayer_perceptron.py:691: ConvergenceWarning: Stochastic Optimizer: Maximum iterations (300) reached and the optimization hasn't converged yet.\n",
      "  warnings.warn(\n"
     ]
    },
    {
     "name": "stdout",
     "output_type": "stream",
     "text": [
      "MLPClassifier(max_iter=300, random_state=1) 0.76 0.855\n",
      "Experiment  38\n",
      "------------\n",
      "SVC(C=100, gamma=0.01) 0.84 0.8237\n",
      "LogisticRegression(random_state=0) 0.8 0.7893\n",
      "MLPClassifier(max_iter=300, random_state=1) 0.84 0.845\n",
      "Experiment  39\n",
      "------------\n",
      "SVC(C=100, gamma=0.01) 0.84 0.8108\n",
      "LogisticRegression(random_state=0) 0.76 0.7519\n"
     ]
    },
    {
     "name": "stderr",
     "output_type": "stream",
     "text": [
      "/home/olethros/.local/lib/python3.8/site-packages/sklearn/neural_network/_multilayer_perceptron.py:691: ConvergenceWarning: Stochastic Optimizer: Maximum iterations (300) reached and the optimization hasn't converged yet.\n",
      "  warnings.warn(\n",
      "/home/olethros/.local/lib/python3.8/site-packages/sklearn/neural_network/_multilayer_perceptron.py:691: ConvergenceWarning: Stochastic Optimizer: Maximum iterations (300) reached and the optimization hasn't converged yet.\n",
      "  warnings.warn(\n"
     ]
    },
    {
     "name": "stdout",
     "output_type": "stream",
     "text": [
      "MLPClassifier(max_iter=300, random_state=1) 0.92 0.876\n",
      "Experiment  40\n",
      "------------\n",
      "SVC(C=100, gamma=0.01) 0.76 0.8165\n",
      "LogisticRegression(random_state=0) 0.64 0.6981\n",
      "MLPClassifier(max_iter=300, random_state=1) 0.8 0.8669\n",
      "Experiment  41\n",
      "------------\n",
      "SVC(C=100, gamma=0.01) 0.8 0.8204\n",
      "LogisticRegression(random_state=0) 0.76 0.7541\n"
     ]
    },
    {
     "name": "stderr",
     "output_type": "stream",
     "text": [
      "/home/olethros/.local/lib/python3.8/site-packages/sklearn/neural_network/_multilayer_perceptron.py:691: ConvergenceWarning: Stochastic Optimizer: Maximum iterations (300) reached and the optimization hasn't converged yet.\n",
      "  warnings.warn(\n",
      "/home/olethros/.local/lib/python3.8/site-packages/sklearn/neural_network/_multilayer_perceptron.py:691: ConvergenceWarning: Stochastic Optimizer: Maximum iterations (300) reached and the optimization hasn't converged yet.\n",
      "  warnings.warn(\n"
     ]
    },
    {
     "name": "stdout",
     "output_type": "stream",
     "text": [
      "MLPClassifier(max_iter=300, random_state=1) 0.96 0.8577\n",
      "Experiment  42\n",
      "------------\n",
      "SVC(C=100, gamma=0.01) 0.92 0.8038\n",
      "LogisticRegression(random_state=0) 0.8 0.772\n",
      "MLPClassifier(max_iter=300, random_state=1) 0.84 0.8701\n",
      "Experiment  43\n",
      "------------\n",
      "SVC(C=100, gamma=0.01) 0.72 0.7819\n",
      "LogisticRegression(random_state=0) 0.72 0.7457\n"
     ]
    },
    {
     "name": "stderr",
     "output_type": "stream",
     "text": [
      "/home/olethros/.local/lib/python3.8/site-packages/sklearn/neural_network/_multilayer_perceptron.py:691: ConvergenceWarning: Stochastic Optimizer: Maximum iterations (300) reached and the optimization hasn't converged yet.\n",
      "  warnings.warn(\n",
      "/home/olethros/.local/lib/python3.8/site-packages/sklearn/neural_network/_multilayer_perceptron.py:691: ConvergenceWarning: Stochastic Optimizer: Maximum iterations (300) reached and the optimization hasn't converged yet.\n",
      "  warnings.warn(\n"
     ]
    },
    {
     "name": "stdout",
     "output_type": "stream",
     "text": [
      "MLPClassifier(max_iter=300, random_state=1) 0.72 0.8034\n",
      "Experiment  44\n",
      "------------\n",
      "SVC(C=100, gamma=0.01) 0.72 0.808\n",
      "LogisticRegression(random_state=0) 0.64 0.6981\n",
      "MLPClassifier(max_iter=300, random_state=1) 0.84 0.8671\n",
      "Experiment  45\n",
      "------------\n",
      "SVC(C=100, gamma=0.01) 0.84 0.8075\n",
      "LogisticRegression(random_state=0) 0.68 0.6475\n"
     ]
    },
    {
     "name": "stderr",
     "output_type": "stream",
     "text": [
      "/home/olethros/.local/lib/python3.8/site-packages/sklearn/neural_network/_multilayer_perceptron.py:691: ConvergenceWarning: Stochastic Optimizer: Maximum iterations (300) reached and the optimization hasn't converged yet.\n",
      "  warnings.warn(\n",
      "/home/olethros/.local/lib/python3.8/site-packages/sklearn/neural_network/_multilayer_perceptron.py:691: ConvergenceWarning: Stochastic Optimizer: Maximum iterations (300) reached and the optimization hasn't converged yet.\n",
      "  warnings.warn(\n"
     ]
    },
    {
     "name": "stdout",
     "output_type": "stream",
     "text": [
      "MLPClassifier(max_iter=300, random_state=1) 0.96 0.8522\n",
      "Experiment  46\n",
      "------------\n",
      "SVC(C=100, gamma=0.01) 0.84 0.806\n",
      "LogisticRegression(random_state=0) 0.72 0.7018\n",
      "MLPClassifier(max_iter=300, random_state=1) 0.92 0.8576\n",
      "Experiment  47\n",
      "------------\n",
      "SVC(C=100, gamma=0.01) 0.8 0.817\n",
      "LogisticRegression(random_state=0) 0.72 0.7039\n"
     ]
    },
    {
     "name": "stderr",
     "output_type": "stream",
     "text": [
      "/home/olethros/.local/lib/python3.8/site-packages/sklearn/neural_network/_multilayer_perceptron.py:691: ConvergenceWarning: Stochastic Optimizer: Maximum iterations (300) reached and the optimization hasn't converged yet.\n",
      "  warnings.warn(\n",
      "/home/olethros/.local/lib/python3.8/site-packages/sklearn/neural_network/_multilayer_perceptron.py:691: ConvergenceWarning: Stochastic Optimizer: Maximum iterations (300) reached and the optimization hasn't converged yet.\n",
      "  warnings.warn(\n"
     ]
    },
    {
     "name": "stdout",
     "output_type": "stream",
     "text": [
      "MLPClassifier(max_iter=300, random_state=1) 0.8 0.8753\n",
      "Experiment  48\n",
      "------------\n",
      "SVC(C=100, gamma=0.01) 0.76 0.8046\n",
      "LogisticRegression(random_state=0) 0.68 0.7366\n",
      "MLPClassifier(max_iter=300, random_state=1) 0.84 0.8605\n",
      "Experiment  49\n",
      "------------\n",
      "SVC(C=100, gamma=0.01) 0.88 0.8047\n",
      "LogisticRegression(random_state=0) 0.84 0.7191\n"
     ]
    },
    {
     "name": "stderr",
     "output_type": "stream",
     "text": [
      "/home/olethros/.local/lib/python3.8/site-packages/sklearn/neural_network/_multilayer_perceptron.py:691: ConvergenceWarning: Stochastic Optimizer: Maximum iterations (300) reached and the optimization hasn't converged yet.\n",
      "  warnings.warn(\n",
      "/home/olethros/.local/lib/python3.8/site-packages/sklearn/neural_network/_multilayer_perceptron.py:691: ConvergenceWarning: Stochastic Optimizer: Maximum iterations (300) reached and the optimization hasn't converged yet.\n",
      "  warnings.warn(\n"
     ]
    },
    {
     "name": "stdout",
     "output_type": "stream",
     "text": [
      "MLPClassifier(max_iter=300, random_state=1) 0.88 0.8586\n",
      "Experiment  50\n",
      "------------\n",
      "SVC(C=100, gamma=0.01) 0.76 0.8146\n",
      "LogisticRegression(random_state=0) 0.72 0.715\n",
      "MLPClassifier(max_iter=300, random_state=1) 0.88 0.8672\n",
      "Experiment  51\n",
      "------------\n",
      "SVC(C=100, gamma=0.01) 0.88 0.8175\n",
      "LogisticRegression(random_state=0) 0.76 0.7077\n"
     ]
    },
    {
     "name": "stderr",
     "output_type": "stream",
     "text": [
      "/home/olethros/.local/lib/python3.8/site-packages/sklearn/neural_network/_multilayer_perceptron.py:691: ConvergenceWarning: Stochastic Optimizer: Maximum iterations (300) reached and the optimization hasn't converged yet.\n",
      "  warnings.warn(\n",
      "/home/olethros/.local/lib/python3.8/site-packages/sklearn/neural_network/_multilayer_perceptron.py:691: ConvergenceWarning: Stochastic Optimizer: Maximum iterations (300) reached and the optimization hasn't converged yet.\n",
      "  warnings.warn(\n"
     ]
    },
    {
     "name": "stdout",
     "output_type": "stream",
     "text": [
      "MLPClassifier(max_iter=300, random_state=1) 0.96 0.8643\n",
      "Experiment  52\n",
      "------------\n",
      "SVC(C=100, gamma=0.01) 0.96 0.8226\n",
      "LogisticRegression(random_state=0) 0.92 0.6981\n",
      "MLPClassifier(max_iter=300, random_state=1) 0.96 0.8723\n",
      "Experiment  53\n",
      "------------\n",
      "SVC(C=100, gamma=0.01) 0.84 0.8231\n",
      "LogisticRegression(random_state=0) 0.84 0.7157\n"
     ]
    },
    {
     "name": "stderr",
     "output_type": "stream",
     "text": [
      "/home/olethros/.local/lib/python3.8/site-packages/sklearn/neural_network/_multilayer_perceptron.py:691: ConvergenceWarning: Stochastic Optimizer: Maximum iterations (300) reached and the optimization hasn't converged yet.\n",
      "  warnings.warn(\n",
      "/home/olethros/.local/lib/python3.8/site-packages/sklearn/neural_network/_multilayer_perceptron.py:691: ConvergenceWarning: Stochastic Optimizer: Maximum iterations (300) reached and the optimization hasn't converged yet.\n",
      "  warnings.warn(\n"
     ]
    },
    {
     "name": "stdout",
     "output_type": "stream",
     "text": [
      "MLPClassifier(max_iter=300, random_state=1) 0.96 0.8643\n",
      "Experiment  54\n",
      "------------\n",
      "SVC(C=100, gamma=0.01) 0.88 0.7879\n",
      "LogisticRegression(random_state=0) 0.84 0.7441\n",
      "MLPClassifier(max_iter=300, random_state=1) 0.92 0.8459\n",
      "Experiment  55\n",
      "------------\n",
      "SVC(C=100, gamma=0.01) 0.68 0.7975\n",
      "LogisticRegression(random_state=0) 0.64 0.6981\n"
     ]
    },
    {
     "name": "stderr",
     "output_type": "stream",
     "text": [
      "/home/olethros/.local/lib/python3.8/site-packages/sklearn/neural_network/_multilayer_perceptron.py:691: ConvergenceWarning: Stochastic Optimizer: Maximum iterations (300) reached and the optimization hasn't converged yet.\n",
      "  warnings.warn(\n",
      "/home/olethros/.local/lib/python3.8/site-packages/sklearn/neural_network/_multilayer_perceptron.py:691: ConvergenceWarning: Stochastic Optimizer: Maximum iterations (300) reached and the optimization hasn't converged yet.\n",
      "  warnings.warn(\n"
     ]
    },
    {
     "name": "stdout",
     "output_type": "stream",
     "text": [
      "MLPClassifier(max_iter=300, random_state=1) 0.72 0.8392\n",
      "Experiment  56\n",
      "------------\n",
      "SVC(C=100, gamma=0.01) 0.76 0.816\n",
      "LogisticRegression(random_state=0) 0.72 0.7404\n",
      "MLPClassifier(max_iter=300, random_state=1) 0.84 0.8697\n",
      "Experiment  57\n",
      "------------\n",
      "SVC(C=100, gamma=0.01) 0.84 0.7894\n",
      "LogisticRegression(random_state=0) 0.72 0.7057\n"
     ]
    },
    {
     "name": "stderr",
     "output_type": "stream",
     "text": [
      "/home/olethros/.local/lib/python3.8/site-packages/sklearn/neural_network/_multilayer_perceptron.py:691: ConvergenceWarning: Stochastic Optimizer: Maximum iterations (300) reached and the optimization hasn't converged yet.\n",
      "  warnings.warn(\n",
      "/home/olethros/.local/lib/python3.8/site-packages/sklearn/neural_network/_multilayer_perceptron.py:691: ConvergenceWarning: Stochastic Optimizer: Maximum iterations (300) reached and the optimization hasn't converged yet.\n",
      "  warnings.warn(\n"
     ]
    },
    {
     "name": "stdout",
     "output_type": "stream",
     "text": [
      "MLPClassifier(max_iter=300, random_state=1) 0.96 0.859\n",
      "Experiment  58\n",
      "------------\n",
      "SVC(C=100, gamma=0.01) 0.64 0.7924\n",
      "LogisticRegression(random_state=0) 0.64 0.7493\n",
      "MLPClassifier(max_iter=300, random_state=1) 0.72 0.8311\n",
      "Experiment  59\n",
      "------------\n",
      "SVC(C=100, gamma=0.01) 0.76 0.7919\n",
      "LogisticRegression(random_state=0) 0.68 0.6962\n"
     ]
    },
    {
     "name": "stderr",
     "output_type": "stream",
     "text": [
      "/home/olethros/.local/lib/python3.8/site-packages/sklearn/neural_network/_multilayer_perceptron.py:691: ConvergenceWarning: Stochastic Optimizer: Maximum iterations (300) reached and the optimization hasn't converged yet.\n",
      "  warnings.warn(\n",
      "/home/olethros/.local/lib/python3.8/site-packages/sklearn/neural_network/_multilayer_perceptron.py:691: ConvergenceWarning: Stochastic Optimizer: Maximum iterations (300) reached and the optimization hasn't converged yet.\n",
      "  warnings.warn(\n"
     ]
    },
    {
     "name": "stdout",
     "output_type": "stream",
     "text": [
      "MLPClassifier(max_iter=300, random_state=1) 0.84 0.8446\n",
      "Experiment  60\n",
      "------------\n",
      "SVC(C=100, gamma=0.01) 0.68 0.7857\n",
      "LogisticRegression(random_state=0) 0.6 0.7182\n",
      "MLPClassifier(max_iter=300, random_state=1) 0.84 0.845\n",
      "Experiment  61\n",
      "------------\n",
      "SVC(C=100, gamma=0.01) 0.84 0.7954\n",
      "LogisticRegression(random_state=0) 0.68 0.7343\n"
     ]
    },
    {
     "name": "stderr",
     "output_type": "stream",
     "text": [
      "/home/olethros/.local/lib/python3.8/site-packages/sklearn/neural_network/_multilayer_perceptron.py:691: ConvergenceWarning: Stochastic Optimizer: Maximum iterations (300) reached and the optimization hasn't converged yet.\n",
      "  warnings.warn(\n",
      "/home/olethros/.local/lib/python3.8/site-packages/sklearn/neural_network/_multilayer_perceptron.py:691: ConvergenceWarning: Stochastic Optimizer: Maximum iterations (300) reached and the optimization hasn't converged yet.\n",
      "  warnings.warn(\n"
     ]
    },
    {
     "name": "stdout",
     "output_type": "stream",
     "text": [
      "MLPClassifier(max_iter=300, random_state=1) 0.84 0.8426\n",
      "Experiment  62\n",
      "------------\n",
      "SVC(C=100, gamma=0.01) 0.76 0.7999\n",
      "LogisticRegression(random_state=0) 0.64 0.6981\n",
      "MLPClassifier(max_iter=300, random_state=1) 0.84 0.8602\n",
      "Experiment  63\n",
      "------------\n",
      "SVC(C=100, gamma=0.01) 0.8 0.7951\n",
      "LogisticRegression(random_state=0) 0.76 0.6987\n"
     ]
    },
    {
     "name": "stderr",
     "output_type": "stream",
     "text": [
      "/home/olethros/.local/lib/python3.8/site-packages/sklearn/neural_network/_multilayer_perceptron.py:691: ConvergenceWarning: Stochastic Optimizer: Maximum iterations (300) reached and the optimization hasn't converged yet.\n",
      "  warnings.warn(\n",
      "/home/olethros/.local/lib/python3.8/site-packages/sklearn/neural_network/_multilayer_perceptron.py:691: ConvergenceWarning: Stochastic Optimizer: Maximum iterations (300) reached and the optimization hasn't converged yet.\n",
      "  warnings.warn(\n"
     ]
    },
    {
     "name": "stdout",
     "output_type": "stream",
     "text": [
      "MLPClassifier(max_iter=300, random_state=1) 0.84 0.854\n",
      "Experiment  64\n",
      "------------\n",
      "SVC(C=100, gamma=0.01) 0.88 0.8033\n",
      "LogisticRegression(random_state=0) 0.84 0.6981\n",
      "MLPClassifier(max_iter=300, random_state=1) 0.96 0.8572\n",
      "Experiment  65\n",
      "------------\n",
      "SVC(C=100, gamma=0.01) 0.8 0.8229\n",
      "LogisticRegression(random_state=0) 0.68 0.7222\n"
     ]
    },
    {
     "name": "stderr",
     "output_type": "stream",
     "text": [
      "/home/olethros/.local/lib/python3.8/site-packages/sklearn/neural_network/_multilayer_perceptron.py:691: ConvergenceWarning: Stochastic Optimizer: Maximum iterations (300) reached and the optimization hasn't converged yet.\n",
      "  warnings.warn(\n",
      "/home/olethros/.local/lib/python3.8/site-packages/sklearn/neural_network/_multilayer_perceptron.py:691: ConvergenceWarning: Stochastic Optimizer: Maximum iterations (300) reached and the optimization hasn't converged yet.\n",
      "  warnings.warn(\n"
     ]
    },
    {
     "name": "stdout",
     "output_type": "stream",
     "text": [
      "MLPClassifier(max_iter=300, random_state=1) 0.88 0.8593\n",
      "Experiment  66\n",
      "------------\n",
      "SVC(C=100, gamma=0.01) 0.72 0.8042\n",
      "LogisticRegression(random_state=0) 0.72 0.7758\n",
      "MLPClassifier(max_iter=300, random_state=1) 0.8 0.8549\n",
      "Experiment  67\n",
      "------------\n",
      "SVC(C=100, gamma=0.01) 0.72 0.8103\n",
      "LogisticRegression(random_state=0) 0.64 0.6981\n"
     ]
    },
    {
     "name": "stderr",
     "output_type": "stream",
     "text": [
      "/home/olethros/.local/lib/python3.8/site-packages/sklearn/neural_network/_multilayer_perceptron.py:691: ConvergenceWarning: Stochastic Optimizer: Maximum iterations (300) reached and the optimization hasn't converged yet.\n",
      "  warnings.warn(\n",
      "/home/olethros/.local/lib/python3.8/site-packages/sklearn/neural_network/_multilayer_perceptron.py:691: ConvergenceWarning: Stochastic Optimizer: Maximum iterations (300) reached and the optimization hasn't converged yet.\n",
      "  warnings.warn(\n"
     ]
    },
    {
     "name": "stdout",
     "output_type": "stream",
     "text": [
      "MLPClassifier(max_iter=300, random_state=1) 0.76 0.8497\n",
      "Experiment  68\n",
      "------------\n",
      "SVC(C=100, gamma=0.01) 0.88 0.7886\n",
      "LogisticRegression(random_state=0) 0.76 0.6748\n",
      "MLPClassifier(max_iter=300, random_state=1) 0.96 0.8485\n",
      "Experiment  69\n",
      "------------\n",
      "SVC(C=100, gamma=0.01) 0.76 0.815\n",
      "LogisticRegression(random_state=0) 0.72 0.7588\n"
     ]
    },
    {
     "name": "stderr",
     "output_type": "stream",
     "text": [
      "/home/olethros/.local/lib/python3.8/site-packages/sklearn/neural_network/_multilayer_perceptron.py:691: ConvergenceWarning: Stochastic Optimizer: Maximum iterations (300) reached and the optimization hasn't converged yet.\n",
      "  warnings.warn(\n",
      "/home/olethros/.local/lib/python3.8/site-packages/sklearn/neural_network/_multilayer_perceptron.py:691: ConvergenceWarning: Stochastic Optimizer: Maximum iterations (300) reached and the optimization hasn't converged yet.\n",
      "  warnings.warn(\n"
     ]
    },
    {
     "name": "stdout",
     "output_type": "stream",
     "text": [
      "MLPClassifier(max_iter=300, random_state=1) 0.8 0.8669\n",
      "Experiment  70\n",
      "------------\n",
      "SVC(C=100, gamma=0.01) 0.8 0.794\n",
      "LogisticRegression(random_state=0) 0.76 0.7063\n",
      "MLPClassifier(max_iter=300, random_state=1) 0.88 0.8635\n",
      "Experiment  71\n",
      "------------\n",
      "SVC(C=100, gamma=0.01) 0.72 0.8121\n",
      "LogisticRegression(random_state=0) 0.6 0.6992\n"
     ]
    },
    {
     "name": "stderr",
     "output_type": "stream",
     "text": [
      "/home/olethros/.local/lib/python3.8/site-packages/sklearn/neural_network/_multilayer_perceptron.py:691: ConvergenceWarning: Stochastic Optimizer: Maximum iterations (300) reached and the optimization hasn't converged yet.\n",
      "  warnings.warn(\n",
      "/home/olethros/.local/lib/python3.8/site-packages/sklearn/neural_network/_multilayer_perceptron.py:691: ConvergenceWarning: Stochastic Optimizer: Maximum iterations (300) reached and the optimization hasn't converged yet.\n",
      "  warnings.warn(\n"
     ]
    },
    {
     "name": "stdout",
     "output_type": "stream",
     "text": [
      "MLPClassifier(max_iter=300, random_state=1) 0.84 0.8668\n",
      "Experiment  72\n",
      "------------\n",
      "SVC(C=100, gamma=0.01) 0.76 0.8077\n",
      "LogisticRegression(random_state=0) 0.76 0.7052\n",
      "MLPClassifier(max_iter=300, random_state=1) 0.8 0.87\n",
      "Experiment  73\n",
      "------------\n",
      "SVC(C=100, gamma=0.01) 0.72 0.793\n",
      "LogisticRegression(random_state=0) 0.64 0.6983\n"
     ]
    },
    {
     "name": "stderr",
     "output_type": "stream",
     "text": [
      "/home/olethros/.local/lib/python3.8/site-packages/sklearn/neural_network/_multilayer_perceptron.py:691: ConvergenceWarning: Stochastic Optimizer: Maximum iterations (300) reached and the optimization hasn't converged yet.\n",
      "  warnings.warn(\n",
      "/home/olethros/.local/lib/python3.8/site-packages/sklearn/neural_network/_multilayer_perceptron.py:691: ConvergenceWarning: Stochastic Optimizer: Maximum iterations (300) reached and the optimization hasn't converged yet.\n",
      "  warnings.warn(\n"
     ]
    },
    {
     "name": "stdout",
     "output_type": "stream",
     "text": [
      "MLPClassifier(max_iter=300, random_state=1) 0.84 0.8596\n",
      "Experiment  74\n",
      "------------\n",
      "SVC(C=100, gamma=0.01) 0.8 0.817\n",
      "LogisticRegression(random_state=0) 0.72 0.7223\n",
      "MLPClassifier(max_iter=300, random_state=1) 0.88 0.8731\n",
      "Experiment  75\n",
      "------------\n",
      "SVC(C=100, gamma=0.01) 0.92 0.8006\n",
      "LogisticRegression(random_state=0) 0.8 0.6985\n"
     ]
    },
    {
     "name": "stderr",
     "output_type": "stream",
     "text": [
      "/home/olethros/.local/lib/python3.8/site-packages/sklearn/neural_network/_multilayer_perceptron.py:691: ConvergenceWarning: Stochastic Optimizer: Maximum iterations (300) reached and the optimization hasn't converged yet.\n",
      "  warnings.warn(\n",
      "/home/olethros/.local/lib/python3.8/site-packages/sklearn/neural_network/_multilayer_perceptron.py:691: ConvergenceWarning: Stochastic Optimizer: Maximum iterations (300) reached and the optimization hasn't converged yet.\n",
      "  warnings.warn(\n"
     ]
    },
    {
     "name": "stdout",
     "output_type": "stream",
     "text": [
      "MLPClassifier(max_iter=300, random_state=1) 0.96 0.8548\n",
      "Experiment  76\n",
      "------------\n",
      "SVC(C=100, gamma=0.01) 0.92 0.8172\n",
      "LogisticRegression(random_state=0) 0.88 0.7443\n",
      "MLPClassifier(max_iter=300, random_state=1) 0.92 0.8706\n",
      "Experiment  77\n",
      "------------\n",
      "SVC(C=100, gamma=0.01) 0.68 0.8202\n",
      "LogisticRegression(random_state=0) 0.68 0.7647\n"
     ]
    },
    {
     "name": "stderr",
     "output_type": "stream",
     "text": [
      "/home/olethros/.local/lib/python3.8/site-packages/sklearn/neural_network/_multilayer_perceptron.py:691: ConvergenceWarning: Stochastic Optimizer: Maximum iterations (300) reached and the optimization hasn't converged yet.\n",
      "  warnings.warn(\n",
      "/home/olethros/.local/lib/python3.8/site-packages/sklearn/neural_network/_multilayer_perceptron.py:691: ConvergenceWarning: Stochastic Optimizer: Maximum iterations (300) reached and the optimization hasn't converged yet.\n",
      "  warnings.warn(\n"
     ]
    },
    {
     "name": "stdout",
     "output_type": "stream",
     "text": [
      "MLPClassifier(max_iter=300, random_state=1) 0.84 0.856\n",
      "Experiment  78\n",
      "------------\n",
      "SVC(C=100, gamma=0.01) 0.76 0.8184\n",
      "LogisticRegression(random_state=0) 0.72 0.7013\n",
      "MLPClassifier(max_iter=300, random_state=1) 0.8 0.8741\n",
      "Experiment  79\n",
      "------------\n",
      "SVC(C=100, gamma=0.01) 0.8 0.833\n",
      "LogisticRegression(random_state=0) 0.76 0.7241\n"
     ]
    },
    {
     "name": "stderr",
     "output_type": "stream",
     "text": [
      "/home/olethros/.local/lib/python3.8/site-packages/sklearn/neural_network/_multilayer_perceptron.py:691: ConvergenceWarning: Stochastic Optimizer: Maximum iterations (300) reached and the optimization hasn't converged yet.\n",
      "  warnings.warn(\n",
      "/home/olethros/.local/lib/python3.8/site-packages/sklearn/neural_network/_multilayer_perceptron.py:691: ConvergenceWarning: Stochastic Optimizer: Maximum iterations (300) reached and the optimization hasn't converged yet.\n",
      "  warnings.warn(\n"
     ]
    },
    {
     "name": "stdout",
     "output_type": "stream",
     "text": [
      "MLPClassifier(max_iter=300, random_state=1) 0.84 0.8703\n",
      "Experiment  80\n",
      "------------\n",
      "SVC(C=100, gamma=0.01) 0.84 0.8175\n",
      "LogisticRegression(random_state=0) 0.76 0.781\n",
      "MLPClassifier(max_iter=300, random_state=1) 0.8 0.8373\n",
      "Experiment  81\n",
      "------------\n",
      "SVC(C=100, gamma=0.01) 0.88 0.7708\n",
      "LogisticRegression(random_state=0) 0.76 0.707\n"
     ]
    },
    {
     "name": "stderr",
     "output_type": "stream",
     "text": [
      "/home/olethros/.local/lib/python3.8/site-packages/sklearn/neural_network/_multilayer_perceptron.py:691: ConvergenceWarning: Stochastic Optimizer: Maximum iterations (300) reached and the optimization hasn't converged yet.\n",
      "  warnings.warn(\n",
      "/home/olethros/.local/lib/python3.8/site-packages/sklearn/neural_network/_multilayer_perceptron.py:691: ConvergenceWarning: Stochastic Optimizer: Maximum iterations (300) reached and the optimization hasn't converged yet.\n",
      "  warnings.warn(\n"
     ]
    },
    {
     "name": "stdout",
     "output_type": "stream",
     "text": [
      "MLPClassifier(max_iter=300, random_state=1) 0.92 0.8499\n",
      "Experiment  82\n",
      "------------\n",
      "SVC(C=100, gamma=0.01) 0.76 0.8082\n",
      "LogisticRegression(random_state=0) 0.68 0.7099\n",
      "MLPClassifier(max_iter=300, random_state=1) 0.84 0.8714\n",
      "Experiment  83\n",
      "------------\n",
      "SVC(C=100, gamma=0.01) 0.72 0.8158\n",
      "LogisticRegression(random_state=0) 0.72 0.6986\n"
     ]
    },
    {
     "name": "stderr",
     "output_type": "stream",
     "text": [
      "/home/olethros/.local/lib/python3.8/site-packages/sklearn/neural_network/_multilayer_perceptron.py:691: ConvergenceWarning: Stochastic Optimizer: Maximum iterations (300) reached and the optimization hasn't converged yet.\n",
      "  warnings.warn(\n",
      "/home/olethros/.local/lib/python3.8/site-packages/sklearn/neural_network/_multilayer_perceptron.py:691: ConvergenceWarning: Stochastic Optimizer: Maximum iterations (300) reached and the optimization hasn't converged yet.\n",
      "  warnings.warn(\n"
     ]
    },
    {
     "name": "stdout",
     "output_type": "stream",
     "text": [
      "MLPClassifier(max_iter=300, random_state=1) 0.8 0.8511\n",
      "Experiment  84\n",
      "------------\n",
      "SVC(C=100, gamma=0.01) 0.72 0.7957\n",
      "LogisticRegression(random_state=0) 0.68 0.7005\n",
      "MLPClassifier(max_iter=300, random_state=1) 0.84 0.8377\n",
      "Experiment  85\n",
      "------------\n",
      "SVC(C=100, gamma=0.01) 0.88 0.8249\n",
      "LogisticRegression(random_state=0) 0.68 0.6981\n"
     ]
    },
    {
     "name": "stderr",
     "output_type": "stream",
     "text": [
      "/home/olethros/.local/lib/python3.8/site-packages/sklearn/neural_network/_multilayer_perceptron.py:691: ConvergenceWarning: Stochastic Optimizer: Maximum iterations (300) reached and the optimization hasn't converged yet.\n",
      "  warnings.warn(\n",
      "/home/olethros/.local/lib/python3.8/site-packages/sklearn/neural_network/_multilayer_perceptron.py:691: ConvergenceWarning: Stochastic Optimizer: Maximum iterations (300) reached and the optimization hasn't converged yet.\n",
      "  warnings.warn(\n"
     ]
    },
    {
     "name": "stdout",
     "output_type": "stream",
     "text": [
      "MLPClassifier(max_iter=300, random_state=1) 0.84 0.8752\n",
      "Experiment  86\n",
      "------------\n",
      "SVC(C=100, gamma=0.01) 0.8 0.7925\n",
      "LogisticRegression(random_state=0) 0.72 0.7649\n",
      "MLPClassifier(max_iter=300, random_state=1) 0.8 0.8639\n",
      "Experiment  87\n",
      "------------\n",
      "SVC(C=100, gamma=0.01) 0.88 0.8139\n",
      "LogisticRegression(random_state=0) 0.76 0.7182\n"
     ]
    },
    {
     "name": "stderr",
     "output_type": "stream",
     "text": [
      "/home/olethros/.local/lib/python3.8/site-packages/sklearn/neural_network/_multilayer_perceptron.py:691: ConvergenceWarning: Stochastic Optimizer: Maximum iterations (300) reached and the optimization hasn't converged yet.\n",
      "  warnings.warn(\n",
      "/home/olethros/.local/lib/python3.8/site-packages/sklearn/neural_network/_multilayer_perceptron.py:691: ConvergenceWarning: Stochastic Optimizer: Maximum iterations (300) reached and the optimization hasn't converged yet.\n",
      "  warnings.warn(\n"
     ]
    },
    {
     "name": "stdout",
     "output_type": "stream",
     "text": [
      "MLPClassifier(max_iter=300, random_state=1) 0.8 0.8499\n",
      "Experiment  88\n",
      "------------\n",
      "SVC(C=100, gamma=0.01) 0.92 0.7988\n",
      "LogisticRegression(random_state=0) 0.84 0.7309\n",
      "MLPClassifier(max_iter=300, random_state=1) 0.88 0.8619\n",
      "Experiment  89\n",
      "------------\n",
      "SVC(C=100, gamma=0.01) 0.88 0.794\n",
      "LogisticRegression(random_state=0) 0.8 0.6981\n"
     ]
    },
    {
     "name": "stderr",
     "output_type": "stream",
     "text": [
      "/home/olethros/.local/lib/python3.8/site-packages/sklearn/neural_network/_multilayer_perceptron.py:691: ConvergenceWarning: Stochastic Optimizer: Maximum iterations (300) reached and the optimization hasn't converged yet.\n",
      "  warnings.warn(\n",
      "/home/olethros/.local/lib/python3.8/site-packages/sklearn/neural_network/_multilayer_perceptron.py:691: ConvergenceWarning: Stochastic Optimizer: Maximum iterations (300) reached and the optimization hasn't converged yet.\n",
      "  warnings.warn(\n"
     ]
    },
    {
     "name": "stdout",
     "output_type": "stream",
     "text": [
      "MLPClassifier(max_iter=300, random_state=1) 0.88 0.8339\n",
      "Experiment  90\n",
      "------------\n",
      "SVC(C=100, gamma=0.01) 0.8 0.8182\n",
      "LogisticRegression(random_state=0) 0.76 0.7411\n",
      "MLPClassifier(max_iter=300, random_state=1) 0.8 0.8515\n",
      "Experiment  91\n",
      "------------\n",
      "SVC(C=100, gamma=0.01) 0.76 0.7859\n",
      "LogisticRegression(random_state=0) 0.68 0.6981\n"
     ]
    },
    {
     "name": "stderr",
     "output_type": "stream",
     "text": [
      "/home/olethros/.local/lib/python3.8/site-packages/sklearn/neural_network/_multilayer_perceptron.py:691: ConvergenceWarning: Stochastic Optimizer: Maximum iterations (300) reached and the optimization hasn't converged yet.\n",
      "  warnings.warn(\n",
      "/home/olethros/.local/lib/python3.8/site-packages/sklearn/neural_network/_multilayer_perceptron.py:691: ConvergenceWarning: Stochastic Optimizer: Maximum iterations (300) reached and the optimization hasn't converged yet.\n",
      "  warnings.warn(\n"
     ]
    },
    {
     "name": "stdout",
     "output_type": "stream",
     "text": [
      "MLPClassifier(max_iter=300, random_state=1) 0.84 0.8663\n",
      "Experiment  92\n",
      "------------\n",
      "SVC(C=100, gamma=0.01) 0.84 0.8122\n",
      "LogisticRegression(random_state=0) 0.76 0.7467\n",
      "MLPClassifier(max_iter=300, random_state=1) 0.88 0.852\n",
      "Experiment  93\n",
      "------------\n",
      "SVC(C=100, gamma=0.01) 0.76 0.7826\n",
      "LogisticRegression(random_state=0) 0.6 0.7356\n"
     ]
    },
    {
     "name": "stderr",
     "output_type": "stream",
     "text": [
      "/home/olethros/.local/lib/python3.8/site-packages/sklearn/neural_network/_multilayer_perceptron.py:691: ConvergenceWarning: Stochastic Optimizer: Maximum iterations (300) reached and the optimization hasn't converged yet.\n",
      "  warnings.warn(\n",
      "/home/olethros/.local/lib/python3.8/site-packages/sklearn/neural_network/_multilayer_perceptron.py:691: ConvergenceWarning: Stochastic Optimizer: Maximum iterations (300) reached and the optimization hasn't converged yet.\n",
      "  warnings.warn(\n"
     ]
    },
    {
     "name": "stdout",
     "output_type": "stream",
     "text": [
      "MLPClassifier(max_iter=300, random_state=1) 0.84 0.851\n",
      "Experiment  94\n",
      "------------\n",
      "SVC(C=100, gamma=0.01) 0.76 0.8053\n",
      "LogisticRegression(random_state=0) 0.84 0.7707\n",
      "MLPClassifier(max_iter=300, random_state=1) 0.88 0.8454\n",
      "Experiment  95\n",
      "------------\n",
      "SVC(C=100, gamma=0.01) 0.88 0.7969\n",
      "LogisticRegression(random_state=0) 0.88 0.7416\n"
     ]
    },
    {
     "name": "stderr",
     "output_type": "stream",
     "text": [
      "/home/olethros/.local/lib/python3.8/site-packages/sklearn/neural_network/_multilayer_perceptron.py:691: ConvergenceWarning: Stochastic Optimizer: Maximum iterations (300) reached and the optimization hasn't converged yet.\n",
      "  warnings.warn(\n",
      "/home/olethros/.local/lib/python3.8/site-packages/sklearn/neural_network/_multilayer_perceptron.py:691: ConvergenceWarning: Stochastic Optimizer: Maximum iterations (300) reached and the optimization hasn't converged yet.\n",
      "  warnings.warn(\n"
     ]
    },
    {
     "name": "stdout",
     "output_type": "stream",
     "text": [
      "MLPClassifier(max_iter=300, random_state=1) 0.96 0.8611\n",
      "Experiment  96\n",
      "------------\n",
      "SVC(C=100, gamma=0.01) 0.84 0.7968\n",
      "LogisticRegression(random_state=0) 0.72 0.7015\n",
      "MLPClassifier(max_iter=300, random_state=1) 0.84 0.8616\n",
      "Experiment  97\n",
      "------------\n",
      "SVC(C=100, gamma=0.01) 0.8 0.79\n",
      "LogisticRegression(random_state=0) 0.72 0.6981\n"
     ]
    },
    {
     "name": "stderr",
     "output_type": "stream",
     "text": [
      "/home/olethros/.local/lib/python3.8/site-packages/sklearn/neural_network/_multilayer_perceptron.py:691: ConvergenceWarning: Stochastic Optimizer: Maximum iterations (300) reached and the optimization hasn't converged yet.\n",
      "  warnings.warn(\n",
      "/home/olethros/.local/lib/python3.8/site-packages/sklearn/neural_network/_multilayer_perceptron.py:691: ConvergenceWarning: Stochastic Optimizer: Maximum iterations (300) reached and the optimization hasn't converged yet.\n",
      "  warnings.warn(\n"
     ]
    },
    {
     "name": "stdout",
     "output_type": "stream",
     "text": [
      "MLPClassifier(max_iter=300, random_state=1) 0.92 0.8712\n",
      "Experiment  98\n",
      "------------\n",
      "SVC(C=100, gamma=0.01) 0.88 0.8336\n",
      "LogisticRegression(random_state=0) 0.72 0.7175\n",
      "MLPClassifier(max_iter=300, random_state=1) 0.92 0.8765\n",
      "Experiment  99\n",
      "------------\n",
      "SVC(C=100, gamma=0.01) 0.72 0.7863\n",
      "LogisticRegression(random_state=0) 0.64 0.6794\n",
      "MLPClassifier(max_iter=300, random_state=1) 0.76 0.8329\n"
     ]
    },
    {
     "name": "stderr",
     "output_type": "stream",
     "text": [
      "/home/olethros/.local/lib/python3.8/site-packages/sklearn/neural_network/_multilayer_perceptron.py:691: ConvergenceWarning: Stochastic Optimizer: Maximum iterations (300) reached and the optimization hasn't converged yet.\n",
      "  warnings.warn(\n",
      "/home/olethros/.local/lib/python3.8/site-packages/sklearn/neural_network/_multilayer_perceptron.py:691: ConvergenceWarning: Stochastic Optimizer: Maximum iterations (300) reached and the optimization hasn't converged yet.\n",
      "  warnings.warn(\n"
     ]
    }
   ],
   "source": [
    "n_data = 100 # how much data would we have - this can vary to see how much data we need\n",
    "n_experiments = 100 # More experiments give us higher faith in the result\n",
    "n_evaluation_data = 10000 # this number should be relatively large to get good estimates\n",
    "\n",
    "## Setup\n",
    "from sklearn import svm\n",
    "from sklearn.linear_model import LogisticRegression\n",
    "from sklearn.neural_network import MLPClassifier\n",
    "models = [svm.SVC(gamma=0.01, C=100),\n",
    "         LogisticRegression(random_state=0),\n",
    "         MLPClassifier(random_state=1, max_iter=300)]\n",
    "n_models = len(models)\n",
    "score = np.zeros([n_models, n_experiments])\n",
    "real_score = np.zeros([n_models, n_experiments])\n",
    "\n",
    "[X_eval, y_eval] = generator.generate(n_evaluation_data) # data is generated here only to evaluate the pipeline\n",
    "\n",
    "# The point of the experiment is to evaluate the models and select the best\n",
    "for i in range(n_experiments):\n",
    "    print (\"Experiment \", i);\n",
    "    print (\"------------\");\n",
    "    [X, Y] = generator.generate(n_data) # data is generated here\n",
    "    [X_train, X_test, y_train, y_test] = process_data(X, Y) # processing also splits the data in two parts\n",
    "    k = 0\n",
    "   \n",
    "    for model in models:\n",
    "        Train(model, X_train, y_train)\n",
    "        score[k,i] = Evaluate(model, X_test, y_test)\n",
    "        real_score[k,i] = Evaluate(model, X_eval, y_eval)\n",
    "        print(model, score[k,i], real_score[k,i])\n",
    "        k+=1\n",
    "        "
   ]
  },
  {
   "cell_type": "code",
   "execution_count": 34,
   "metadata": {},
   "outputs": [
    {
     "name": "stdout",
     "output_type": "stream",
     "text": [
      "Average scores [0.8008 0.7312 0.844 ]\n",
      "Actual scores [0.804438 0.721423 0.854468]\n"
     ]
    }
   ],
   "source": [
    "print(\"Average scores\", np.mean(score,axis=1))\n",
    "print(\"Actual scores\", np.mean(real_score,axis=1))"
   ]
  },
  {
   "cell_type": "code",
   "execution_count": 35,
   "metadata": {},
   "outputs": [],
   "source": [
    "import matplotlib.pyplot as plt"
   ]
  },
  {
   "cell_type": "code",
   "execution_count": 38,
   "metadata": {},
   "outputs": [
    {
     "data": {
      "text/plain": [
       "Text(0.5, 1.0, 'Test score distribution')"
      ]
     },
     "execution_count": 38,
     "metadata": {},
     "output_type": "execute_result"
    },
    {
     "data": {
      "image/png": "[encoded data removed]",
      "text/plain": [
       "<Figure size 640x480 with 1 Axes>"
      ]
     },
     "metadata": {},
     "output_type": "display_data"
    }
   ],
   "source": [
    "plt.hist(score[0], histtype=\"step\", density=True)\n",
    "plt.hist(score[1], histtype=\"step\", density=True)\n",
    "plt.hist(score[2], histtype=\"step\", density=True)\n",
    "plt.legend([\"SVM\", \"LR\", \"MLP\"])\n",
    "plt.title(\"Test score distribution\")\n"
   ]
  },
  {
   "cell_type": "code",
   "execution_count": 39,
   "metadata": {},
   "outputs": [
    {
     "data": {
      "text/plain": [
       "Text(0.5, 1.0, 'Actual score distribution')"
      ]
     },
     "execution_count": 39,
     "metadata": {},
     "output_type": "execute_result"
    },
    {
     "data": {
      "image/png": "[encoded data removed]",
      "text/plain": [
       "<Figure size 640x480 with 1 Axes>"
      ]
     },
     "metadata": {},
     "output_type": "display_data"
    }
   ],
   "source": [
    "plt.hist(real_score[0], histtype=\"step\", density=True)\n",
    "plt.hist(real_score[1], histtype=\"step\", density=True)\n",
    "plt.hist(real_score[2], histtype=\"step\", density=True)\n",
    "plt.legend([\"SVM\", \"LR\", \"MLP\"])\n",
    "plt.title(\"Actual score distribution\")\n"
   ]
  },
  {
   "cell_type": "code",
   "execution_count": null,
   "metadata": {},
   "outputs": [],
   "source": []
  }
 ],
 "metadata": {
  "kernelspec": {
   "display_name": "Python 3 (ipykernel)",
   "language": "python",
   "name": "python3"
  },
  "language_info": {
   "codemirror_mode": {
    "name": "ipython",
    "version": 3
   },
   "file_extension": ".py",
   "mimetype": "text/x-python",
   "name": "python",
   "nbconvert_exporter": "python",
   "pygments_lexer": "ipython3",
   "version": "3.8.10"
  }
 },
 "nbformat": 4,
 "nbformat_minor": 4
}
