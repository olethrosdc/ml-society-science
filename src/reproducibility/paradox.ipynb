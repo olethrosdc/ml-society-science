{
 "cells": [
  {
   "cell_type": "markdown",
   "id": "2ce6876d-7474-46df-9be6-4f5e4159b5d6",
   "metadata": {},
   "source": [
    "# Freedman's paradox\n",
    "\n",
    "In this notebook, we study Freedman's paradox. It is a simple paradox, where we perfrom adaptive feature selection. At each step of the procedure, we are selecting \"better\" features, but end up having a worse model. \n",
    "\n",
    "This is one of the reasons why feature selection, and any other \"data cleaning\" procedure might lead to biased results. The problem already appears when we want to fit independent features to a given dependent feature. However, it is much worse when we simply want to discover relationships between features. To see this, note that feature selection for a linear regression problem amounts to answering the question 'which of the n input features are related to the 1 output feature?'. So we need to test $O(n)$ relationships. In the more general setting, we are asking 'which features are related to which other features?'. There we have $O(n^2)$ opportunities to make a mistake!\n",
    "\n",
    "Let us walk through this example.\n"
   ]
  },
  {
   "cell_type": "code",
   "execution_count": 1,
   "id": "adb79aeb-ecf7-42f0-b2e9-58f65bcf6e13",
   "metadata": {},
   "outputs": [],
   "source": [
    "import numpy as np\n",
    "from sklearn.linear_model import LinearRegression\n",
    "import pandas as pd\n",
    "import matplotlib.pyplot as plt"
   ]
  },
  {
   "cell_type": "code",
   "execution_count": 2,
   "id": "cd896750-a0b3-4bf0-88d6-dd2a4f4e341e",
   "metadata": {},
   "outputs": [],
   "source": [
    "# This example makes sense only when the number of featues is of the same order as the number of data points.\n",
    "n_features = 1000\n",
    "n_data = 2 * n_features"
   ]
  },
  {
   "cell_type": "code",
   "execution_count": 3,
   "id": "ae2b578e-16d9-4a9e-87c8-e2fd11969ca4",
   "metadata": {},
   "outputs": [],
   "source": [
    "# Here everything is normally distributed, with none of the features predictive of y\n",
    "X = np.random.normal(size=[n_data, n_features])\n",
    "y = np.random.normal(size=n_data)"
   ]
  },
  {
   "cell_type": "code",
   "execution_count": 4,
   "id": "830198c3",
   "metadata": {},
   "outputs": [],
   "source": [
    "from sklearn.model_selection import train_test_split\n",
    "X_train, X_test, y_train, y_test = train_test_split(X, y)"
   ]
  },
  {
   "cell_type": "markdown",
   "id": "ad498b70",
   "metadata": {},
   "source": [
    "## Regression on the standard featues\n",
    "\n",
    "We can perform regression on the standard features, keeping only those features with low p-value.\n",
    "\n",
    "Since our features have been selected under the null hypothesis, this means that approximately 10% of the features will have a p-value <0.1. That is how p-values are by construction.\n",
    "\n",
    "In the example below, we select 25% of the 'best' features, while also counting the number of features with p-value < 0.05. After keeping the best features, we then refit on them. How do the p-values of the those features look like after refitting?\n"
   ]
  },
  {
   "cell_type": "code",
   "execution_count": 5,
   "id": "a0088368",
   "metadata": {},
   "outputs": [
    {
     "name": "stdout",
     "output_type": "stream",
     "text": [
      "p < 0.25: 237\n",
      "p < 0.05: 35\n"
     ]
    },
    {
     "data": {
      "text/plain": [
       "(array([ 86., 100., 111.,  83.,  90., 114., 109., 110., 100.,  97.]),\n",
       " array([0.00149298, 0.10133937, 0.20118576, 0.30103215, 0.40087854,\n",
       "        0.50072493, 0.60057133, 0.70041772, 0.80026411, 0.9001105 ,\n",
       "        0.99995689]),\n",
       " <BarContainer object of 10 artists>)"
      ]
     },
     "execution_count": 5,
     "metadata": {},
     "output_type": "execute_result"
    },
    {
     "data": {
      "image/png": "[encoded data removed]",
      "text/plain": [
       "<Figure size 640x480 with 1 Axes>"
      ]
     },
     "metadata": {},
     "output_type": "display_data"
    }
   ],
   "source": [
    "# The same, with SM\n",
    "import statsmodels.api as sm\n",
    "results = sm.OLS(y_train, X_train).fit()\n",
    "results.summary()\n",
    "print(\"p < 0.25:\", sum(results.pvalues < 0.25))\n",
    "print(\"p < 0.05:\", sum(results.pvalues < 0.05))\n",
    "plt.hist(results.pvalues)"
   ]
  },
  {
   "cell_type": "code",
   "execution_count": 6,
   "id": "6e8754ec",
   "metadata": {},
   "outputs": [
    {
     "name": "stdout",
     "output_type": "stream",
     "text": [
      "p < 0.25: 185\n",
      "p < 0.05: 115\n"
     ]
    },
    {
     "data": {
      "text/plain": [
       "(array([140.,  34.,  16.,  14.,  11.,   5.,   4.,   4.,   3.,   6.]),\n",
       " array([1.54229363e-05, 9.52715529e-02, 1.90527683e-01, 2.85783813e-01,\n",
       "        3.81039943e-01, 4.76296073e-01, 5.71552203e-01, 6.66808333e-01,\n",
       "        7.62064463e-01, 8.57320593e-01, 9.52576723e-01]),\n",
       " <BarContainer object of 10 artists>)"
      ]
     },
     "execution_count": 6,
     "metadata": {},
     "output_type": "execute_result"
    },
    {
     "data": {
      "image/png": "[encoded data removed]",
      "text/plain": [
       "<Figure size 640x480 with 1 Axes>"
      ]
     },
     "metadata": {},
     "output_type": "display_data"
    }
   ],
   "source": [
    "# Now let us refit the regressor on some selected features\n",
    "# We can see that we have many more 'significant' results\n",
    "selected = results.pvalues < 0.25\n",
    "refitted_results = sm.OLS(y_train, X_train[:,selected]).fit()\n",
    "refitted_results.summary()\n",
    "print(\"p < 0.25:\", sum(refitted_results.pvalues < 0.25))\n",
    "print(\"p < 0.05:\", sum(refitted_results.pvalues < 0.05))\n",
    "plt.hist(refitted_results.pvalues)"
   ]
  },
  {
   "cell_type": "markdown",
   "id": "8332eafa",
   "metadata": {},
   "source": [
    "We see that the selected features are now concentrated around 0.01. Indeed, if the p-values had not changed, we would expect to see a uniform distribution in the interval [0, 0.25]. However, refitting on those features created a new, non-uniform, p-value distribution.\n",
    "\n",
    "Note that more clever libraries for feature selection may try to avoid this kind of bias by using holdout sets or cross validation. However, you should always test them using a method such as this: do they work as intended?"
   ]
  },
  {
   "cell_type": "markdown",
   "id": "04ad5baa",
   "metadata": {},
   "source": [
    "## Overfitting on the holdout set\n",
    "\n",
    "It is even possible to overfit on the holdout set. We can do so by finding the best possible combination of features in terms of performance of the holdout set. Then we are *de facto* optimising something on the holdout set. Hence, any measurement we make there is going to be biased.\n",
    "\n",
    "### The Dwork et al experiment\n",
    "\n",
    "In their 2015 paper \"Generalization in Adaptive Data Analysis and Holdout Reuse\", the authors describe the following procedure:\n",
    "\n",
    "For each feature $i$ and dataset $D \\in \\{D_H, D_T\\}$ being either the holdout or training set, compute the feature correlation \n",
    "$w_i^D = \\sum_{(x,y) \\in D} x_i y$.\n",
    "\n",
    "Then, select the features\n",
    "$W = \\{ i : w_i^{D_T} w_i^{D_H} > 0 \\wedge |w_i^{D_T}| \\geq 1/\\sqrt{n} \\wedge |w_i^{D_H}| \\geq 1/\\sqrt{n}$.\n",
    "\n",
    "Of course, this is going to have a very good performance on the hold-out set, as it uses the hold-out labels directly.\n",
    "\n",
    "### An alternative experiment\n",
    "\n",
    "Here we can simply choose the model that is the best without full access to the holdout set, but just a measurement of its value.\n",
    "We can simply choose the best combination of labels on the holdout set."
   ]
  },
  {
   "cell_type": "code",
   "execution_count": 14,
   "id": "09143319",
   "metadata": {},
   "outputs": [],
   "source": [
    "# First, rank the features in terms of p-values\n",
    "\n",
    "prank = np.argsort(results.pvalues)  # first values have lowest p-values\n",
    "max_features = 16 # select the top 10 features\n"
   ]
  },
  {
   "cell_type": "code",
   "execution_count": 15,
   "id": "c1afe538",
   "metadata": {},
   "outputs": [],
   "source": [
    "from itertools import chain, combinations\n",
    "def powerset(iterable):\n",
    "    \"powerset([1,2,3]) --> () (1,) (2,) (3,) (1,2) (1,3) (2,3) (1,2,3)\"\n",
    "    s = list(iterable)\n",
    "    return chain.from_iterable(combinations(s, r) for r in range(len(s)+1))\n",
    "\n",
    "feature_list = list(powerset(range(max_features)))[1:]"
   ]
  },
  {
   "cell_type": "code",
   "execution_count": null,
   "id": "40abc1b4",
   "metadata": {},
   "outputs": [
    {
     "name": "stdout",
     "output_type": "stream",
     "text": [
      "-0.011920196055907217 [817]\n",
      "-0.0013658566778504966 [303]\n",
      "-0.00019676887548047972 [525]\n",
      "6.729393360127567e-05 [433]\n",
      "0.0013529131926877103 [994]\n",
      "0.0018885080644192032 [525 994]\n",
      "0.0022097898508146585 [433 994]\n",
      "0.002743453136593743 [525 433 994]\n",
      "0.0027626173290377087 [433 994 197]\n",
      "0.003227694805792547 [525 433 994 197]\n"
     ]
    }
   ],
   "source": [
    "from sklearn.linear_model import LinearRegression\n",
    "best_score = -np.inf\n",
    "best_features = None\n",
    "for features in feature_list:\n",
    "    #print(np.array(features))\n",
    "    selected_features = prank[np.array(features)]\n",
    "    #print(\"Feature tested:\", selected_features)\n",
    "    X_sel = X_train[:, selected_features]\n",
    "    X_test_sel = X_test[:, selected_features]\n",
    "    reg = LinearRegression().fit(X_sel, y_train)\n",
    "    score = reg.score(X_test_sel, y_test)\n",
    "    #print(\"Test score: \", score)\n",
    "    if (score > best_score):\n",
    "        best_score = score\n",
    "        best_features = selected_features\n",
    "        print(score, best_features)\n"
   ]
  },
  {
   "cell_type": "code",
   "execution_count": 10,
   "id": "55f5edf5",
   "metadata": {},
   "outputs": [
    {
     "ename": "SyntaxError",
     "evalue": "incomplete input (2507622753.py, line 1)",
     "output_type": "error",
     "traceback": [
      "\u001b[0;36m  Cell \u001b[0;32mIn [10], line 1\u001b[0;36m\u001b[0m\n\u001b[0;31m    np.unpackbits(a, axis=1\u001b[0m\n\u001b[0m                           ^\u001b[0m\n\u001b[0;31mSyntaxError\u001b[0m\u001b[0;31m:\u001b[0m incomplete input\n"
     ]
    }
   ],
   "source": [
    "np.unpackbits(a, axis=1"
   ]
  },
  {
   "cell_type": "code",
   "execution_count": null,
   "id": "10033888",
   "metadata": {},
   "outputs": [],
   "source": []
  }
 ],
 "metadata": {
  "kernelspec": {
   "display_name": "Python 3 (ipykernel)",
   "language": "python",
   "name": "python3"
  },
  "language_info": {
   "codemirror_mode": {
    "name": "ipython",
    "version": 3
   },
   "file_extension": ".py",
   "mimetype": "text/x-python",
   "name": "python",
   "nbconvert_exporter": "python",
   "pygments_lexer": "ipython3",
   "version": "3.11.2"
  }
 },
 "nbformat": 4,
 "nbformat_minor": 5
}
