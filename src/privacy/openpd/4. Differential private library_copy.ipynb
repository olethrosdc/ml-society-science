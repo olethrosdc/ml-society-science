{
 "cells": [
  {
   "cell_type": "code",
   "execution_count": 24,
   "id": "4c86bed6",
   "metadata": {},
   "outputs": [],
   "source": [
    "import pandas as pd\n",
    "import numpy as np\n",
    "import matplotlib.pyplot as plt\n",
    "import diffprivlib\n",
    "import math"
   ]
  },
  {
   "cell_type": "markdown",
   "id": "20e07dd5",
   "metadata": {},
   "source": [
    "# Diffprivlib\n",
    "\n",
    "Diffprivlib is a general-purpose library for experimenting with, investigating and developing applications in, differential privacy\n",
    "\n",
    "Diffprivlib is comprised of four major components:\n",
    "\n",
    "- **Mechanisms:** These are the building blocks of differential privacy, and are used in all models that implement differential privacy. Mechanisms have little or no default settings, and are intended for use by experts implementing their own models. They can, however, be used outside models for separate investigations, etc.\n",
    "- **Models:** This module includes machine learning models with differential privacy. Diffprivlib currently has models for clustering, classification, regression, dimensionality reduction and pre-processing.\n",
    "- **Tools:** Diffprivlib comes with a number of generic tools for differentially private data analysis. This includes differentially private histograms, following the same format as Numpy's histogram function.\n",
    "- **Accountant:** The BudgetAccountant class can be used to track privacy budget and calculate total privacy loss using advanced composition techniques.\n",
    "\n",
    "Diffpriblib has simar api like sklearn and numpy so its realy easy to use."
   ]
  },
  {
   "cell_type": "code",
   "execution_count": 25,
   "id": "20ee6802",
   "metadata": {},
   "outputs": [],
   "source": [
    "from sklearn import datasets\n",
    "from sklearn.model_selection import train_test_split\n",
    "\n",
    "dataset = datasets.load_iris(as_frame=True)['frame']\n",
    "target= \"target\"\n",
    "features = dataset.columns.difference([target])"
   ]
  },
  {
   "cell_type": "markdown",
   "id": "6e33ac7c",
   "metadata": {},
   "source": [
    "# split the dataset in training and test set"
   ]
  },
  {
   "cell_type": "code",
   "execution_count": 32,
   "id": "c0117fab",
   "metadata": {},
   "outputs": [],
   "source": [
    "X_train, X_test, y_train, y_test = train_test_split(dataset[features], dataset[[target]], test_size=0.2)"
   ]
  },
  {
   "cell_type": "markdown",
   "id": "82081359",
   "metadata": {},
   "source": [
    "# A. Data analysis"
   ]
  },
  {
   "cell_type": "markdown",
   "id": "336cf517",
   "metadata": {},
   "source": [
    "# A1. Histogram\n",
    "use Diffprivlib histogram to vizualise your data"
   ]
  },
  {
   "cell_type": "code",
   "execution_count": 196,
   "id": "a1878324",
   "metadata": {},
   "outputs": [
    {
     "name": "stderr",
     "output_type": "stream",
     "text": [
      "/home/andreas/projects/env/general-ml/lib/python3.10/site-packages/diffprivlib/tools/histograms.py:137: PrivacyLeakWarning: Range parameter has not been specified. Falling back to taking range from the data.\n",
      "To ensure differential privacy, and no additional privacy leakage, the range must be specified independently of the data (i.e., using domain knowledge).\n",
      "  warnings.warn(\"Range parameter has not been specified. Falling back to taking range from the data.\\n\"\n",
      "/home/andreas/projects/env/general-ml/lib/python3.10/site-packages/diffprivlib/tools/histograms.py:137: PrivacyLeakWarning: Range parameter has not been specified. Falling back to taking range from the data.\n",
      "To ensure differential privacy, and no additional privacy leakage, the range must be specified independently of the data (i.e., using domain knowledge).\n",
      "  warnings.warn(\"Range parameter has not been specified. Falling back to taking range from the data.\\n\"\n"
     ]
    }
   ],
   "source": [
    "from diffprivlib.tools import histogram\n",
    "\n",
    "espilon = 0.1 \n",
    "counts, bins = diffprivlib.tools.histogram(X_train[features[0]], epsilon=1.0, bins=20)\n",
    "counts_true, bins_true = diffprivlib.tools.histogram(X_train[features[0]], epsilon=float(\"inf\"), bins=20)"
   ]
  },
  {
   "cell_type": "code",
   "execution_count": 200,
   "id": "70386bc4",
   "metadata": {},
   "outputs": [
    {
     "data": {
      "image/png": "[encoded data removed]",
      "text/plain": [
       "<Figure size 640x480 with 1 Axes>"
      ]
     },
     "metadata": {},
     "output_type": "display_data"
    }
   ],
   "source": [
    "plt.figure()\n",
    "\n",
    "plt.bar(height = counts_true,\n",
    "        x = bins_true[:-1],\n",
    "        width=(bins_true[1]-bins_true[0]),\n",
    "        alpha = 1.0)\n",
    "\n",
    "plt.bar(height = counts,\n",
    "        x = bins[:-1],\n",
    "        width=(bins[1]-bins[0]),\n",
    "        alpha = 0.6)\n",
    "\n",
    "plt.title(\"Private Histogram\")\n",
    "plt.xlabel(\"x\")\n",
    "plt.ylabel(\"counts\")\n",
    "plt.show()\n",
    "plt.close()"
   ]
  },
  {
   "cell_type": "markdown",
   "id": "6419fd17",
   "metadata": {},
   "source": [
    "# B. train different model\n",
    "\n",
    "we will try to train Naive Bayes classifier using sklearn and Diffprivlib to see the diferent"
   ]
  },
  {
   "cell_type": "markdown",
   "id": "cf8db833",
   "metadata": {},
   "source": [
    "### B1. train Naive Bayes classifier using sklearn\n",
    "Train Naive Bayes classifier using sklearn in order to have a ground thruth."
   ]
  },
  {
   "cell_type": "code",
   "execution_count": 98,
   "id": "1421b715",
   "metadata": {},
   "outputs": [
    {
     "name": "stdout",
     "output_type": "stream",
     "text": [
      "0.9\n"
     ]
    }
   ],
   "source": [
    "from sklearn.naive_bayes import GaussianNB\n",
    "\n",
    "model = GaussianNB()\n",
    "model.fit(X_train, y_train[target])\n",
    "sklearn_error = model.score(X_test,y_test[target])\n",
    "print(sklearn_error)"
   ]
  },
  {
   "cell_type": "markdown",
   "id": "c843ee0e",
   "metadata": {},
   "source": [
    "### B2. train Naive Bayes classifier using Diffprivlib\n",
    "Train Naive Bayes classifier using Diffprivlib for different espilon and compare them to the sklearn clasifier"
   ]
  },
  {
   "cell_type": "code",
   "execution_count": 157,
   "id": "43978171",
   "metadata": {},
   "outputs": [],
   "source": [
    "epsilons = np.logspace(-2, 2, 20)"
   ]
  },
  {
   "cell_type": "code",
   "execution_count": 158,
   "id": "273392d3",
   "metadata": {},
   "outputs": [],
   "source": [
    "bounds = (np.min(X_test, axis=0), np.max(X_test, axis=0))"
   ]
  },
  {
   "cell_type": "code",
   "execution_count": 168,
   "id": "a953e2cf",
   "metadata": {},
   "outputs": [],
   "source": [
    "from diffprivlib.models import GaussianNB as private_GaussianNB\n",
    "\n",
    "errors, std_errors = [], []\n",
    "for epsilon in epsilons:\n",
    "    e_error = []\n",
    "    for _ in range(20):\n",
    "        private_model = private_GaussianNB(epsilon=epsilon,bounds=bounds)\n",
    "        private_model.fit(X_train, y_train[target])\n",
    "    \n",
    "        tmp_error = private_model.score(X_test,y_test[target])\n",
    "        e_error.append(tmp_error)\n",
    "    errors.append(np.mean(e_error))\n",
    "    std_errors.append(np.std(e_error))"
   ]
  },
  {
   "cell_type": "code",
   "execution_count": 178,
   "id": "6b7954ad",
   "metadata": {},
   "outputs": [
    {
     "data": {
      "text/plain": [
       "Text(0, 0.5, 'accuracy')"
      ]
     },
     "execution_count": 178,
     "metadata": {},
     "output_type": "execute_result"
    },
    {
     "data": {
      "image/png": "[encoded data removed]",
      "text/plain": [
       "<Figure size 640x480 with 1 Axes>"
      ]
     },
     "metadata": {},
     "output_type": "display_data"
    }
   ],
   "source": [
    "plt.semilogx(epsilons, errors)\n",
    "plt.fill_between(epsilons, \n",
    "                 np.array(errors) - np.array(std_errors),\n",
    "                 np.array(errors) + np.array(std_errors),\n",
    "                 alpha=0.2)\n",
    "plt.title(\"Accuracy of private classifiers\")\n",
    "plt.xlabel(\"epsilon\")\n",
    "plt.ylabel(\"accuracy\")"
   ]
  },
  {
   "cell_type": "markdown",
   "id": "3abc4a57",
   "metadata": {},
   "source": [
    "### B3. try very large epsilon\n",
    "try epsilon of float(\"inf\") to check the behevior of the model"
   ]
  },
  {
   "cell_type": "code",
   "execution_count": 182,
   "id": "59c87b34",
   "metadata": {},
   "outputs": [],
   "source": [
    "epsilon = float(\"inf\")"
   ]
  },
  {
   "cell_type": "code",
   "execution_count": 183,
   "id": "5d9d7f67",
   "metadata": {},
   "outputs": [
    {
     "name": "stdout",
     "output_type": "stream",
     "text": [
      "0.9\n"
     ]
    }
   ],
   "source": [
    "private_model = private_GaussianNB(epsilon=epsilon, bounds=bounds)\n",
    "private_model.fit(X_train, y_train[target])\n",
    "\n",
    "tmp_error = private_model.score(X_test,y_test[target])\n",
    "print(tmp_error)"
   ]
  },
  {
   "cell_type": "code",
   "execution_count": 184,
   "id": "976eecaa",
   "metadata": {},
   "outputs": [
    {
     "name": "stdout",
     "output_type": "stream",
     "text": [
      "0.9\n"
     ]
    }
   ],
   "source": [
    "print(sklearn_error)"
   ]
  }
 ],
 "metadata": {
  "kernelspec": {
   "display_name": "general-ml",
   "language": "python",
   "name": "general-ml"
  },
  "language_info": {
   "codemirror_mode": {
    "name": "ipython",
    "version": 3
   },
   "file_extension": ".py",
   "mimetype": "text/x-python",
   "name": "python",
   "nbconvert_exporter": "python",
   "pygments_lexer": "ipython3",
   "version": "3.10.6"
  }
 },
 "nbformat": 4,
 "nbformat_minor": 5
}
