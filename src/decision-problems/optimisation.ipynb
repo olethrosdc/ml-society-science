{
 "cells": [
  {
   "cell_type": "code",
   "execution_count": 1,
   "id": "8ad93cb2",
   "metadata": {},
   "outputs": [],
   "source": [
    "import tensorflow as tf"
   ]
  },
  {
   "cell_type": "code",
   "execution_count": 2,
   "id": "5465541e",
   "metadata": {},
   "outputs": [],
   "source": [
    "# Declaring constants\n",
    "c = tf.constant([-1.0, 2.0])"
   ]
  },
  {
   "cell_type": "code",
   "execution_count": 3,
   "id": "26019df5",
   "metadata": {},
   "outputs": [],
   "source": [
    "# Declaring variables"
   ]
  },
  {
   "cell_type": "code",
   "execution_count": 4,
   "id": "bdb6fd66",
   "metadata": {},
   "outputs": [],
   "source": [
    "v = tf.Variable([1.0, 2.0])"
   ]
  },
  {
   "cell_type": "code",
   "execution_count": 5,
   "id": "0292dac9",
   "metadata": {},
   "outputs": [
    {
     "data": {
      "text/plain": [
       "array([1., 2.], dtype=float32)"
      ]
     },
     "execution_count": 5,
     "metadata": {},
     "output_type": "execute_result"
    }
   ],
   "source": [
    "# Show variable\n",
    "v.numpy()"
   ]
  },
  {
   "cell_type": "markdown",
   "id": "fbe98e08",
   "metadata": {},
   "source": [
    "# Simple Optimization"
   ]
  },
  {
   "cell_type": "code",
   "execution_count": 6,
   "id": "973db3c8",
   "metadata": {},
   "outputs": [],
   "source": [
    "opt = tf.optimizers.SGD()"
   ]
  },
  {
   "cell_type": "code",
   "execution_count": 7,
   "id": "23dad0e0",
   "metadata": {},
   "outputs": [],
   "source": [
    "# Gradient tapes!\n",
    "with tf.GradientTape() as tape:\n",
    "    y = tf.tensordot(c, v, 1) -1"
   ]
  },
  {
   "cell_type": "code",
   "execution_count": 8,
   "id": "ab63f3ca",
   "metadata": {},
   "outputs": [
    {
     "data": {
      "text/plain": [
       "<tf.Tensor: shape=(), dtype=float32, numpy=3.0>"
      ]
     },
     "execution_count": 8,
     "metadata": {},
     "output_type": "execute_result"
    }
   ],
   "source": [
    "tf.tensordot(c,v,1)"
   ]
  },
  {
   "cell_type": "code",
   "execution_count": 9,
   "id": "05a53a7c",
   "metadata": {},
   "outputs": [],
   "source": [
    "# you can define it as a lambda function! It's the same thing.\n",
    "#loss = lambda: tf.square(tf.tensordot(c,v,1)-1)\n",
    "def loss():\n",
    "    return tf.square(tf.tensordot(c,v,1)-1)"
   ]
  },
  {
   "cell_type": "code",
   "execution_count": 10,
   "id": "3fa01a41",
   "metadata": {},
   "outputs": [],
   "source": [
    "opt.minimize(loss, var_list=[v])"
   ]
  },
  {
   "cell_type": "code",
   "execution_count": 11,
   "id": "77b5a5f5",
   "metadata": {},
   "outputs": [],
   "source": [
    "var_vals, loss_vals = [], []\n",
    "for _ in range(100):\n",
    "    opt.minimize(loss, var_list = [v])\n",
    "    var_vals.append(v.numpy())\n",
    "    loss_vals.append(loss())"
   ]
  },
  {
   "cell_type": "code",
   "execution_count": 12,
   "id": "989e9a9b",
   "metadata": {},
   "outputs": [
    {
     "data": {
      "text/plain": [
       "[<matplotlib.lines.Line2D at 0x7fd5b1d9fc70>,\n",
       " <matplotlib.lines.Line2D at 0x7fd5b1d9fcd0>]"
      ]
     },
     "execution_count": 12,
     "metadata": {},
     "output_type": "execute_result"
    },
    {
     "data": {
      "image/png": "[encoded data removed]",
      "text/plain": [
       "<Figure size 432x288 with 1 Axes>"
      ]
     },
     "metadata": {
      "needs_background": "light"
     },
     "output_type": "display_data"
    }
   ],
   "source": [
    "import matplotlib.pyplot as plt\n",
    "plt.plot(var_vals)"
   ]
  },
  {
   "cell_type": "code",
   "execution_count": 13,
   "id": "ca3da6ec",
   "metadata": {},
   "outputs": [
    {
     "data": {
      "text/plain": [
       "[<matplotlib.lines.Line2D at 0x7fd5c38beac0>]"
      ]
     },
     "execution_count": 13,
     "metadata": {},
     "output_type": "execute_result"
    },
    {
     "data": {
      "image/png": "[encoded data removed]",
      "text/plain": [
       "<Figure size 432x288 with 1 Axes>"
      ]
     },
     "metadata": {
      "needs_background": "light"
     },
     "output_type": "display_data"
    }
   ],
   "source": [
    "plt.plot(loss_vals)"
   ]
  },
  {
   "cell_type": "markdown",
   "id": "9fd40c77",
   "metadata": {},
   "source": [
    "# Optimising an integral function\n",
    "# $\\max_a \\int_\\Omega dP(\\omega) f_\\omega(a)$\n",
    "# We can calculate the gradient as follows:\n",
    "# $\\nabla_a \\int_\\Omega dP(\\omega) f_\\omega(a) = \\int_\\Omega dP(\\omega) \\nabla_a f_\\omega(a)$\n",
    "# This is actually identical to the expected gradient:\n",
    "# $\\int_\\Omega dP(\\omega) [\\nabla_a f_\\omega(a)] = E_{\\omega \\sim P} [\\nabla_a f_\\omega(a)]$\n",
    "# Consequently,\n",
    "# $E_{\\omega \\sim P} [\\nabla_a f_\\omega(a)]  \\approx \\frac{1}{K} \\sum_{k=1}^K [\\nabla_a f_{\\omega^k}(a)]$ with $\\omega^k \\sim P$. \n",
    "# In addition\n",
    "# $E_{\\omega \\sim P} [\\nabla_a f_\\omega(a)] = E_{\\omega^{k} \\sim P} \\{ \\frac{1}{K} \\sum_{k=1}^K [\\nabla_a f_{\\omega^k}(a)] \\}$. "
   ]
  },
  {
   "cell_type": "code",
   "execution_count": 14,
   "id": "ca03cc20",
   "metadata": {},
   "outputs": [],
   "source": [
    "import tensorflow_probability as tfp\n",
    "tfd = tfp.distributions\n",
    "dist = tfd.Normal(loc=1,scale=1)\n"
   ]
  },
  {
   "cell_type": "code",
   "execution_count": 15,
   "id": "525d089c",
   "metadata": {},
   "outputs": [
    {
     "data": {
      "text/plain": [
       "[<matplotlib.lines.Line2D at 0x7fd5b0c65550>]"
      ]
     },
     "execution_count": 15,
     "metadata": {},
     "output_type": "execute_result"
    },
    {
     "data": {
      "image/png": "[encoded data removed]",
      "text/plain": [
       "<Figure size 432x288 with 1 Axes>"
      ]
     },
     "metadata": {
      "needs_background": "light"
     },
     "output_type": "display_data"
    }
   ],
   "source": [
    "import tensorflow as tf\n",
    "opt = tf.optimizers.SGD()\n",
    "import numpy as np\n",
    "a = tf.Variable(0.0) # my action variable\n",
    "\n",
    "## Sample from the distribution\n",
    "n_samples=100\n",
    "omega = dist.sample([n_samples]) \n",
    "\n",
    "## minimise the squared difference\n",
    "loss = lambda : (sample - a)**2 #loss function\n",
    "\n",
    "## Loop set-up\n",
    "n_iter=int (1000 / n_samples)\n",
    "n_steps = n_iter * n_samples\n",
    "value = np.zeros(n_steps) # save the values\n",
    "\n",
    "# Hand implementation of SGD\n",
    "t=0\n",
    "for _ in range(n_iter):\n",
    "    for i in range(n_samples):\n",
    "        # fill in!\n",
    "        sample = tf.constant(omega[i])\n",
    "        opt.minimize(loss, var_list=[a])\n",
    "        value[t] = a\n",
    "        t+=1\n",
    "# Plot result\n",
    "import matplotlib.pyplot as plt\n",
    "plt.plot(value)"
   ]
  },
  {
   "cell_type": "code",
   "execution_count": 16,
   "id": "c53f0d13",
   "metadata": {},
   "outputs": [
    {
     "data": {
      "text/plain": [
       "<tf.Tensor: shape=(100,), dtype=float32, numpy=\n",
       "array([ 1.3223017 , -0.16216314,  0.48805338,  1.6982319 ,  1.5891457 ,\n",
       "        1.031867  ,  2.572099  ,  0.9810492 ,  1.6855717 ,  0.9398099 ,\n",
       "        1.6095955 ,  0.7539996 ,  0.01526392,  1.0324743 ,  1.1373962 ,\n",
       "       -0.07760549,  0.838169  ,  0.74338245,  1.148566  , -0.17842102,\n",
       "        2.0477333 ,  1.3108156 , -0.09380472, -0.3155682 ,  1.8928533 ,\n",
       "        0.7314577 ,  0.87332124,  0.5153047 ,  0.14156938,  0.7474023 ,\n",
       "        1.4693627 , -1.0781646 ,  1.7938588 ,  1.1816672 ,  0.32647943,\n",
       "       -0.05736017,  2.3421745 ,  0.49155885,  1.0509897 ,  0.4894402 ,\n",
       "       -0.81663346,  0.6627873 ,  1.196369  ,  0.811756  ,  0.8852307 ,\n",
       "        2.9286156 ,  0.61399573, -0.35294282,  1.9472978 , -0.7404256 ,\n",
       "        0.85144955,  0.499242  ,  0.92991275,  0.83308434,  1.957066  ,\n",
       "        1.0065278 ,  0.9338704 ,  1.9336573 ,  3.468371  ,  1.6805372 ,\n",
       "        0.70190203, -0.2411058 ,  1.4831612 ,  0.16016364,  2.0873983 ,\n",
       "        0.46177483,  1.5458131 ,  1.9491806 ,  1.2588611 ,  1.8299491 ,\n",
       "        0.29937887,  0.7682259 ,  0.29807442, -0.3499546 ,  0.73642933,\n",
       "       -0.23508513,  1.3228269 ,  1.02582   , -0.14676404,  1.683974  ,\n",
       "        0.16411346,  2.207818  ,  0.4848498 ,  0.86011344, -0.15297341,\n",
       "        0.8249942 ,  0.98429686,  1.1522918 , -0.59046245,  3.3294377 ,\n",
       "        0.1503464 , -0.851383  ,  0.5310799 ,  1.5857255 ,  1.3736886 ,\n",
       "        0.5939833 , -0.07428753, -1.0597169 ,  1.6965691 ,  2.6478448 ],\n",
       "      dtype=float32)>"
      ]
     },
     "execution_count": 16,
     "metadata": {},
     "output_type": "execute_result"
    }
   ],
   "source": [
    "omega"
   ]
  },
  {
   "cell_type": "code",
   "execution_count": 18,
   "id": "737525f5",
   "metadata": {},
   "outputs": [
    {
     "data": {
      "text/plain": [
       "0.88758004"
      ]
     },
     "execution_count": 18,
     "metadata": {},
     "output_type": "execute_result"
    }
   ],
   "source": [
    "np.mean(omega)"
   ]
  },
  {
   "cell_type": "code",
   "execution_count": null,
   "id": "fad3d654",
   "metadata": {},
   "outputs": [],
   "source": []
  }
 ],
 "metadata": {
  "kernelspec": {
   "display_name": "Python 3 (ipykernel)",
   "language": "python",
   "name": "python3"
  },
  "language_info": {
   "codemirror_mode": {
    "name": "ipython",
    "version": 3
   },
   "file_extension": ".py",
   "mimetype": "text/x-python",
   "name": "python",
   "nbconvert_exporter": "python",
   "pygments_lexer": "ipython3",
   "version": "3.9.2"
  }
 },
 "nbformat": 4,
 "nbformat_minor": 5
}
